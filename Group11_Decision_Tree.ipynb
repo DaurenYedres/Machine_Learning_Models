{
  "nbformat": 4,
  "nbformat_minor": 0,
  "metadata": {
    "colab": {
      "provenance": []
    },
    "kernelspec": {
      "name": "python3",
      "display_name": "Python 3"
    },
    "language_info": {
      "name": "python"
    }
  },
  "cells": [
    {
      "cell_type": "code",
      "execution_count": 1,
      "metadata": {
        "id": "C28nMSU-S_7h"
      },
      "outputs": [],
      "source": [
        "import seaborn as sb\n",
        "import pandas as pd\n",
        "import numpy as np\n",
        "import matplotlib.pyplot as plt\n",
        "from sklearn.cluster import KMeans\n",
        "from sklearn import linear_model\n",
        "from sklearn.model_selection import train_test_split"
      ]
    },
    {
      "cell_type": "code",
      "source": [
        "from google.colab import drive\n",
        "drive.mount('/content/drive')"
      ],
      "metadata": {
        "colab": {
          "base_uri": "https://localhost:8080/"
        },
        "id": "Qi1OJ8l6Takq",
        "outputId": "59466689-c8e3-4a0d-84c8-1bb0ade3a6ba"
      },
      "execution_count": 2,
      "outputs": [
        {
          "output_type": "stream",
          "name": "stdout",
          "text": [
            "Mounted at /content/drive\n"
          ]
        }
      ]
    },
    {
      "cell_type": "code",
      "source": [
        "df = pd.read_csv('/content/drive/MyDrive/Colab Notebooks/Data_Sets/health care diabetes.csv')\n",
        "data=df\n",
        "data"
      ],
      "metadata": {
        "colab": {
          "base_uri": "https://localhost:8080/",
          "height": 424
        },
        "id": "zCNPy_UNTcKr",
        "outputId": "51905147-329c-4ee2-c907-3fe9c77239af"
      },
      "execution_count": 3,
      "outputs": [
        {
          "output_type": "execute_result",
          "data": {
            "text/plain": [
              "     Pregnancies  Glucose  BloodPressure  SkinThickness  Insulin   BMI  \\\n",
              "0              6      148             72             35        0  33.6   \n",
              "1              1       85             66             29        0  26.6   \n",
              "2              8      183             64              0        0  23.3   \n",
              "3              1       89             66             23       94  28.1   \n",
              "4              0      137             40             35      168  43.1   \n",
              "..           ...      ...            ...            ...      ...   ...   \n",
              "763           10      101             76             48      180  32.9   \n",
              "764            2      122             70             27        0  36.8   \n",
              "765            5      121             72             23      112  26.2   \n",
              "766            1      126             60              0        0  30.1   \n",
              "767            1       93             70             31        0  30.4   \n",
              "\n",
              "     DiabetesPedigreeFunction  Age  Outcome  \n",
              "0                       0.627   50        1  \n",
              "1                       0.351   31        0  \n",
              "2                       0.672   32        1  \n",
              "3                       0.167   21        0  \n",
              "4                       2.288   33        1  \n",
              "..                        ...  ...      ...  \n",
              "763                     0.171   63        0  \n",
              "764                     0.340   27        0  \n",
              "765                     0.245   30        0  \n",
              "766                     0.349   47        1  \n",
              "767                     0.315   23        0  \n",
              "\n",
              "[768 rows x 9 columns]"
            ],
            "text/html": [
              "\n",
              "  <div id=\"df-00c2276d-1a96-4634-a010-d63672c7a847\" class=\"colab-df-container\">\n",
              "    <div>\n",
              "<style scoped>\n",
              "    .dataframe tbody tr th:only-of-type {\n",
              "        vertical-align: middle;\n",
              "    }\n",
              "\n",
              "    .dataframe tbody tr th {\n",
              "        vertical-align: top;\n",
              "    }\n",
              "\n",
              "    .dataframe thead th {\n",
              "        text-align: right;\n",
              "    }\n",
              "</style>\n",
              "<table border=\"1\" class=\"dataframe\">\n",
              "  <thead>\n",
              "    <tr style=\"text-align: right;\">\n",
              "      <th></th>\n",
              "      <th>Pregnancies</th>\n",
              "      <th>Glucose</th>\n",
              "      <th>BloodPressure</th>\n",
              "      <th>SkinThickness</th>\n",
              "      <th>Insulin</th>\n",
              "      <th>BMI</th>\n",
              "      <th>DiabetesPedigreeFunction</th>\n",
              "      <th>Age</th>\n",
              "      <th>Outcome</th>\n",
              "    </tr>\n",
              "  </thead>\n",
              "  <tbody>\n",
              "    <tr>\n",
              "      <th>0</th>\n",
              "      <td>6</td>\n",
              "      <td>148</td>\n",
              "      <td>72</td>\n",
              "      <td>35</td>\n",
              "      <td>0</td>\n",
              "      <td>33.6</td>\n",
              "      <td>0.627</td>\n",
              "      <td>50</td>\n",
              "      <td>1</td>\n",
              "    </tr>\n",
              "    <tr>\n",
              "      <th>1</th>\n",
              "      <td>1</td>\n",
              "      <td>85</td>\n",
              "      <td>66</td>\n",
              "      <td>29</td>\n",
              "      <td>0</td>\n",
              "      <td>26.6</td>\n",
              "      <td>0.351</td>\n",
              "      <td>31</td>\n",
              "      <td>0</td>\n",
              "    </tr>\n",
              "    <tr>\n",
              "      <th>2</th>\n",
              "      <td>8</td>\n",
              "      <td>183</td>\n",
              "      <td>64</td>\n",
              "      <td>0</td>\n",
              "      <td>0</td>\n",
              "      <td>23.3</td>\n",
              "      <td>0.672</td>\n",
              "      <td>32</td>\n",
              "      <td>1</td>\n",
              "    </tr>\n",
              "    <tr>\n",
              "      <th>3</th>\n",
              "      <td>1</td>\n",
              "      <td>89</td>\n",
              "      <td>66</td>\n",
              "      <td>23</td>\n",
              "      <td>94</td>\n",
              "      <td>28.1</td>\n",
              "      <td>0.167</td>\n",
              "      <td>21</td>\n",
              "      <td>0</td>\n",
              "    </tr>\n",
              "    <tr>\n",
              "      <th>4</th>\n",
              "      <td>0</td>\n",
              "      <td>137</td>\n",
              "      <td>40</td>\n",
              "      <td>35</td>\n",
              "      <td>168</td>\n",
              "      <td>43.1</td>\n",
              "      <td>2.288</td>\n",
              "      <td>33</td>\n",
              "      <td>1</td>\n",
              "    </tr>\n",
              "    <tr>\n",
              "      <th>...</th>\n",
              "      <td>...</td>\n",
              "      <td>...</td>\n",
              "      <td>...</td>\n",
              "      <td>...</td>\n",
              "      <td>...</td>\n",
              "      <td>...</td>\n",
              "      <td>...</td>\n",
              "      <td>...</td>\n",
              "      <td>...</td>\n",
              "    </tr>\n",
              "    <tr>\n",
              "      <th>763</th>\n",
              "      <td>10</td>\n",
              "      <td>101</td>\n",
              "      <td>76</td>\n",
              "      <td>48</td>\n",
              "      <td>180</td>\n",
              "      <td>32.9</td>\n",
              "      <td>0.171</td>\n",
              "      <td>63</td>\n",
              "      <td>0</td>\n",
              "    </tr>\n",
              "    <tr>\n",
              "      <th>764</th>\n",
              "      <td>2</td>\n",
              "      <td>122</td>\n",
              "      <td>70</td>\n",
              "      <td>27</td>\n",
              "      <td>0</td>\n",
              "      <td>36.8</td>\n",
              "      <td>0.340</td>\n",
              "      <td>27</td>\n",
              "      <td>0</td>\n",
              "    </tr>\n",
              "    <tr>\n",
              "      <th>765</th>\n",
              "      <td>5</td>\n",
              "      <td>121</td>\n",
              "      <td>72</td>\n",
              "      <td>23</td>\n",
              "      <td>112</td>\n",
              "      <td>26.2</td>\n",
              "      <td>0.245</td>\n",
              "      <td>30</td>\n",
              "      <td>0</td>\n",
              "    </tr>\n",
              "    <tr>\n",
              "      <th>766</th>\n",
              "      <td>1</td>\n",
              "      <td>126</td>\n",
              "      <td>60</td>\n",
              "      <td>0</td>\n",
              "      <td>0</td>\n",
              "      <td>30.1</td>\n",
              "      <td>0.349</td>\n",
              "      <td>47</td>\n",
              "      <td>1</td>\n",
              "    </tr>\n",
              "    <tr>\n",
              "      <th>767</th>\n",
              "      <td>1</td>\n",
              "      <td>93</td>\n",
              "      <td>70</td>\n",
              "      <td>31</td>\n",
              "      <td>0</td>\n",
              "      <td>30.4</td>\n",
              "      <td>0.315</td>\n",
              "      <td>23</td>\n",
              "      <td>0</td>\n",
              "    </tr>\n",
              "  </tbody>\n",
              "</table>\n",
              "<p>768 rows × 9 columns</p>\n",
              "</div>\n",
              "    <div class=\"colab-df-buttons\">\n",
              "\n",
              "  <div class=\"colab-df-container\">\n",
              "    <button class=\"colab-df-convert\" onclick=\"convertToInteractive('df-00c2276d-1a96-4634-a010-d63672c7a847')\"\n",
              "            title=\"Convert this dataframe to an interactive table.\"\n",
              "            style=\"display:none;\">\n",
              "\n",
              "  <svg xmlns=\"http://www.w3.org/2000/svg\" height=\"24px\" viewBox=\"0 -960 960 960\">\n",
              "    <path d=\"M120-120v-720h720v720H120Zm60-500h600v-160H180v160Zm220 220h160v-160H400v160Zm0 220h160v-160H400v160ZM180-400h160v-160H180v160Zm440 0h160v-160H620v160ZM180-180h160v-160H180v160Zm440 0h160v-160H620v160Z\"/>\n",
              "  </svg>\n",
              "    </button>\n",
              "\n",
              "  <style>\n",
              "    .colab-df-container {\n",
              "      display:flex;\n",
              "      gap: 12px;\n",
              "    }\n",
              "\n",
              "    .colab-df-convert {\n",
              "      background-color: #E8F0FE;\n",
              "      border: none;\n",
              "      border-radius: 50%;\n",
              "      cursor: pointer;\n",
              "      display: none;\n",
              "      fill: #1967D2;\n",
              "      height: 32px;\n",
              "      padding: 0 0 0 0;\n",
              "      width: 32px;\n",
              "    }\n",
              "\n",
              "    .colab-df-convert:hover {\n",
              "      background-color: #E2EBFA;\n",
              "      box-shadow: 0px 1px 2px rgba(60, 64, 67, 0.3), 0px 1px 3px 1px rgba(60, 64, 67, 0.15);\n",
              "      fill: #174EA6;\n",
              "    }\n",
              "\n",
              "    .colab-df-buttons div {\n",
              "      margin-bottom: 4px;\n",
              "    }\n",
              "\n",
              "    [theme=dark] .colab-df-convert {\n",
              "      background-color: #3B4455;\n",
              "      fill: #D2E3FC;\n",
              "    }\n",
              "\n",
              "    [theme=dark] .colab-df-convert:hover {\n",
              "      background-color: #434B5C;\n",
              "      box-shadow: 0px 1px 3px 1px rgba(0, 0, 0, 0.15);\n",
              "      filter: drop-shadow(0px 1px 2px rgba(0, 0, 0, 0.3));\n",
              "      fill: #FFFFFF;\n",
              "    }\n",
              "  </style>\n",
              "\n",
              "    <script>\n",
              "      const buttonEl =\n",
              "        document.querySelector('#df-00c2276d-1a96-4634-a010-d63672c7a847 button.colab-df-convert');\n",
              "      buttonEl.style.display =\n",
              "        google.colab.kernel.accessAllowed ? 'block' : 'none';\n",
              "\n",
              "      async function convertToInteractive(key) {\n",
              "        const element = document.querySelector('#df-00c2276d-1a96-4634-a010-d63672c7a847');\n",
              "        const dataTable =\n",
              "          await google.colab.kernel.invokeFunction('convertToInteractive',\n",
              "                                                    [key], {});\n",
              "        if (!dataTable) return;\n",
              "\n",
              "        const docLinkHtml = 'Like what you see? Visit the ' +\n",
              "          '<a target=\"_blank\" href=https://colab.research.google.com/notebooks/data_table.ipynb>data table notebook</a>'\n",
              "          + ' to learn more about interactive tables.';\n",
              "        element.innerHTML = '';\n",
              "        dataTable['output_type'] = 'display_data';\n",
              "        await google.colab.output.renderOutput(dataTable, element);\n",
              "        const docLink = document.createElement('div');\n",
              "        docLink.innerHTML = docLinkHtml;\n",
              "        element.appendChild(docLink);\n",
              "      }\n",
              "    </script>\n",
              "  </div>\n",
              "\n",
              "\n",
              "<div id=\"df-979ed895-4c14-44d4-ae73-fc8e3bfd37b4\">\n",
              "  <button class=\"colab-df-quickchart\" onclick=\"quickchart('df-979ed895-4c14-44d4-ae73-fc8e3bfd37b4')\"\n",
              "            title=\"Suggest charts\"\n",
              "            style=\"display:none;\">\n",
              "\n",
              "<svg xmlns=\"http://www.w3.org/2000/svg\" height=\"24px\"viewBox=\"0 0 24 24\"\n",
              "     width=\"24px\">\n",
              "    <g>\n",
              "        <path d=\"M19 3H5c-1.1 0-2 .9-2 2v14c0 1.1.9 2 2 2h14c1.1 0 2-.9 2-2V5c0-1.1-.9-2-2-2zM9 17H7v-7h2v7zm4 0h-2V7h2v10zm4 0h-2v-4h2v4z\"/>\n",
              "    </g>\n",
              "</svg>\n",
              "  </button>\n",
              "\n",
              "<style>\n",
              "  .colab-df-quickchart {\n",
              "      --bg-color: #E8F0FE;\n",
              "      --fill-color: #1967D2;\n",
              "      --hover-bg-color: #E2EBFA;\n",
              "      --hover-fill-color: #174EA6;\n",
              "      --disabled-fill-color: #AAA;\n",
              "      --disabled-bg-color: #DDD;\n",
              "  }\n",
              "\n",
              "  [theme=dark] .colab-df-quickchart {\n",
              "      --bg-color: #3B4455;\n",
              "      --fill-color: #D2E3FC;\n",
              "      --hover-bg-color: #434B5C;\n",
              "      --hover-fill-color: #FFFFFF;\n",
              "      --disabled-bg-color: #3B4455;\n",
              "      --disabled-fill-color: #666;\n",
              "  }\n",
              "\n",
              "  .colab-df-quickchart {\n",
              "    background-color: var(--bg-color);\n",
              "    border: none;\n",
              "    border-radius: 50%;\n",
              "    cursor: pointer;\n",
              "    display: none;\n",
              "    fill: var(--fill-color);\n",
              "    height: 32px;\n",
              "    padding: 0;\n",
              "    width: 32px;\n",
              "  }\n",
              "\n",
              "  .colab-df-quickchart:hover {\n",
              "    background-color: var(--hover-bg-color);\n",
              "    box-shadow: 0 1px 2px rgba(60, 64, 67, 0.3), 0 1px 3px 1px rgba(60, 64, 67, 0.15);\n",
              "    fill: var(--button-hover-fill-color);\n",
              "  }\n",
              "\n",
              "  .colab-df-quickchart-complete:disabled,\n",
              "  .colab-df-quickchart-complete:disabled:hover {\n",
              "    background-color: var(--disabled-bg-color);\n",
              "    fill: var(--disabled-fill-color);\n",
              "    box-shadow: none;\n",
              "  }\n",
              "\n",
              "  .colab-df-spinner {\n",
              "    border: 2px solid var(--fill-color);\n",
              "    border-color: transparent;\n",
              "    border-bottom-color: var(--fill-color);\n",
              "    animation:\n",
              "      spin 1s steps(1) infinite;\n",
              "  }\n",
              "\n",
              "  @keyframes spin {\n",
              "    0% {\n",
              "      border-color: transparent;\n",
              "      border-bottom-color: var(--fill-color);\n",
              "      border-left-color: var(--fill-color);\n",
              "    }\n",
              "    20% {\n",
              "      border-color: transparent;\n",
              "      border-left-color: var(--fill-color);\n",
              "      border-top-color: var(--fill-color);\n",
              "    }\n",
              "    30% {\n",
              "      border-color: transparent;\n",
              "      border-left-color: var(--fill-color);\n",
              "      border-top-color: var(--fill-color);\n",
              "      border-right-color: var(--fill-color);\n",
              "    }\n",
              "    40% {\n",
              "      border-color: transparent;\n",
              "      border-right-color: var(--fill-color);\n",
              "      border-top-color: var(--fill-color);\n",
              "    }\n",
              "    60% {\n",
              "      border-color: transparent;\n",
              "      border-right-color: var(--fill-color);\n",
              "    }\n",
              "    80% {\n",
              "      border-color: transparent;\n",
              "      border-right-color: var(--fill-color);\n",
              "      border-bottom-color: var(--fill-color);\n",
              "    }\n",
              "    90% {\n",
              "      border-color: transparent;\n",
              "      border-bottom-color: var(--fill-color);\n",
              "    }\n",
              "  }\n",
              "</style>\n",
              "\n",
              "  <script>\n",
              "    async function quickchart(key) {\n",
              "      const quickchartButtonEl =\n",
              "        document.querySelector('#' + key + ' button');\n",
              "      quickchartButtonEl.disabled = true;  // To prevent multiple clicks.\n",
              "      quickchartButtonEl.classList.add('colab-df-spinner');\n",
              "      try {\n",
              "        const charts = await google.colab.kernel.invokeFunction(\n",
              "            'suggestCharts', [key], {});\n",
              "      } catch (error) {\n",
              "        console.error('Error during call to suggestCharts:', error);\n",
              "      }\n",
              "      quickchartButtonEl.classList.remove('colab-df-spinner');\n",
              "      quickchartButtonEl.classList.add('colab-df-quickchart-complete');\n",
              "    }\n",
              "    (() => {\n",
              "      let quickchartButtonEl =\n",
              "        document.querySelector('#df-979ed895-4c14-44d4-ae73-fc8e3bfd37b4 button');\n",
              "      quickchartButtonEl.style.display =\n",
              "        google.colab.kernel.accessAllowed ? 'block' : 'none';\n",
              "    })();\n",
              "  </script>\n",
              "</div>\n",
              "\n",
              "  <div id=\"id_9c26d1eb-dd80-4ccb-82fa-cb790251b1ad\">\n",
              "    <style>\n",
              "      .colab-df-generate {\n",
              "        background-color: #E8F0FE;\n",
              "        border: none;\n",
              "        border-radius: 50%;\n",
              "        cursor: pointer;\n",
              "        display: none;\n",
              "        fill: #1967D2;\n",
              "        height: 32px;\n",
              "        padding: 0 0 0 0;\n",
              "        width: 32px;\n",
              "      }\n",
              "\n",
              "      .colab-df-generate:hover {\n",
              "        background-color: #E2EBFA;\n",
              "        box-shadow: 0px 1px 2px rgba(60, 64, 67, 0.3), 0px 1px 3px 1px rgba(60, 64, 67, 0.15);\n",
              "        fill: #174EA6;\n",
              "      }\n",
              "\n",
              "      [theme=dark] .colab-df-generate {\n",
              "        background-color: #3B4455;\n",
              "        fill: #D2E3FC;\n",
              "      }\n",
              "\n",
              "      [theme=dark] .colab-df-generate:hover {\n",
              "        background-color: #434B5C;\n",
              "        box-shadow: 0px 1px 3px 1px rgba(0, 0, 0, 0.15);\n",
              "        filter: drop-shadow(0px 1px 2px rgba(0, 0, 0, 0.3));\n",
              "        fill: #FFFFFF;\n",
              "      }\n",
              "    </style>\n",
              "    <button class=\"colab-df-generate\" onclick=\"generateWithVariable('df')\"\n",
              "            title=\"Generate code using this dataframe.\"\n",
              "            style=\"display:none;\">\n",
              "\n",
              "  <svg xmlns=\"http://www.w3.org/2000/svg\" height=\"24px\"viewBox=\"0 0 24 24\"\n",
              "       width=\"24px\">\n",
              "    <path d=\"M7,19H8.4L18.45,9,17,7.55,7,17.6ZM5,21V16.75L18.45,3.32a2,2,0,0,1,2.83,0l1.4,1.43a1.91,1.91,0,0,1,.58,1.4,1.91,1.91,0,0,1-.58,1.4L9.25,21ZM18.45,9,17,7.55Zm-12,3A5.31,5.31,0,0,0,4.9,8.1,5.31,5.31,0,0,0,1,6.5,5.31,5.31,0,0,0,4.9,4.9,5.31,5.31,0,0,0,6.5,1,5.31,5.31,0,0,0,8.1,4.9,5.31,5.31,0,0,0,12,6.5,5.46,5.46,0,0,0,6.5,12Z\"/>\n",
              "  </svg>\n",
              "    </button>\n",
              "    <script>\n",
              "      (() => {\n",
              "      const buttonEl =\n",
              "        document.querySelector('#id_9c26d1eb-dd80-4ccb-82fa-cb790251b1ad button.colab-df-generate');\n",
              "      buttonEl.style.display =\n",
              "        google.colab.kernel.accessAllowed ? 'block' : 'none';\n",
              "\n",
              "      buttonEl.onclick = () => {\n",
              "        google.colab.notebook.generateWithVariable('df');\n",
              "      }\n",
              "      })();\n",
              "    </script>\n",
              "  </div>\n",
              "\n",
              "    </div>\n",
              "  </div>\n"
            ],
            "application/vnd.google.colaboratory.intrinsic+json": {
              "type": "dataframe",
              "variable_name": "df",
              "summary": "{\n  \"name\": \"df\",\n  \"rows\": 768,\n  \"fields\": [\n    {\n      \"column\": \"Pregnancies\",\n      \"properties\": {\n        \"dtype\": \"number\",\n        \"std\": 3,\n        \"min\": 0,\n        \"max\": 17,\n        \"num_unique_values\": 17,\n        \"samples\": [\n          6,\n          1,\n          3\n        ],\n        \"semantic_type\": \"\",\n        \"description\": \"\"\n      }\n    },\n    {\n      \"column\": \"Glucose\",\n      \"properties\": {\n        \"dtype\": \"number\",\n        \"std\": 31,\n        \"min\": 0,\n        \"max\": 199,\n        \"num_unique_values\": 136,\n        \"samples\": [\n          151,\n          101,\n          112\n        ],\n        \"semantic_type\": \"\",\n        \"description\": \"\"\n      }\n    },\n    {\n      \"column\": \"BloodPressure\",\n      \"properties\": {\n        \"dtype\": \"number\",\n        \"std\": 19,\n        \"min\": 0,\n        \"max\": 122,\n        \"num_unique_values\": 47,\n        \"samples\": [\n          86,\n          46,\n          85\n        ],\n        \"semantic_type\": \"\",\n        \"description\": \"\"\n      }\n    },\n    {\n      \"column\": \"SkinThickness\",\n      \"properties\": {\n        \"dtype\": \"number\",\n        \"std\": 15,\n        \"min\": 0,\n        \"max\": 99,\n        \"num_unique_values\": 51,\n        \"samples\": [\n          7,\n          12,\n          48\n        ],\n        \"semantic_type\": \"\",\n        \"description\": \"\"\n      }\n    },\n    {\n      \"column\": \"Insulin\",\n      \"properties\": {\n        \"dtype\": \"number\",\n        \"std\": 115,\n        \"min\": 0,\n        \"max\": 846,\n        \"num_unique_values\": 186,\n        \"samples\": [\n          52,\n          41,\n          183\n        ],\n        \"semantic_type\": \"\",\n        \"description\": \"\"\n      }\n    },\n    {\n      \"column\": \"BMI\",\n      \"properties\": {\n        \"dtype\": \"number\",\n        \"std\": 7.884160320375446,\n        \"min\": 0.0,\n        \"max\": 67.1,\n        \"num_unique_values\": 248,\n        \"samples\": [\n          19.9,\n          31.0,\n          38.1\n        ],\n        \"semantic_type\": \"\",\n        \"description\": \"\"\n      }\n    },\n    {\n      \"column\": \"DiabetesPedigreeFunction\",\n      \"properties\": {\n        \"dtype\": \"number\",\n        \"std\": 0.3313285950127749,\n        \"min\": 0.078,\n        \"max\": 2.42,\n        \"num_unique_values\": 517,\n        \"samples\": [\n          1.731,\n          0.426,\n          0.138\n        ],\n        \"semantic_type\": \"\",\n        \"description\": \"\"\n      }\n    },\n    {\n      \"column\": \"Age\",\n      \"properties\": {\n        \"dtype\": \"number\",\n        \"std\": 11,\n        \"min\": 21,\n        \"max\": 81,\n        \"num_unique_values\": 52,\n        \"samples\": [\n          60,\n          47,\n          72\n        ],\n        \"semantic_type\": \"\",\n        \"description\": \"\"\n      }\n    },\n    {\n      \"column\": \"Outcome\",\n      \"properties\": {\n        \"dtype\": \"number\",\n        \"std\": 0,\n        \"min\": 0,\n        \"max\": 1,\n        \"num_unique_values\": 2,\n        \"samples\": [\n          0,\n          1\n        ],\n        \"semantic_type\": \"\",\n        \"description\": \"\"\n      }\n    }\n  ]\n}"
            }
          },
          "metadata": {},
          "execution_count": 3
        }
      ]
    },
    {
      "cell_type": "code",
      "source": [
        "[np.shape(data[data['Outcome'] == 1]), np.shape(data[data['Outcome'] == 0])]"
      ],
      "metadata": {
        "colab": {
          "base_uri": "https://localhost:8080/"
        },
        "id": "GbTa9j4zTg0M",
        "outputId": "b92b1b90-3fe1-4d0f-bb36-2f889540cec9"
      },
      "execution_count": 4,
      "outputs": [
        {
          "output_type": "execute_result",
          "data": {
            "text/plain": [
              "[(268, 9), (500, 9)]"
            ]
          },
          "metadata": {},
          "execution_count": 4
        }
      ]
    },
    {
      "cell_type": "code",
      "source": [
        "inputs= data.drop('Outcome', axis='columns')\n",
        "target= data['Outcome']"
      ],
      "metadata": {
        "id": "kO0FMpPdTjkC"
      },
      "execution_count": 5,
      "outputs": []
    },
    {
      "cell_type": "code",
      "source": [
        "inputs.info()"
      ],
      "metadata": {
        "colab": {
          "base_uri": "https://localhost:8080/"
        },
        "id": "Vej8P6knTl3o",
        "outputId": "337cc640-86a9-4666-be09-8665368f7f3b"
      },
      "execution_count": 6,
      "outputs": [
        {
          "output_type": "stream",
          "name": "stdout",
          "text": [
            "<class 'pandas.core.frame.DataFrame'>\n",
            "RangeIndex: 768 entries, 0 to 767\n",
            "Data columns (total 8 columns):\n",
            " #   Column                    Non-Null Count  Dtype  \n",
            "---  ------                    --------------  -----  \n",
            " 0   Pregnancies               768 non-null    int64  \n",
            " 1   Glucose                   768 non-null    int64  \n",
            " 2   BloodPressure             768 non-null    int64  \n",
            " 3   SkinThickness             768 non-null    int64  \n",
            " 4   Insulin                   768 non-null    int64  \n",
            " 5   BMI                       768 non-null    float64\n",
            " 6   DiabetesPedigreeFunction  768 non-null    float64\n",
            " 7   Age                       768 non-null    int64  \n",
            "dtypes: float64(2), int64(6)\n",
            "memory usage: 48.1 KB\n"
          ]
        }
      ]
    },
    {
      "cell_type": "markdown",
      "source": [
        "# Decision Trees"
      ],
      "metadata": {
        "id": "ekkzahYQHvUG"
      }
    },
    {
      "cell_type": "code",
      "source": [
        "from sklearn.neighbors import KNeighborsClassifier # First step: creat model\n",
        "\n",
        "x = inputs\n",
        "y = target\n"
      ],
      "metadata": {
        "id": "oT4ffzVgTqii"
      },
      "execution_count": 7,
      "outputs": []
    },
    {
      "cell_type": "code",
      "source": [
        "from sklearn.model_selection import train_test_split\n",
        "#x_overs, y_overs\n",
        "x_train, x_test, y_train, y_test = train_test_split(x, y, test_size=0.3,stratify=y,random_state=42)"
      ],
      "metadata": {
        "id": "DoxpWjtkTvzB"
      },
      "execution_count": 8,
      "outputs": []
    },
    {
      "cell_type": "code",
      "execution_count": 9,
      "metadata": {
        "id": "6140eea1",
        "colab": {
          "base_uri": "https://localhost:8080/"
        },
        "outputId": "2bc65121-2c78-4fb9-c065-9bae56fa6c74"
      },
      "outputs": [
        {
          "output_type": "execute_result",
          "data": {
            "text/plain": [
              "0.7965367965367965"
            ]
          },
          "metadata": {},
          "execution_count": 9
        }
      ],
      "source": [
        "from sklearn.tree import DecisionTreeClassifier\n",
        "from sklearn import metrics\n",
        "\n",
        "dtc = DecisionTreeClassifier(min_samples_split=2, max_depth=7)\n",
        "dtc=dtc.fit(x_train, y_train)\n",
        "\n",
        "predict_dtc = dtc.predict(x_test)\n",
        "\n",
        "temp_best = dtc.score(x_test,y_test)\n",
        "temp_best"
      ]
    },
    {
      "cell_type": "markdown",
      "source": [
        "\n",
        "# Different max_depth"
      ],
      "metadata": {
        "id": "UHWBCpsMwBSZ"
      }
    },
    {
      "cell_type": "code",
      "source": [
        "best_split=2\n",
        "\n",
        "for j in range(3,15):\n",
        "  for i in range(2, 50):\n",
        "    dtc_temp = DecisionTreeClassifier(min_samples_split=i, max_depth=j)\n",
        "    dtc_temp = dtc_temp.fit(x_train, y_train)\n",
        "    if temp_best < dtc_temp.score(x_test, y_test):\n",
        "      temp_best=dtc_temp.score(x_test,y_test)\n",
        "      best_depth=j\n",
        "      best_split=i\n",
        "\n",
        "print(\"Best depth = \" + str(best_depth))\n",
        "print(\"Best split: \" + str(best_split))\n",
        "print(\"Best score = \" + str(temp_best))"
      ],
      "metadata": {
        "colab": {
          "base_uri": "https://localhost:8080/"
        },
        "id": "ynkTaOR6G_kD",
        "outputId": "a280d3b9-5da3-414b-f6a4-b840afcb2d6f"
      },
      "execution_count": 10,
      "outputs": [
        {
          "output_type": "stream",
          "name": "stdout",
          "text": [
            "Best depth = 7\n",
            "Best split: 26\n",
            "Best score = 0.8051948051948052\n"
          ]
        }
      ]
    },
    {
      "cell_type": "code",
      "execution_count": 11,
      "metadata": {
        "id": "bde36d5d"
      },
      "outputs": [],
      "source": [
        "import graphviz\n",
        "from sklearn.tree import export_graphviz\n",
        "import pydotplus\n",
        "\n",
        "export_graphviz(dtc, out_file=\"tree.dot\",filled=True, rounded=True)\n",
        "with open(\"tree.dot\") as f:\n",
        "    dot_graph = f.read()"
      ]
    },
    {
      "cell_type": "code",
      "execution_count": 12,
      "metadata": {
        "id": "dcab6156",
        "colab": {
          "base_uri": "https://localhost:8080/",
          "height": 1000
        },
        "outputId": "4da4bfad-da33-4b1d-8c3f-f6d509a644cd"
      },
      "outputs": [
        {
          "output_type": "execute_result",
          "data": {
            "image/svg+xml": "<?xml version=\"1.0\" encoding=\"UTF-8\" standalone=\"no\"?>\n<!DOCTYPE svg PUBLIC \"-//W3C//DTD SVG 1.1//EN\"\n \"http://www.w3.org/Graphics/SVG/1.1/DTD/svg11.dtd\">\n<!-- Generated by graphviz version 2.43.0 (0)\n -->\n<!-- Title: Tree Pages: 1 -->\n<svg width=\"3938pt\" height=\"789pt\"\n viewBox=\"0.00 0.00 3938.00 789.00\" xmlns=\"http://www.w3.org/2000/svg\" xmlns:xlink=\"http://www.w3.org/1999/xlink\">\n<g id=\"graph0\" class=\"graph\" transform=\"scale(1 1) rotate(0) translate(4 785)\">\n<title>Tree</title>\n<polygon fill=\"white\" stroke=\"transparent\" points=\"-4,4 -4,-785 3934,-785 3934,4 -4,4\"/>\n<!-- 0 -->\n<g id=\"node1\" class=\"node\">\n<title>0</title>\n<path fill=\"#f3c4a3\" stroke=\"black\" d=\"M1910,-781C1910,-781 1809,-781 1809,-781 1803,-781 1797,-775 1797,-769 1797,-769 1797,-725 1797,-725 1797,-719 1803,-713 1809,-713 1809,-713 1910,-713 1910,-713 1916,-713 1922,-719 1922,-725 1922,-725 1922,-769 1922,-769 1922,-775 1916,-781 1910,-781\"/>\n<text text-anchor=\"middle\" x=\"1859.5\" y=\"-765.8\" font-family=\"Helvetica,sans-Serif\" font-size=\"14.00\">x[1] &lt;= 132.5</text>\n<text text-anchor=\"middle\" x=\"1859.5\" y=\"-750.8\" font-family=\"Helvetica,sans-Serif\" font-size=\"14.00\">gini = 0.454</text>\n<text text-anchor=\"middle\" x=\"1859.5\" y=\"-735.8\" font-family=\"Helvetica,sans-Serif\" font-size=\"14.00\">samples = 537</text>\n<text text-anchor=\"middle\" x=\"1859.5\" y=\"-720.8\" font-family=\"Helvetica,sans-Serif\" font-size=\"14.00\">value = [350, 187]</text>\n</g>\n<!-- 1 -->\n<g id=\"node2\" class=\"node\">\n<title>1</title>\n<path fill=\"#eca16b\" stroke=\"black\" d=\"M1384,-677C1384,-677 1291,-677 1291,-677 1285,-677 1279,-671 1279,-665 1279,-665 1279,-621 1279,-621 1279,-615 1285,-609 1291,-609 1291,-609 1384,-609 1384,-609 1390,-609 1396,-615 1396,-621 1396,-621 1396,-665 1396,-665 1396,-671 1390,-677 1384,-677\"/>\n<text text-anchor=\"middle\" x=\"1337.5\" y=\"-661.8\" font-family=\"Helvetica,sans-Serif\" font-size=\"14.00\">x[7] &lt;= 29.5</text>\n<text text-anchor=\"middle\" x=\"1337.5\" y=\"-646.8\" font-family=\"Helvetica,sans-Serif\" font-size=\"14.00\">gini = 0.323</text>\n<text text-anchor=\"middle\" x=\"1337.5\" y=\"-631.8\" font-family=\"Helvetica,sans-Serif\" font-size=\"14.00\">samples = 370</text>\n<text text-anchor=\"middle\" x=\"1337.5\" y=\"-616.8\" font-family=\"Helvetica,sans-Serif\" font-size=\"14.00\">value = [295, 75]</text>\n</g>\n<!-- 0&#45;&gt;1 -->\n<g id=\"edge1\" class=\"edge\">\n<title>0&#45;&gt;1</title>\n<path fill=\"none\" stroke=\"black\" d=\"M1796.79,-733.75C1698.35,-714.51 1508.28,-677.37 1406.23,-657.43\"/>\n<polygon fill=\"black\" stroke=\"black\" points=\"1406.82,-653.98 1396.34,-655.5 1405.48,-660.85 1406.82,-653.98\"/>\n<text text-anchor=\"middle\" x=\"1410.3\" y=\"-672.54\" font-family=\"Helvetica,sans-Serif\" font-size=\"14.00\">True</text>\n</g>\n<!-- 52 -->\n<g id=\"node53\" class=\"node\">\n<title>52</title>\n<path fill=\"#9acdf2\" stroke=\"black\" d=\"M2331,-677C2331,-677 2238,-677 2238,-677 2232,-677 2226,-671 2226,-665 2226,-665 2226,-621 2226,-621 2226,-615 2232,-609 2238,-609 2238,-609 2331,-609 2331,-609 2337,-609 2343,-615 2343,-621 2343,-621 2343,-665 2343,-665 2343,-671 2337,-677 2331,-677\"/>\n<text text-anchor=\"middle\" x=\"2284.5\" y=\"-661.8\" font-family=\"Helvetica,sans-Serif\" font-size=\"14.00\">x[5] &lt;= 29.95</text>\n<text text-anchor=\"middle\" x=\"2284.5\" y=\"-646.8\" font-family=\"Helvetica,sans-Serif\" font-size=\"14.00\">gini = 0.442</text>\n<text text-anchor=\"middle\" x=\"2284.5\" y=\"-631.8\" font-family=\"Helvetica,sans-Serif\" font-size=\"14.00\">samples = 167</text>\n<text text-anchor=\"middle\" x=\"2284.5\" y=\"-616.8\" font-family=\"Helvetica,sans-Serif\" font-size=\"14.00\">value = [55, 112]</text>\n</g>\n<!-- 0&#45;&gt;52 -->\n<g id=\"edge52\" class=\"edge\">\n<title>0&#45;&gt;52</title>\n<path fill=\"none\" stroke=\"black\" d=\"M1922.21,-730.95C2000.71,-712.11 2134.69,-679.96 2215.86,-660.47\"/>\n<polygon fill=\"black\" stroke=\"black\" points=\"2217.07,-663.78 2225.98,-658.04 2215.44,-656.98 2217.07,-663.78\"/>\n<text text-anchor=\"middle\" x=\"2212.92\" y=\"-675.66\" font-family=\"Helvetica,sans-Serif\" font-size=\"14.00\">False</text>\n</g>\n<!-- 2 -->\n<g id=\"node3\" class=\"node\">\n<title>2</title>\n<path fill=\"#e89050\" stroke=\"black\" d=\"M1029,-573C1029,-573 936,-573 936,-573 930,-573 924,-567 924,-561 924,-561 924,-517 924,-517 924,-511 930,-505 936,-505 936,-505 1029,-505 1029,-505 1035,-505 1041,-511 1041,-517 1041,-517 1041,-561 1041,-561 1041,-567 1035,-573 1029,-573\"/>\n<text text-anchor=\"middle\" x=\"982.5\" y=\"-557.8\" font-family=\"Helvetica,sans-Serif\" font-size=\"14.00\">x[5] &lt;= 45.4</text>\n<text text-anchor=\"middle\" x=\"982.5\" y=\"-542.8\" font-family=\"Helvetica,sans-Serif\" font-size=\"14.00\">gini = 0.186</text>\n<text text-anchor=\"middle\" x=\"982.5\" y=\"-527.8\" font-family=\"Helvetica,sans-Serif\" font-size=\"14.00\">samples = 212</text>\n<text text-anchor=\"middle\" x=\"982.5\" y=\"-512.8\" font-family=\"Helvetica,sans-Serif\" font-size=\"14.00\">value = [190, 22]</text>\n</g>\n<!-- 1&#45;&gt;2 -->\n<g id=\"edge2\" class=\"edge\">\n<title>1&#45;&gt;2</title>\n<path fill=\"none\" stroke=\"black\" d=\"M1278.88,-625.16C1216.31,-607.18 1117.28,-578.73 1051.13,-559.72\"/>\n<polygon fill=\"black\" stroke=\"black\" points=\"1051.79,-556.27 1041.21,-556.87 1049.85,-562.99 1051.79,-556.27\"/>\n</g>\n<!-- 25 -->\n<g id=\"node26\" class=\"node\">\n<title>25</title>\n<path fill=\"#f2c19d\" stroke=\"black\" d=\"M1384,-573C1384,-573 1291,-573 1291,-573 1285,-573 1279,-567 1279,-561 1279,-561 1279,-517 1279,-517 1279,-511 1285,-505 1291,-505 1291,-505 1384,-505 1384,-505 1390,-505 1396,-511 1396,-517 1396,-517 1396,-561 1396,-561 1396,-567 1390,-573 1384,-573\"/>\n<text text-anchor=\"middle\" x=\"1337.5\" y=\"-557.8\" font-family=\"Helvetica,sans-Serif\" font-size=\"14.00\">x[5] &lt;= 26.9</text>\n<text text-anchor=\"middle\" x=\"1337.5\" y=\"-542.8\" font-family=\"Helvetica,sans-Serif\" font-size=\"14.00\">gini = 0.446</text>\n<text text-anchor=\"middle\" x=\"1337.5\" y=\"-527.8\" font-family=\"Helvetica,sans-Serif\" font-size=\"14.00\">samples = 158</text>\n<text text-anchor=\"middle\" x=\"1337.5\" y=\"-512.8\" font-family=\"Helvetica,sans-Serif\" font-size=\"14.00\">value = [105, 53]</text>\n</g>\n<!-- 1&#45;&gt;25 -->\n<g id=\"edge25\" class=\"edge\">\n<title>1&#45;&gt;25</title>\n<path fill=\"none\" stroke=\"black\" d=\"M1337.5,-608.88C1337.5,-600.78 1337.5,-591.98 1337.5,-583.47\"/>\n<polygon fill=\"black\" stroke=\"black\" points=\"1341,-583.3 1337.5,-573.3 1334,-583.3 1341,-583.3\"/>\n</g>\n<!-- 3 -->\n<g id=\"node4\" class=\"node\">\n<title>3</title>\n<path fill=\"#e78c4b\" stroke=\"black\" d=\"M853,-469C853,-469 760,-469 760,-469 754,-469 748,-463 748,-457 748,-457 748,-413 748,-413 748,-407 754,-401 760,-401 760,-401 853,-401 853,-401 859,-401 865,-407 865,-413 865,-413 865,-457 865,-457 865,-463 859,-469 853,-469\"/>\n<text text-anchor=\"middle\" x=\"806.5\" y=\"-453.8\" font-family=\"Helvetica,sans-Serif\" font-size=\"14.00\">x[0] &lt;= 7.5</text>\n<text text-anchor=\"middle\" x=\"806.5\" y=\"-438.8\" font-family=\"Helvetica,sans-Serif\" font-size=\"14.00\">gini = 0.151</text>\n<text text-anchor=\"middle\" x=\"806.5\" y=\"-423.8\" font-family=\"Helvetica,sans-Serif\" font-size=\"14.00\">samples = 206</text>\n<text text-anchor=\"middle\" x=\"806.5\" y=\"-408.8\" font-family=\"Helvetica,sans-Serif\" font-size=\"14.00\">value = [189, 17]</text>\n</g>\n<!-- 2&#45;&gt;3 -->\n<g id=\"edge3\" class=\"edge\">\n<title>2&#45;&gt;3</title>\n<path fill=\"none\" stroke=\"black\" d=\"M925.36,-504.88C908.52,-495.12 889.96,-484.37 872.6,-474.31\"/>\n<polygon fill=\"black\" stroke=\"black\" points=\"874.06,-471.11 863.66,-469.12 870.55,-477.17 874.06,-471.11\"/>\n</g>\n<!-- 22 -->\n<g id=\"node23\" class=\"node\">\n<title>22</title>\n<path fill=\"#61b1ea\" stroke=\"black\" d=\"M1018.5,-469C1018.5,-469 946.5,-469 946.5,-469 940.5,-469 934.5,-463 934.5,-457 934.5,-457 934.5,-413 934.5,-413 934.5,-407 940.5,-401 946.5,-401 946.5,-401 1018.5,-401 1018.5,-401 1024.5,-401 1030.5,-407 1030.5,-413 1030.5,-413 1030.5,-457 1030.5,-457 1030.5,-463 1024.5,-469 1018.5,-469\"/>\n<text text-anchor=\"middle\" x=\"982.5\" y=\"-453.8\" font-family=\"Helvetica,sans-Serif\" font-size=\"14.00\">x[6] &lt;= 0.844</text>\n<text text-anchor=\"middle\" x=\"982.5\" y=\"-438.8\" font-family=\"Helvetica,sans-Serif\" font-size=\"14.00\">gini = 0.278</text>\n<text text-anchor=\"middle\" x=\"982.5\" y=\"-423.8\" font-family=\"Helvetica,sans-Serif\" font-size=\"14.00\">samples = 6</text>\n<text text-anchor=\"middle\" x=\"982.5\" y=\"-408.8\" font-family=\"Helvetica,sans-Serif\" font-size=\"14.00\">value = [1, 5]</text>\n</g>\n<!-- 2&#45;&gt;22 -->\n<g id=\"edge22\" class=\"edge\">\n<title>2&#45;&gt;22</title>\n<path fill=\"none\" stroke=\"black\" d=\"M982.5,-504.88C982.5,-496.78 982.5,-487.98 982.5,-479.47\"/>\n<polygon fill=\"black\" stroke=\"black\" points=\"986,-479.3 982.5,-469.3 979,-479.3 986,-479.3\"/>\n</g>\n<!-- 4 -->\n<g id=\"node5\" class=\"node\">\n<title>4</title>\n<path fill=\"#e78b49\" stroke=\"black\" d=\"M673,-365C673,-365 580,-365 580,-365 574,-365 568,-359 568,-353 568,-353 568,-309 568,-309 568,-303 574,-297 580,-297 580,-297 673,-297 673,-297 679,-297 685,-303 685,-309 685,-309 685,-353 685,-353 685,-359 679,-365 673,-365\"/>\n<text text-anchor=\"middle\" x=\"626.5\" y=\"-349.8\" font-family=\"Helvetica,sans-Serif\" font-size=\"14.00\">x[6] &lt;= 0.509</text>\n<text text-anchor=\"middle\" x=\"626.5\" y=\"-334.8\" font-family=\"Helvetica,sans-Serif\" font-size=\"14.00\">gini = 0.137</text>\n<text text-anchor=\"middle\" x=\"626.5\" y=\"-319.8\" font-family=\"Helvetica,sans-Serif\" font-size=\"14.00\">samples = 203</text>\n<text text-anchor=\"middle\" x=\"626.5\" y=\"-304.8\" font-family=\"Helvetica,sans-Serif\" font-size=\"14.00\">value = [188, 15]</text>\n</g>\n<!-- 3&#45;&gt;4 -->\n<g id=\"edge4\" class=\"edge\">\n<title>3&#45;&gt;4</title>\n<path fill=\"none\" stroke=\"black\" d=\"M748.06,-400.88C730.84,-391.12 711.85,-380.37 694.11,-370.31\"/>\n<polygon fill=\"black\" stroke=\"black\" points=\"695.38,-367.01 684.96,-365.12 691.93,-373.1 695.38,-367.01\"/>\n</g>\n<!-- 19 -->\n<g id=\"node20\" class=\"node\">\n<title>19</title>\n<path fill=\"#9ccef2\" stroke=\"black\" d=\"M842.5,-365C842.5,-365 770.5,-365 770.5,-365 764.5,-365 758.5,-359 758.5,-353 758.5,-353 758.5,-309 758.5,-309 758.5,-303 764.5,-297 770.5,-297 770.5,-297 842.5,-297 842.5,-297 848.5,-297 854.5,-303 854.5,-309 854.5,-309 854.5,-353 854.5,-353 854.5,-359 848.5,-365 842.5,-365\"/>\n<text text-anchor=\"middle\" x=\"806.5\" y=\"-349.8\" font-family=\"Helvetica,sans-Serif\" font-size=\"14.00\">x[6] &lt;= 0.197</text>\n<text text-anchor=\"middle\" x=\"806.5\" y=\"-334.8\" font-family=\"Helvetica,sans-Serif\" font-size=\"14.00\">gini = 0.444</text>\n<text text-anchor=\"middle\" x=\"806.5\" y=\"-319.8\" font-family=\"Helvetica,sans-Serif\" font-size=\"14.00\">samples = 3</text>\n<text text-anchor=\"middle\" x=\"806.5\" y=\"-304.8\" font-family=\"Helvetica,sans-Serif\" font-size=\"14.00\">value = [1, 2]</text>\n</g>\n<!-- 3&#45;&gt;19 -->\n<g id=\"edge19\" class=\"edge\">\n<title>3&#45;&gt;19</title>\n<path fill=\"none\" stroke=\"black\" d=\"M806.5,-400.88C806.5,-392.78 806.5,-383.98 806.5,-375.47\"/>\n<polygon fill=\"black\" stroke=\"black\" points=\"810,-375.3 806.5,-365.3 803,-375.3 810,-375.3\"/>\n</g>\n<!-- 5 -->\n<g id=\"node6\" class=\"node\">\n<title>5</title>\n<path fill=\"#e6843d\" stroke=\"black\" d=\"M382.5,-261C382.5,-261 296.5,-261 296.5,-261 290.5,-261 284.5,-255 284.5,-249 284.5,-249 284.5,-205 284.5,-205 284.5,-199 290.5,-193 296.5,-193 296.5,-193 382.5,-193 382.5,-193 388.5,-193 394.5,-199 394.5,-205 394.5,-205 394.5,-249 394.5,-249 394.5,-255 388.5,-261 382.5,-261\"/>\n<text text-anchor=\"middle\" x=\"339.5\" y=\"-245.8\" font-family=\"Helvetica,sans-Serif\" font-size=\"14.00\">x[2] &lt;= 19.0</text>\n<text text-anchor=\"middle\" x=\"339.5\" y=\"-230.8\" font-family=\"Helvetica,sans-Serif\" font-size=\"14.00\">gini = 0.043</text>\n<text text-anchor=\"middle\" x=\"339.5\" y=\"-215.8\" font-family=\"Helvetica,sans-Serif\" font-size=\"14.00\">samples = 138</text>\n<text text-anchor=\"middle\" x=\"339.5\" y=\"-200.8\" font-family=\"Helvetica,sans-Serif\" font-size=\"14.00\">value = [135, 3]</text>\n</g>\n<!-- 4&#45;&gt;5 -->\n<g id=\"edge5\" class=\"edge\">\n<title>4&#45;&gt;5</title>\n<path fill=\"none\" stroke=\"black\" d=\"M567.73,-309.11C520.22,-292.23 453.41,-268.48 404.35,-251.05\"/>\n<polygon fill=\"black\" stroke=\"black\" points=\"405.38,-247.7 394.78,-247.65 403.04,-254.3 405.38,-247.7\"/>\n</g>\n<!-- 12 -->\n<g id=\"node13\" class=\"node\">\n<title>12</title>\n<path fill=\"#eb9e66\" stroke=\"black\" d=\"M669.5,-261C669.5,-261 583.5,-261 583.5,-261 577.5,-261 571.5,-255 571.5,-249 571.5,-249 571.5,-205 571.5,-205 571.5,-199 577.5,-193 583.5,-193 583.5,-193 669.5,-193 669.5,-193 675.5,-193 681.5,-199 681.5,-205 681.5,-205 681.5,-249 681.5,-249 681.5,-255 675.5,-261 669.5,-261\"/>\n<text text-anchor=\"middle\" x=\"626.5\" y=\"-245.8\" font-family=\"Helvetica,sans-Serif\" font-size=\"14.00\">x[5] &lt;= 32.1</text>\n<text text-anchor=\"middle\" x=\"626.5\" y=\"-230.8\" font-family=\"Helvetica,sans-Serif\" font-size=\"14.00\">gini = 0.301</text>\n<text text-anchor=\"middle\" x=\"626.5\" y=\"-215.8\" font-family=\"Helvetica,sans-Serif\" font-size=\"14.00\">samples = 65</text>\n<text text-anchor=\"middle\" x=\"626.5\" y=\"-200.8\" font-family=\"Helvetica,sans-Serif\" font-size=\"14.00\">value = [53, 12]</text>\n</g>\n<!-- 4&#45;&gt;12 -->\n<g id=\"edge12\" class=\"edge\">\n<title>4&#45;&gt;12</title>\n<path fill=\"none\" stroke=\"black\" d=\"M626.5,-296.88C626.5,-288.78 626.5,-279.98 626.5,-271.47\"/>\n<polygon fill=\"black\" stroke=\"black\" points=\"630,-271.3 626.5,-261.3 623,-271.3 630,-271.3\"/>\n</g>\n<!-- 6 -->\n<g id=\"node7\" class=\"node\">\n<title>6</title>\n<path fill=\"#ea9a61\" stroke=\"black\" d=\"M196.5,-157C196.5,-157 124.5,-157 124.5,-157 118.5,-157 112.5,-151 112.5,-145 112.5,-145 112.5,-101 112.5,-101 112.5,-95 118.5,-89 124.5,-89 124.5,-89 196.5,-89 196.5,-89 202.5,-89 208.5,-95 208.5,-101 208.5,-101 208.5,-145 208.5,-145 208.5,-151 202.5,-157 196.5,-157\"/>\n<text text-anchor=\"middle\" x=\"160.5\" y=\"-141.8\" font-family=\"Helvetica,sans-Serif\" font-size=\"14.00\">x[5] &lt;= 28.05</text>\n<text text-anchor=\"middle\" x=\"160.5\" y=\"-126.8\" font-family=\"Helvetica,sans-Serif\" font-size=\"14.00\">gini = 0.278</text>\n<text text-anchor=\"middle\" x=\"160.5\" y=\"-111.8\" font-family=\"Helvetica,sans-Serif\" font-size=\"14.00\">samples = 6</text>\n<text text-anchor=\"middle\" x=\"160.5\" y=\"-96.8\" font-family=\"Helvetica,sans-Serif\" font-size=\"14.00\">value = [5, 1]</text>\n</g>\n<!-- 5&#45;&gt;6 -->\n<g id=\"edge6\" class=\"edge\">\n<title>5&#45;&gt;6</title>\n<path fill=\"none\" stroke=\"black\" d=\"M284.33,-194.56C263.12,-182.48 238.88,-168.66 217.49,-156.48\"/>\n<polygon fill=\"black\" stroke=\"black\" points=\"218.95,-153.28 208.52,-151.37 215.48,-159.36 218.95,-153.28\"/>\n</g>\n<!-- 9 -->\n<g id=\"node10\" class=\"node\">\n<title>9</title>\n<path fill=\"#e5833c\" stroke=\"black\" d=\"M382.5,-157C382.5,-157 296.5,-157 296.5,-157 290.5,-157 284.5,-151 284.5,-145 284.5,-145 284.5,-101 284.5,-101 284.5,-95 290.5,-89 296.5,-89 296.5,-89 382.5,-89 382.5,-89 388.5,-89 394.5,-95 394.5,-101 394.5,-101 394.5,-145 394.5,-145 394.5,-151 388.5,-157 382.5,-157\"/>\n<text text-anchor=\"middle\" x=\"339.5\" y=\"-141.8\" font-family=\"Helvetica,sans-Serif\" font-size=\"14.00\">x[2] &lt;= 73.0</text>\n<text text-anchor=\"middle\" x=\"339.5\" y=\"-126.8\" font-family=\"Helvetica,sans-Serif\" font-size=\"14.00\">gini = 0.03</text>\n<text text-anchor=\"middle\" x=\"339.5\" y=\"-111.8\" font-family=\"Helvetica,sans-Serif\" font-size=\"14.00\">samples = 132</text>\n<text text-anchor=\"middle\" x=\"339.5\" y=\"-96.8\" font-family=\"Helvetica,sans-Serif\" font-size=\"14.00\">value = [130, 2]</text>\n</g>\n<!-- 5&#45;&gt;9 -->\n<g id=\"edge9\" class=\"edge\">\n<title>5&#45;&gt;9</title>\n<path fill=\"none\" stroke=\"black\" d=\"M339.5,-192.88C339.5,-184.78 339.5,-175.98 339.5,-167.47\"/>\n<polygon fill=\"black\" stroke=\"black\" points=\"343,-167.3 339.5,-157.3 336,-167.3 343,-167.3\"/>\n</g>\n<!-- 7 -->\n<g id=\"node8\" class=\"node\">\n<title>7</title>\n<path fill=\"#e58139\" stroke=\"black\" d=\"M83,-53C83,-53 12,-53 12,-53 6,-53 0,-47 0,-41 0,-41 0,-12 0,-12 0,-6 6,0 12,0 12,0 83,0 83,0 89,0 95,-6 95,-12 95,-12 95,-41 95,-41 95,-47 89,-53 83,-53\"/>\n<text text-anchor=\"middle\" x=\"47.5\" y=\"-37.8\" font-family=\"Helvetica,sans-Serif\" font-size=\"14.00\">gini = 0.0</text>\n<text text-anchor=\"middle\" x=\"47.5\" y=\"-22.8\" font-family=\"Helvetica,sans-Serif\" font-size=\"14.00\">samples = 5</text>\n<text text-anchor=\"middle\" x=\"47.5\" y=\"-7.8\" font-family=\"Helvetica,sans-Serif\" font-size=\"14.00\">value = [5, 0]</text>\n</g>\n<!-- 6&#45;&gt;7 -->\n<g id=\"edge7\" class=\"edge\">\n<title>6&#45;&gt;7</title>\n<path fill=\"none\" stroke=\"black\" d=\"M120.98,-88.95C109.71,-79.53 97.45,-69.27 86.23,-59.89\"/>\n<polygon fill=\"black\" stroke=\"black\" points=\"88.19,-56.97 78.28,-53.24 83.7,-62.34 88.19,-56.97\"/>\n</g>\n<!-- 8 -->\n<g id=\"node9\" class=\"node\">\n<title>8</title>\n<path fill=\"#399de5\" stroke=\"black\" d=\"M196,-53C196,-53 125,-53 125,-53 119,-53 113,-47 113,-41 113,-41 113,-12 113,-12 113,-6 119,0 125,0 125,0 196,0 196,0 202,0 208,-6 208,-12 208,-12 208,-41 208,-41 208,-47 202,-53 196,-53\"/>\n<text text-anchor=\"middle\" x=\"160.5\" y=\"-37.8\" font-family=\"Helvetica,sans-Serif\" font-size=\"14.00\">gini = 0.0</text>\n<text text-anchor=\"middle\" x=\"160.5\" y=\"-22.8\" font-family=\"Helvetica,sans-Serif\" font-size=\"14.00\">samples = 1</text>\n<text text-anchor=\"middle\" x=\"160.5\" y=\"-7.8\" font-family=\"Helvetica,sans-Serif\" font-size=\"14.00\">value = [0, 1]</text>\n</g>\n<!-- 6&#45;&gt;8 -->\n<g id=\"edge8\" class=\"edge\">\n<title>6&#45;&gt;8</title>\n<path fill=\"none\" stroke=\"black\" d=\"M160.5,-88.95C160.5,-80.72 160.5,-71.85 160.5,-63.48\"/>\n<polygon fill=\"black\" stroke=\"black\" points=\"164,-63.24 160.5,-53.24 157,-63.24 164,-63.24\"/>\n</g>\n<!-- 10 -->\n<g id=\"node11\" class=\"node\">\n<title>10</title>\n<path fill=\"#e58139\" stroke=\"black\" d=\"M316.5,-53C316.5,-53 238.5,-53 238.5,-53 232.5,-53 226.5,-47 226.5,-41 226.5,-41 226.5,-12 226.5,-12 226.5,-6 232.5,0 238.5,0 238.5,0 316.5,0 316.5,0 322.5,0 328.5,-6 328.5,-12 328.5,-12 328.5,-41 328.5,-41 328.5,-47 322.5,-53 316.5,-53\"/>\n<text text-anchor=\"middle\" x=\"277.5\" y=\"-37.8\" font-family=\"Helvetica,sans-Serif\" font-size=\"14.00\">gini = 0.0</text>\n<text text-anchor=\"middle\" x=\"277.5\" y=\"-22.8\" font-family=\"Helvetica,sans-Serif\" font-size=\"14.00\">samples = 92</text>\n<text text-anchor=\"middle\" x=\"277.5\" y=\"-7.8\" font-family=\"Helvetica,sans-Serif\" font-size=\"14.00\">value = [92, 0]</text>\n</g>\n<!-- 9&#45;&gt;10 -->\n<g id=\"edge10\" class=\"edge\">\n<title>9&#45;&gt;10</title>\n<path fill=\"none\" stroke=\"black\" d=\"M317.82,-88.95C312.05,-80.17 305.82,-70.66 300.01,-61.82\"/>\n<polygon fill=\"black\" stroke=\"black\" points=\"302.8,-59.68 294.39,-53.24 296.94,-63.52 302.8,-59.68\"/>\n</g>\n<!-- 11 -->\n<g id=\"node12\" class=\"node\">\n<title>11</title>\n<path fill=\"#e68843\" stroke=\"black\" d=\"M436.5,-53C436.5,-53 358.5,-53 358.5,-53 352.5,-53 346.5,-47 346.5,-41 346.5,-41 346.5,-12 346.5,-12 346.5,-6 352.5,0 358.5,0 358.5,0 436.5,0 436.5,0 442.5,0 448.5,-6 448.5,-12 448.5,-12 448.5,-41 448.5,-41 448.5,-47 442.5,-53 436.5,-53\"/>\n<text text-anchor=\"middle\" x=\"397.5\" y=\"-37.8\" font-family=\"Helvetica,sans-Serif\" font-size=\"14.00\">gini = 0.095</text>\n<text text-anchor=\"middle\" x=\"397.5\" y=\"-22.8\" font-family=\"Helvetica,sans-Serif\" font-size=\"14.00\">samples = 40</text>\n<text text-anchor=\"middle\" x=\"397.5\" y=\"-7.8\" font-family=\"Helvetica,sans-Serif\" font-size=\"14.00\">value = [38, 2]</text>\n</g>\n<!-- 9&#45;&gt;11 -->\n<g id=\"edge11\" class=\"edge\">\n<title>9&#45;&gt;11</title>\n<path fill=\"none\" stroke=\"black\" d=\"M359.79,-88.95C365.18,-80.17 371.01,-70.66 376.44,-61.82\"/>\n<polygon fill=\"black\" stroke=\"black\" points=\"379.46,-63.59 381.7,-53.24 373.49,-59.93 379.46,-63.59\"/>\n</g>\n<!-- 13 -->\n<g id=\"node14\" class=\"node\">\n<title>13</title>\n<path fill=\"#e78945\" stroke=\"black\" d=\"M663.5,-157C663.5,-157 585.5,-157 585.5,-157 579.5,-157 573.5,-151 573.5,-145 573.5,-145 573.5,-101 573.5,-101 573.5,-95 579.5,-89 585.5,-89 585.5,-89 663.5,-89 663.5,-89 669.5,-89 675.5,-95 675.5,-101 675.5,-101 675.5,-145 675.5,-145 675.5,-151 669.5,-157 663.5,-157\"/>\n<text text-anchor=\"middle\" x=\"624.5\" y=\"-141.8\" font-family=\"Helvetica,sans-Serif\" font-size=\"14.00\">x[1] &lt;= 127.5</text>\n<text text-anchor=\"middle\" x=\"624.5\" y=\"-126.8\" font-family=\"Helvetica,sans-Serif\" font-size=\"14.00\">gini = 0.108</text>\n<text text-anchor=\"middle\" x=\"624.5\" y=\"-111.8\" font-family=\"Helvetica,sans-Serif\" font-size=\"14.00\">samples = 35</text>\n<text text-anchor=\"middle\" x=\"624.5\" y=\"-96.8\" font-family=\"Helvetica,sans-Serif\" font-size=\"14.00\">value = [33, 2]</text>\n</g>\n<!-- 12&#45;&gt;13 -->\n<g id=\"edge13\" class=\"edge\">\n<title>12&#45;&gt;13</title>\n<path fill=\"none\" stroke=\"black\" d=\"M625.85,-192.88C625.69,-184.78 625.52,-175.98 625.35,-167.47\"/>\n<polygon fill=\"black\" stroke=\"black\" points=\"628.85,-167.23 625.15,-157.3 621.85,-167.37 628.85,-167.23\"/>\n</g>\n<!-- 16 -->\n<g id=\"node17\" class=\"node\">\n<title>16</title>\n<path fill=\"#f2c09c\" stroke=\"black\" d=\"M791.5,-157C791.5,-157 705.5,-157 705.5,-157 699.5,-157 693.5,-151 693.5,-145 693.5,-145 693.5,-101 693.5,-101 693.5,-95 699.5,-89 705.5,-89 705.5,-89 791.5,-89 791.5,-89 797.5,-89 803.5,-95 803.5,-101 803.5,-101 803.5,-145 803.5,-145 803.5,-151 797.5,-157 791.5,-157\"/>\n<text text-anchor=\"middle\" x=\"748.5\" y=\"-141.8\" font-family=\"Helvetica,sans-Serif\" font-size=\"14.00\">x[1] &lt;= 92.0</text>\n<text text-anchor=\"middle\" x=\"748.5\" y=\"-126.8\" font-family=\"Helvetica,sans-Serif\" font-size=\"14.00\">gini = 0.444</text>\n<text text-anchor=\"middle\" x=\"748.5\" y=\"-111.8\" font-family=\"Helvetica,sans-Serif\" font-size=\"14.00\">samples = 30</text>\n<text text-anchor=\"middle\" x=\"748.5\" y=\"-96.8\" font-family=\"Helvetica,sans-Serif\" font-size=\"14.00\">value = [20, 10]</text>\n</g>\n<!-- 12&#45;&gt;16 -->\n<g id=\"edge16\" class=\"edge\">\n<title>12&#45;&gt;16</title>\n<path fill=\"none\" stroke=\"black\" d=\"M666.11,-192.88C677.19,-183.62 689.35,-173.45 700.84,-163.85\"/>\n<polygon fill=\"black\" stroke=\"black\" points=\"703.24,-166.4 708.67,-157.3 698.75,-161.03 703.24,-166.4\"/>\n</g>\n<!-- 14 -->\n<g id=\"node15\" class=\"node\">\n<title>14</title>\n<path fill=\"#e6853f\" stroke=\"black\" d=\"M556.5,-53C556.5,-53 478.5,-53 478.5,-53 472.5,-53 466.5,-47 466.5,-41 466.5,-41 466.5,-12 466.5,-12 466.5,-6 472.5,0 478.5,0 478.5,0 556.5,0 556.5,0 562.5,0 568.5,-6 568.5,-12 568.5,-12 568.5,-41 568.5,-41 568.5,-47 562.5,-53 556.5,-53\"/>\n<text text-anchor=\"middle\" x=\"517.5\" y=\"-37.8\" font-family=\"Helvetica,sans-Serif\" font-size=\"14.00\">gini = 0.061</text>\n<text text-anchor=\"middle\" x=\"517.5\" y=\"-22.8\" font-family=\"Helvetica,sans-Serif\" font-size=\"14.00\">samples = 32</text>\n<text text-anchor=\"middle\" x=\"517.5\" y=\"-7.8\" font-family=\"Helvetica,sans-Serif\" font-size=\"14.00\">value = [31, 1]</text>\n</g>\n<!-- 13&#45;&gt;14 -->\n<g id=\"edge14\" class=\"edge\">\n<title>13&#45;&gt;14</title>\n<path fill=\"none\" stroke=\"black\" d=\"M587.08,-88.95C576.41,-79.53 564.8,-69.27 554.18,-59.89\"/>\n<polygon fill=\"black\" stroke=\"black\" points=\"556.45,-57.23 546.64,-53.24 551.82,-62.48 556.45,-57.23\"/>\n</g>\n<!-- 15 -->\n<g id=\"node16\" class=\"node\">\n<title>15</title>\n<path fill=\"#f2c09c\" stroke=\"black\" d=\"M670,-53C670,-53 599,-53 599,-53 593,-53 587,-47 587,-41 587,-41 587,-12 587,-12 587,-6 593,0 599,0 599,0 670,0 670,0 676,0 682,-6 682,-12 682,-12 682,-41 682,-41 682,-47 676,-53 670,-53\"/>\n<text text-anchor=\"middle\" x=\"634.5\" y=\"-37.8\" font-family=\"Helvetica,sans-Serif\" font-size=\"14.00\">gini = 0.444</text>\n<text text-anchor=\"middle\" x=\"634.5\" y=\"-22.8\" font-family=\"Helvetica,sans-Serif\" font-size=\"14.00\">samples = 3</text>\n<text text-anchor=\"middle\" x=\"634.5\" y=\"-7.8\" font-family=\"Helvetica,sans-Serif\" font-size=\"14.00\">value = [2, 1]</text>\n</g>\n<!-- 13&#45;&gt;15 -->\n<g id=\"edge15\" class=\"edge\">\n<title>13&#45;&gt;15</title>\n<path fill=\"none\" stroke=\"black\" d=\"M628,-88.95C628.88,-80.62 629.83,-71.65 630.72,-63.2\"/>\n<polygon fill=\"black\" stroke=\"black\" points=\"634.2,-63.55 631.78,-53.24 627.24,-62.81 634.2,-63.55\"/>\n</g>\n<!-- 17 -->\n<g id=\"node18\" class=\"node\">\n<title>17</title>\n<path fill=\"#e89152\" stroke=\"black\" d=\"M783,-53C783,-53 712,-53 712,-53 706,-53 700,-47 700,-41 700,-41 700,-12 700,-12 700,-6 706,0 712,0 712,0 783,0 783,0 789,0 795,-6 795,-12 795,-12 795,-41 795,-41 795,-47 789,-53 783,-53\"/>\n<text text-anchor=\"middle\" x=\"747.5\" y=\"-37.8\" font-family=\"Helvetica,sans-Serif\" font-size=\"14.00\">gini = 0.198</text>\n<text text-anchor=\"middle\" x=\"747.5\" y=\"-22.8\" font-family=\"Helvetica,sans-Serif\" font-size=\"14.00\">samples = 9</text>\n<text text-anchor=\"middle\" x=\"747.5\" y=\"-7.8\" font-family=\"Helvetica,sans-Serif\" font-size=\"14.00\">value = [8, 1]</text>\n</g>\n<!-- 16&#45;&gt;17 -->\n<g id=\"edge17\" class=\"edge\">\n<title>16&#45;&gt;17</title>\n<path fill=\"none\" stroke=\"black\" d=\"M748.15,-88.95C748.06,-80.72 747.97,-71.85 747.88,-63.48\"/>\n<polygon fill=\"black\" stroke=\"black\" points=\"751.38,-63.2 747.77,-53.24 744.38,-63.27 751.38,-63.2\"/>\n</g>\n<!-- 18 -->\n<g id=\"node19\" class=\"node\">\n<title>18</title>\n<path fill=\"#f8e0ce\" stroke=\"black\" d=\"M903.5,-53C903.5,-53 825.5,-53 825.5,-53 819.5,-53 813.5,-47 813.5,-41 813.5,-41 813.5,-12 813.5,-12 813.5,-6 819.5,0 825.5,0 825.5,0 903.5,0 903.5,0 909.5,0 915.5,-6 915.5,-12 915.5,-12 915.5,-41 915.5,-41 915.5,-47 909.5,-53 903.5,-53\"/>\n<text text-anchor=\"middle\" x=\"864.5\" y=\"-37.8\" font-family=\"Helvetica,sans-Serif\" font-size=\"14.00\">gini = 0.49</text>\n<text text-anchor=\"middle\" x=\"864.5\" y=\"-22.8\" font-family=\"Helvetica,sans-Serif\" font-size=\"14.00\">samples = 21</text>\n<text text-anchor=\"middle\" x=\"864.5\" y=\"-7.8\" font-family=\"Helvetica,sans-Serif\" font-size=\"14.00\">value = [12, 9]</text>\n</g>\n<!-- 16&#45;&gt;18 -->\n<g id=\"edge18\" class=\"edge\">\n<title>16&#45;&gt;18</title>\n<path fill=\"none\" stroke=\"black\" d=\"M789.07,-88.95C800.75,-79.43 813.47,-69.07 825.08,-59.62\"/>\n<polygon fill=\"black\" stroke=\"black\" points=\"827.37,-62.27 832.91,-53.24 822.94,-56.84 827.37,-62.27\"/>\n</g>\n<!-- 20 -->\n<g id=\"node21\" class=\"node\">\n<title>20</title>\n<path fill=\"#e58139\" stroke=\"black\" d=\"M783,-253.5C783,-253.5 712,-253.5 712,-253.5 706,-253.5 700,-247.5 700,-241.5 700,-241.5 700,-212.5 700,-212.5 700,-206.5 706,-200.5 712,-200.5 712,-200.5 783,-200.5 783,-200.5 789,-200.5 795,-206.5 795,-212.5 795,-212.5 795,-241.5 795,-241.5 795,-247.5 789,-253.5 783,-253.5\"/>\n<text text-anchor=\"middle\" x=\"747.5\" y=\"-238.3\" font-family=\"Helvetica,sans-Serif\" font-size=\"14.00\">gini = 0.0</text>\n<text text-anchor=\"middle\" x=\"747.5\" y=\"-223.3\" font-family=\"Helvetica,sans-Serif\" font-size=\"14.00\">samples = 1</text>\n<text text-anchor=\"middle\" x=\"747.5\" y=\"-208.3\" font-family=\"Helvetica,sans-Serif\" font-size=\"14.00\">value = [1, 0]</text>\n</g>\n<!-- 19&#45;&gt;20 -->\n<g id=\"edge20\" class=\"edge\">\n<title>19&#45;&gt;20</title>\n<path fill=\"none\" stroke=\"black\" d=\"M787.34,-296.88C780.92,-285.78 773.74,-273.37 767.27,-262.18\"/>\n<polygon fill=\"black\" stroke=\"black\" points=\"770.3,-260.42 762.26,-253.52 764.24,-263.93 770.3,-260.42\"/>\n</g>\n<!-- 21 -->\n<g id=\"node22\" class=\"node\">\n<title>21</title>\n<path fill=\"#399de5\" stroke=\"black\" d=\"M896,-253.5C896,-253.5 825,-253.5 825,-253.5 819,-253.5 813,-247.5 813,-241.5 813,-241.5 813,-212.5 813,-212.5 813,-206.5 819,-200.5 825,-200.5 825,-200.5 896,-200.5 896,-200.5 902,-200.5 908,-206.5 908,-212.5 908,-212.5 908,-241.5 908,-241.5 908,-247.5 902,-253.5 896,-253.5\"/>\n<text text-anchor=\"middle\" x=\"860.5\" y=\"-238.3\" font-family=\"Helvetica,sans-Serif\" font-size=\"14.00\">gini = 0.0</text>\n<text text-anchor=\"middle\" x=\"860.5\" y=\"-223.3\" font-family=\"Helvetica,sans-Serif\" font-size=\"14.00\">samples = 2</text>\n<text text-anchor=\"middle\" x=\"860.5\" y=\"-208.3\" font-family=\"Helvetica,sans-Serif\" font-size=\"14.00\">value = [0, 2]</text>\n</g>\n<!-- 19&#45;&gt;21 -->\n<g id=\"edge21\" class=\"edge\">\n<title>19&#45;&gt;21</title>\n<path fill=\"none\" stroke=\"black\" d=\"M824.03,-296.88C829.85,-285.89 836.35,-273.62 842.23,-262.52\"/>\n<polygon fill=\"black\" stroke=\"black\" points=\"845.4,-264 846.99,-253.52 839.22,-260.72 845.4,-264\"/>\n</g>\n<!-- 23 -->\n<g id=\"node24\" class=\"node\">\n<title>23</title>\n<path fill=\"#399de5\" stroke=\"black\" d=\"M964,-357.5C964,-357.5 893,-357.5 893,-357.5 887,-357.5 881,-351.5 881,-345.5 881,-345.5 881,-316.5 881,-316.5 881,-310.5 887,-304.5 893,-304.5 893,-304.5 964,-304.5 964,-304.5 970,-304.5 976,-310.5 976,-316.5 976,-316.5 976,-345.5 976,-345.5 976,-351.5 970,-357.5 964,-357.5\"/>\n<text text-anchor=\"middle\" x=\"928.5\" y=\"-342.3\" font-family=\"Helvetica,sans-Serif\" font-size=\"14.00\">gini = 0.0</text>\n<text text-anchor=\"middle\" x=\"928.5\" y=\"-327.3\" font-family=\"Helvetica,sans-Serif\" font-size=\"14.00\">samples = 5</text>\n<text text-anchor=\"middle\" x=\"928.5\" y=\"-312.3\" font-family=\"Helvetica,sans-Serif\" font-size=\"14.00\">value = [0, 5]</text>\n</g>\n<!-- 22&#45;&gt;23 -->\n<g id=\"edge23\" class=\"edge\">\n<title>22&#45;&gt;23</title>\n<path fill=\"none\" stroke=\"black\" d=\"M964.97,-400.88C959.15,-389.89 952.65,-377.62 946.77,-366.52\"/>\n<polygon fill=\"black\" stroke=\"black\" points=\"949.78,-364.72 942.01,-357.52 943.6,-368 949.78,-364.72\"/>\n</g>\n<!-- 24 -->\n<g id=\"node25\" class=\"node\">\n<title>24</title>\n<path fill=\"#e58139\" stroke=\"black\" d=\"M1077,-357.5C1077,-357.5 1006,-357.5 1006,-357.5 1000,-357.5 994,-351.5 994,-345.5 994,-345.5 994,-316.5 994,-316.5 994,-310.5 1000,-304.5 1006,-304.5 1006,-304.5 1077,-304.5 1077,-304.5 1083,-304.5 1089,-310.5 1089,-316.5 1089,-316.5 1089,-345.5 1089,-345.5 1089,-351.5 1083,-357.5 1077,-357.5\"/>\n<text text-anchor=\"middle\" x=\"1041.5\" y=\"-342.3\" font-family=\"Helvetica,sans-Serif\" font-size=\"14.00\">gini = 0.0</text>\n<text text-anchor=\"middle\" x=\"1041.5\" y=\"-327.3\" font-family=\"Helvetica,sans-Serif\" font-size=\"14.00\">samples = 1</text>\n<text text-anchor=\"middle\" x=\"1041.5\" y=\"-312.3\" font-family=\"Helvetica,sans-Serif\" font-size=\"14.00\">value = [1, 0]</text>\n</g>\n<!-- 22&#45;&gt;24 -->\n<g id=\"edge24\" class=\"edge\">\n<title>22&#45;&gt;24</title>\n<path fill=\"none\" stroke=\"black\" d=\"M1001.66,-400.88C1008.08,-389.78 1015.26,-377.37 1021.73,-366.18\"/>\n<polygon fill=\"black\" stroke=\"black\" points=\"1024.76,-367.93 1026.74,-357.52 1018.7,-364.42 1024.76,-367.93\"/>\n</g>\n<!-- 26 -->\n<g id=\"node27\" class=\"node\">\n<title>26</title>\n<path fill=\"#e78946\" stroke=\"black\" d=\"M1314.5,-469C1314.5,-469 1236.5,-469 1236.5,-469 1230.5,-469 1224.5,-463 1224.5,-457 1224.5,-457 1224.5,-413 1224.5,-413 1224.5,-407 1230.5,-401 1236.5,-401 1236.5,-401 1314.5,-401 1314.5,-401 1320.5,-401 1326.5,-407 1326.5,-413 1326.5,-413 1326.5,-457 1326.5,-457 1326.5,-463 1320.5,-469 1314.5,-469\"/>\n<text text-anchor=\"middle\" x=\"1275.5\" y=\"-453.8\" font-family=\"Helvetica,sans-Serif\" font-size=\"14.00\">x[5] &lt;= 9.65</text>\n<text text-anchor=\"middle\" x=\"1275.5\" y=\"-438.8\" font-family=\"Helvetica,sans-Serif\" font-size=\"14.00\">gini = 0.117</text>\n<text text-anchor=\"middle\" x=\"1275.5\" y=\"-423.8\" font-family=\"Helvetica,sans-Serif\" font-size=\"14.00\">samples = 32</text>\n<text text-anchor=\"middle\" x=\"1275.5\" y=\"-408.8\" font-family=\"Helvetica,sans-Serif\" font-size=\"14.00\">value = [30, 2]</text>\n</g>\n<!-- 25&#45;&gt;26 -->\n<g id=\"edge26\" class=\"edge\">\n<title>25&#45;&gt;26</title>\n<path fill=\"none\" stroke=\"black\" d=\"M1317.37,-504.88C1312.17,-496.33 1306.51,-487.01 1301.07,-478.07\"/>\n<polygon fill=\"black\" stroke=\"black\" points=\"1303.93,-476.03 1295.74,-469.3 1297.94,-479.66 1303.93,-476.03\"/>\n</g>\n<!-- 29 -->\n<g id=\"node30\" class=\"node\">\n<title>29</title>\n<path fill=\"#f7d7c0\" stroke=\"black\" d=\"M1442.5,-469C1442.5,-469 1356.5,-469 1356.5,-469 1350.5,-469 1344.5,-463 1344.5,-457 1344.5,-457 1344.5,-413 1344.5,-413 1344.5,-407 1350.5,-401 1356.5,-401 1356.5,-401 1442.5,-401 1442.5,-401 1448.5,-401 1454.5,-407 1454.5,-413 1454.5,-413 1454.5,-457 1454.5,-457 1454.5,-463 1448.5,-469 1442.5,-469\"/>\n<text text-anchor=\"middle\" x=\"1399.5\" y=\"-453.8\" font-family=\"Helvetica,sans-Serif\" font-size=\"14.00\">x[6] &lt;= 0.561</text>\n<text text-anchor=\"middle\" x=\"1399.5\" y=\"-438.8\" font-family=\"Helvetica,sans-Serif\" font-size=\"14.00\">gini = 0.482</text>\n<text text-anchor=\"middle\" x=\"1399.5\" y=\"-423.8\" font-family=\"Helvetica,sans-Serif\" font-size=\"14.00\">samples = 126</text>\n<text text-anchor=\"middle\" x=\"1399.5\" y=\"-408.8\" font-family=\"Helvetica,sans-Serif\" font-size=\"14.00\">value = [75, 51]</text>\n</g>\n<!-- 25&#45;&gt;29 -->\n<g id=\"edge29\" class=\"edge\">\n<title>25&#45;&gt;29</title>\n<path fill=\"none\" stroke=\"black\" d=\"M1357.63,-504.88C1362.83,-496.33 1368.49,-487.01 1373.93,-478.07\"/>\n<polygon fill=\"black\" stroke=\"black\" points=\"1377.06,-479.66 1379.26,-469.3 1371.07,-476.03 1377.06,-479.66\"/>\n</g>\n<!-- 27 -->\n<g id=\"node28\" class=\"node\">\n<title>27</title>\n<path fill=\"#399de5\" stroke=\"black\" d=\"M1194,-357.5C1194,-357.5 1123,-357.5 1123,-357.5 1117,-357.5 1111,-351.5 1111,-345.5 1111,-345.5 1111,-316.5 1111,-316.5 1111,-310.5 1117,-304.5 1123,-304.5 1123,-304.5 1194,-304.5 1194,-304.5 1200,-304.5 1206,-310.5 1206,-316.5 1206,-316.5 1206,-345.5 1206,-345.5 1206,-351.5 1200,-357.5 1194,-357.5\"/>\n<text text-anchor=\"middle\" x=\"1158.5\" y=\"-342.3\" font-family=\"Helvetica,sans-Serif\" font-size=\"14.00\">gini = 0.0</text>\n<text text-anchor=\"middle\" x=\"1158.5\" y=\"-327.3\" font-family=\"Helvetica,sans-Serif\" font-size=\"14.00\">samples = 2</text>\n<text text-anchor=\"middle\" x=\"1158.5\" y=\"-312.3\" font-family=\"Helvetica,sans-Serif\" font-size=\"14.00\">value = [0, 2]</text>\n</g>\n<!-- 26&#45;&gt;27 -->\n<g id=\"edge27\" class=\"edge\">\n<title>26&#45;&gt;27</title>\n<path fill=\"none\" stroke=\"black\" d=\"M1237.51,-400.88C1224.02,-389.12 1208.85,-375.89 1195.44,-364.2\"/>\n<polygon fill=\"black\" stroke=\"black\" points=\"1197.61,-361.45 1187.77,-357.52 1193.01,-366.73 1197.61,-361.45\"/>\n</g>\n<!-- 28 -->\n<g id=\"node29\" class=\"node\">\n<title>28</title>\n<path fill=\"#e58139\" stroke=\"black\" d=\"M1314.5,-357.5C1314.5,-357.5 1236.5,-357.5 1236.5,-357.5 1230.5,-357.5 1224.5,-351.5 1224.5,-345.5 1224.5,-345.5 1224.5,-316.5 1224.5,-316.5 1224.5,-310.5 1230.5,-304.5 1236.5,-304.5 1236.5,-304.5 1314.5,-304.5 1314.5,-304.5 1320.5,-304.5 1326.5,-310.5 1326.5,-316.5 1326.5,-316.5 1326.5,-345.5 1326.5,-345.5 1326.5,-351.5 1320.5,-357.5 1314.5,-357.5\"/>\n<text text-anchor=\"middle\" x=\"1275.5\" y=\"-342.3\" font-family=\"Helvetica,sans-Serif\" font-size=\"14.00\">gini = 0.0</text>\n<text text-anchor=\"middle\" x=\"1275.5\" y=\"-327.3\" font-family=\"Helvetica,sans-Serif\" font-size=\"14.00\">samples = 30</text>\n<text text-anchor=\"middle\" x=\"1275.5\" y=\"-312.3\" font-family=\"Helvetica,sans-Serif\" font-size=\"14.00\">value = [30, 0]</text>\n</g>\n<!-- 26&#45;&gt;28 -->\n<g id=\"edge28\" class=\"edge\">\n<title>26&#45;&gt;28</title>\n<path fill=\"none\" stroke=\"black\" d=\"M1275.5,-400.88C1275.5,-390.33 1275.5,-378.6 1275.5,-367.85\"/>\n<polygon fill=\"black\" stroke=\"black\" points=\"1279,-367.52 1275.5,-357.52 1272,-367.52 1279,-367.52\"/>\n</g>\n<!-- 30 -->\n<g id=\"node31\" class=\"node\">\n<title>30</title>\n<path fill=\"#f0b990\" stroke=\"black\" d=\"M1442.5,-365C1442.5,-365 1356.5,-365 1356.5,-365 1350.5,-365 1344.5,-359 1344.5,-353 1344.5,-353 1344.5,-309 1344.5,-309 1344.5,-303 1350.5,-297 1356.5,-297 1356.5,-297 1442.5,-297 1442.5,-297 1448.5,-297 1454.5,-303 1454.5,-309 1454.5,-309 1454.5,-353 1454.5,-353 1454.5,-359 1448.5,-365 1442.5,-365\"/>\n<text text-anchor=\"middle\" x=\"1399.5\" y=\"-349.8\" font-family=\"Helvetica,sans-Serif\" font-size=\"14.00\">x[0] &lt;= 1.5</text>\n<text text-anchor=\"middle\" x=\"1399.5\" y=\"-334.8\" font-family=\"Helvetica,sans-Serif\" font-size=\"14.00\">gini = 0.425</text>\n<text text-anchor=\"middle\" x=\"1399.5\" y=\"-319.8\" font-family=\"Helvetica,sans-Serif\" font-size=\"14.00\">samples = 85</text>\n<text text-anchor=\"middle\" x=\"1399.5\" y=\"-304.8\" font-family=\"Helvetica,sans-Serif\" font-size=\"14.00\">value = [59, 26]</text>\n</g>\n<!-- 29&#45;&gt;30 -->\n<g id=\"edge30\" class=\"edge\">\n<title>29&#45;&gt;30</title>\n<path fill=\"none\" stroke=\"black\" d=\"M1399.5,-400.88C1399.5,-392.78 1399.5,-383.98 1399.5,-375.47\"/>\n<polygon fill=\"black\" stroke=\"black\" points=\"1403,-375.3 1399.5,-365.3 1396,-375.3 1403,-375.3\"/>\n</g>\n<!-- 43 -->\n<g id=\"node44\" class=\"node\">\n<title>43</title>\n<path fill=\"#b8dcf6\" stroke=\"black\" d=\"M1720.5,-365C1720.5,-365 1634.5,-365 1634.5,-365 1628.5,-365 1622.5,-359 1622.5,-353 1622.5,-353 1622.5,-309 1622.5,-309 1622.5,-303 1628.5,-297 1634.5,-297 1634.5,-297 1720.5,-297 1720.5,-297 1726.5,-297 1732.5,-303 1732.5,-309 1732.5,-309 1732.5,-353 1732.5,-353 1732.5,-359 1726.5,-365 1720.5,-365\"/>\n<text text-anchor=\"middle\" x=\"1677.5\" y=\"-349.8\" font-family=\"Helvetica,sans-Serif\" font-size=\"14.00\">x[0] &lt;= 8.5</text>\n<text text-anchor=\"middle\" x=\"1677.5\" y=\"-334.8\" font-family=\"Helvetica,sans-Serif\" font-size=\"14.00\">gini = 0.476</text>\n<text text-anchor=\"middle\" x=\"1677.5\" y=\"-319.8\" font-family=\"Helvetica,sans-Serif\" font-size=\"14.00\">samples = 41</text>\n<text text-anchor=\"middle\" x=\"1677.5\" y=\"-304.8\" font-family=\"Helvetica,sans-Serif\" font-size=\"14.00\">value = [16, 25]</text>\n</g>\n<!-- 29&#45;&gt;43 -->\n<g id=\"edge43\" class=\"edge\">\n<title>29&#45;&gt;43</title>\n<path fill=\"none\" stroke=\"black\" d=\"M1454.76,-413.73C1500.24,-397.04 1564.78,-373.36 1612.69,-355.78\"/>\n<polygon fill=\"black\" stroke=\"black\" points=\"1614.17,-358.97 1622.35,-352.24 1611.75,-352.39 1614.17,-358.97\"/>\n</g>\n<!-- 31 -->\n<g id=\"node32\" class=\"node\">\n<title>31</title>\n<path fill=\"#b5daf5\" stroke=\"black\" d=\"M1131.5,-261C1131.5,-261 1057.5,-261 1057.5,-261 1051.5,-261 1045.5,-255 1045.5,-249 1045.5,-249 1045.5,-205 1045.5,-205 1045.5,-199 1051.5,-193 1057.5,-193 1057.5,-193 1131.5,-193 1131.5,-193 1137.5,-193 1143.5,-199 1143.5,-205 1143.5,-205 1143.5,-249 1143.5,-249 1143.5,-255 1137.5,-261 1131.5,-261\"/>\n<text text-anchor=\"middle\" x=\"1094.5\" y=\"-245.8\" font-family=\"Helvetica,sans-Serif\" font-size=\"14.00\">x[6] &lt;= 0.2</text>\n<text text-anchor=\"middle\" x=\"1094.5\" y=\"-230.8\" font-family=\"Helvetica,sans-Serif\" font-size=\"14.00\">gini = 0.473</text>\n<text text-anchor=\"middle\" x=\"1094.5\" y=\"-215.8\" font-family=\"Helvetica,sans-Serif\" font-size=\"14.00\">samples = 13</text>\n<text text-anchor=\"middle\" x=\"1094.5\" y=\"-200.8\" font-family=\"Helvetica,sans-Serif\" font-size=\"14.00\">value = [5, 8]</text>\n</g>\n<!-- 30&#45;&gt;31 -->\n<g id=\"edge31\" class=\"edge\">\n<title>30&#45;&gt;31</title>\n<path fill=\"none\" stroke=\"black\" d=\"M1344.31,-300.7C1341.35,-299.39 1338.41,-298.15 1335.5,-297 1275.13,-273.06 1203.26,-253.59 1153.8,-241.51\"/>\n<polygon fill=\"black\" stroke=\"black\" points=\"1154.45,-238.06 1143.91,-239.12 1152.81,-244.87 1154.45,-238.06\"/>\n</g>\n<!-- 36 -->\n<g id=\"node37\" class=\"node\">\n<title>36</title>\n<path fill=\"#eeab7b\" stroke=\"black\" d=\"M1442.5,-261C1442.5,-261 1356.5,-261 1356.5,-261 1350.5,-261 1344.5,-255 1344.5,-249 1344.5,-249 1344.5,-205 1344.5,-205 1344.5,-199 1350.5,-193 1356.5,-193 1356.5,-193 1442.5,-193 1442.5,-193 1448.5,-193 1454.5,-199 1454.5,-205 1454.5,-205 1454.5,-249 1454.5,-249 1454.5,-255 1448.5,-261 1442.5,-261\"/>\n<text text-anchor=\"middle\" x=\"1399.5\" y=\"-245.8\" font-family=\"Helvetica,sans-Serif\" font-size=\"14.00\">x[4] &lt;= 11.0</text>\n<text text-anchor=\"middle\" x=\"1399.5\" y=\"-230.8\" font-family=\"Helvetica,sans-Serif\" font-size=\"14.00\">gini = 0.375</text>\n<text text-anchor=\"middle\" x=\"1399.5\" y=\"-215.8\" font-family=\"Helvetica,sans-Serif\" font-size=\"14.00\">samples = 72</text>\n<text text-anchor=\"middle\" x=\"1399.5\" y=\"-200.8\" font-family=\"Helvetica,sans-Serif\" font-size=\"14.00\">value = [54, 18]</text>\n</g>\n<!-- 30&#45;&gt;36 -->\n<g id=\"edge36\" class=\"edge\">\n<title>30&#45;&gt;36</title>\n<path fill=\"none\" stroke=\"black\" d=\"M1399.5,-296.88C1399.5,-288.78 1399.5,-279.98 1399.5,-271.47\"/>\n<polygon fill=\"black\" stroke=\"black\" points=\"1403,-271.3 1399.5,-261.3 1396,-271.3 1403,-271.3\"/>\n</g>\n<!-- 32 -->\n<g id=\"node33\" class=\"node\">\n<title>32</title>\n<path fill=\"#e58139\" stroke=\"black\" d=\"M1015,-149.5C1015,-149.5 944,-149.5 944,-149.5 938,-149.5 932,-143.5 932,-137.5 932,-137.5 932,-108.5 932,-108.5 932,-102.5 938,-96.5 944,-96.5 944,-96.5 1015,-96.5 1015,-96.5 1021,-96.5 1027,-102.5 1027,-108.5 1027,-108.5 1027,-137.5 1027,-137.5 1027,-143.5 1021,-149.5 1015,-149.5\"/>\n<text text-anchor=\"middle\" x=\"979.5\" y=\"-134.3\" font-family=\"Helvetica,sans-Serif\" font-size=\"14.00\">gini = 0.0</text>\n<text text-anchor=\"middle\" x=\"979.5\" y=\"-119.3\" font-family=\"Helvetica,sans-Serif\" font-size=\"14.00\">samples = 3</text>\n<text text-anchor=\"middle\" x=\"979.5\" y=\"-104.3\" font-family=\"Helvetica,sans-Serif\" font-size=\"14.00\">value = [3, 0]</text>\n</g>\n<!-- 31&#45;&gt;32 -->\n<g id=\"edge32\" class=\"edge\">\n<title>31&#45;&gt;32</title>\n<path fill=\"none\" stroke=\"black\" d=\"M1057.16,-192.88C1043.9,-181.12 1028.99,-167.89 1015.81,-156.2\"/>\n<polygon fill=\"black\" stroke=\"black\" points=\"1018.08,-153.54 1008.27,-149.52 1013.43,-158.77 1018.08,-153.54\"/>\n</g>\n<!-- 33 -->\n<g id=\"node34\" class=\"node\">\n<title>33</title>\n<path fill=\"#6ab6ec\" stroke=\"black\" d=\"M1131.5,-157C1131.5,-157 1057.5,-157 1057.5,-157 1051.5,-157 1045.5,-151 1045.5,-145 1045.5,-145 1045.5,-101 1045.5,-101 1045.5,-95 1051.5,-89 1057.5,-89 1057.5,-89 1131.5,-89 1131.5,-89 1137.5,-89 1143.5,-95 1143.5,-101 1143.5,-101 1143.5,-145 1143.5,-145 1143.5,-151 1137.5,-157 1131.5,-157\"/>\n<text text-anchor=\"middle\" x=\"1094.5\" y=\"-141.8\" font-family=\"Helvetica,sans-Serif\" font-size=\"14.00\">x[1] &lt;= 101.0</text>\n<text text-anchor=\"middle\" x=\"1094.5\" y=\"-126.8\" font-family=\"Helvetica,sans-Serif\" font-size=\"14.00\">gini = 0.32</text>\n<text text-anchor=\"middle\" x=\"1094.5\" y=\"-111.8\" font-family=\"Helvetica,sans-Serif\" font-size=\"14.00\">samples = 10</text>\n<text text-anchor=\"middle\" x=\"1094.5\" y=\"-96.8\" font-family=\"Helvetica,sans-Serif\" font-size=\"14.00\">value = [2, 8]</text>\n</g>\n<!-- 31&#45;&gt;33 -->\n<g id=\"edge33\" class=\"edge\">\n<title>31&#45;&gt;33</title>\n<path fill=\"none\" stroke=\"black\" d=\"M1094.5,-192.88C1094.5,-184.78 1094.5,-175.98 1094.5,-167.47\"/>\n<polygon fill=\"black\" stroke=\"black\" points=\"1098,-167.3 1094.5,-157.3 1091,-167.3 1098,-167.3\"/>\n</g>\n<!-- 34 -->\n<g id=\"node35\" class=\"node\">\n<title>34</title>\n<path fill=\"#f2c09c\" stroke=\"black\" d=\"M1017,-53C1017,-53 946,-53 946,-53 940,-53 934,-47 934,-41 934,-41 934,-12 934,-12 934,-6 940,0 946,0 946,0 1017,0 1017,0 1023,0 1029,-6 1029,-12 1029,-12 1029,-41 1029,-41 1029,-47 1023,-53 1017,-53\"/>\n<text text-anchor=\"middle\" x=\"981.5\" y=\"-37.8\" font-family=\"Helvetica,sans-Serif\" font-size=\"14.00\">gini = 0.444</text>\n<text text-anchor=\"middle\" x=\"981.5\" y=\"-22.8\" font-family=\"Helvetica,sans-Serif\" font-size=\"14.00\">samples = 3</text>\n<text text-anchor=\"middle\" x=\"981.5\" y=\"-7.8\" font-family=\"Helvetica,sans-Serif\" font-size=\"14.00\">value = [2, 1]</text>\n</g>\n<!-- 33&#45;&gt;34 -->\n<g id=\"edge34\" class=\"edge\">\n<title>33&#45;&gt;34</title>\n<path fill=\"none\" stroke=\"black\" d=\"M1054.98,-88.95C1043.71,-79.53 1031.45,-69.27 1020.23,-59.89\"/>\n<polygon fill=\"black\" stroke=\"black\" points=\"1022.19,-56.97 1012.28,-53.24 1017.7,-62.34 1022.19,-56.97\"/>\n</g>\n<!-- 35 -->\n<g id=\"node36\" class=\"node\">\n<title>35</title>\n<path fill=\"#399de5\" stroke=\"black\" d=\"M1130,-53C1130,-53 1059,-53 1059,-53 1053,-53 1047,-47 1047,-41 1047,-41 1047,-12 1047,-12 1047,-6 1053,0 1059,0 1059,0 1130,0 1130,0 1136,0 1142,-6 1142,-12 1142,-12 1142,-41 1142,-41 1142,-47 1136,-53 1130,-53\"/>\n<text text-anchor=\"middle\" x=\"1094.5\" y=\"-37.8\" font-family=\"Helvetica,sans-Serif\" font-size=\"14.00\">gini = 0.0</text>\n<text text-anchor=\"middle\" x=\"1094.5\" y=\"-22.8\" font-family=\"Helvetica,sans-Serif\" font-size=\"14.00\">samples = 7</text>\n<text text-anchor=\"middle\" x=\"1094.5\" y=\"-7.8\" font-family=\"Helvetica,sans-Serif\" font-size=\"14.00\">value = [0, 7]</text>\n</g>\n<!-- 33&#45;&gt;35 -->\n<g id=\"edge35\" class=\"edge\">\n<title>33&#45;&gt;35</title>\n<path fill=\"none\" stroke=\"black\" d=\"M1094.5,-88.95C1094.5,-80.72 1094.5,-71.85 1094.5,-63.48\"/>\n<polygon fill=\"black\" stroke=\"black\" points=\"1098,-63.24 1094.5,-53.24 1091,-63.24 1098,-63.24\"/>\n</g>\n<!-- 37 -->\n<g id=\"node38\" class=\"node\">\n<title>37</title>\n<path fill=\"#f1bc96\" stroke=\"black\" d=\"M1373.5,-157C1373.5,-157 1287.5,-157 1287.5,-157 1281.5,-157 1275.5,-151 1275.5,-145 1275.5,-145 1275.5,-101 1275.5,-101 1275.5,-95 1281.5,-89 1287.5,-89 1287.5,-89 1373.5,-89 1373.5,-89 1379.5,-89 1385.5,-95 1385.5,-101 1385.5,-101 1385.5,-145 1385.5,-145 1385.5,-151 1379.5,-157 1373.5,-157\"/>\n<text text-anchor=\"middle\" x=\"1330.5\" y=\"-141.8\" font-family=\"Helvetica,sans-Serif\" font-size=\"14.00\">x[2] &lt;= 73.0</text>\n<text text-anchor=\"middle\" x=\"1330.5\" y=\"-126.8\" font-family=\"Helvetica,sans-Serif\" font-size=\"14.00\">gini = 0.435</text>\n<text text-anchor=\"middle\" x=\"1330.5\" y=\"-111.8\" font-family=\"Helvetica,sans-Serif\" font-size=\"14.00\">samples = 50</text>\n<text text-anchor=\"middle\" x=\"1330.5\" y=\"-96.8\" font-family=\"Helvetica,sans-Serif\" font-size=\"14.00\">value = [34, 16]</text>\n</g>\n<!-- 36&#45;&gt;37 -->\n<g id=\"edge37\" class=\"edge\">\n<title>36&#45;&gt;37</title>\n<path fill=\"none\" stroke=\"black\" d=\"M1377.1,-192.88C1371.25,-184.24 1364.88,-174.82 1358.77,-165.79\"/>\n<polygon fill=\"black\" stroke=\"black\" points=\"1361.53,-163.62 1353.03,-157.3 1355.73,-167.54 1361.53,-163.62\"/>\n</g>\n<!-- 40 -->\n<g id=\"node41\" class=\"node\">\n<title>40</title>\n<path fill=\"#e88e4d\" stroke=\"black\" d=\"M1493.5,-157C1493.5,-157 1415.5,-157 1415.5,-157 1409.5,-157 1403.5,-151 1403.5,-145 1403.5,-145 1403.5,-101 1403.5,-101 1403.5,-95 1409.5,-89 1415.5,-89 1415.5,-89 1493.5,-89 1493.5,-89 1499.5,-89 1505.5,-95 1505.5,-101 1505.5,-101 1505.5,-145 1505.5,-145 1505.5,-151 1499.5,-157 1493.5,-157\"/>\n<text text-anchor=\"middle\" x=\"1454.5\" y=\"-141.8\" font-family=\"Helvetica,sans-Serif\" font-size=\"14.00\">x[3] &lt;= 46.5</text>\n<text text-anchor=\"middle\" x=\"1454.5\" y=\"-126.8\" font-family=\"Helvetica,sans-Serif\" font-size=\"14.00\">gini = 0.165</text>\n<text text-anchor=\"middle\" x=\"1454.5\" y=\"-111.8\" font-family=\"Helvetica,sans-Serif\" font-size=\"14.00\">samples = 22</text>\n<text text-anchor=\"middle\" x=\"1454.5\" y=\"-96.8\" font-family=\"Helvetica,sans-Serif\" font-size=\"14.00\">value = [20, 2]</text>\n</g>\n<!-- 36&#45;&gt;40 -->\n<g id=\"edge40\" class=\"edge\">\n<title>36&#45;&gt;40</title>\n<path fill=\"none\" stroke=\"black\" d=\"M1417.36,-192.88C1421.92,-184.42 1426.89,-175.21 1431.66,-166.35\"/>\n<polygon fill=\"black\" stroke=\"black\" points=\"1434.88,-167.76 1436.54,-157.3 1428.72,-164.44 1434.88,-167.76\"/>\n</g>\n<!-- 38 -->\n<g id=\"node39\" class=\"node\">\n<title>38</title>\n<path fill=\"#d7ebfa\" stroke=\"black\" d=\"M1250.5,-53C1250.5,-53 1172.5,-53 1172.5,-53 1166.5,-53 1160.5,-47 1160.5,-41 1160.5,-41 1160.5,-12 1160.5,-12 1160.5,-6 1166.5,0 1172.5,0 1172.5,0 1250.5,0 1250.5,0 1256.5,0 1262.5,-6 1262.5,-12 1262.5,-12 1262.5,-41 1262.5,-41 1262.5,-47 1256.5,-53 1250.5,-53\"/>\n<text text-anchor=\"middle\" x=\"1211.5\" y=\"-37.8\" font-family=\"Helvetica,sans-Serif\" font-size=\"14.00\">gini = 0.494</text>\n<text text-anchor=\"middle\" x=\"1211.5\" y=\"-22.8\" font-family=\"Helvetica,sans-Serif\" font-size=\"14.00\">samples = 18</text>\n<text text-anchor=\"middle\" x=\"1211.5\" y=\"-7.8\" font-family=\"Helvetica,sans-Serif\" font-size=\"14.00\">value = [8, 10]</text>\n</g>\n<!-- 37&#45;&gt;38 -->\n<g id=\"edge38\" class=\"edge\">\n<title>37&#45;&gt;38</title>\n<path fill=\"none\" stroke=\"black\" d=\"M1288.88,-88.95C1276.9,-79.43 1263.85,-69.07 1251.94,-59.62\"/>\n<polygon fill=\"black\" stroke=\"black\" points=\"1253.92,-56.71 1243.91,-53.24 1249.56,-62.2 1253.92,-56.71\"/>\n</g>\n<!-- 39 -->\n<g id=\"node40\" class=\"node\">\n<title>39</title>\n<path fill=\"#eb9e67\" stroke=\"black\" d=\"M1370.5,-53C1370.5,-53 1292.5,-53 1292.5,-53 1286.5,-53 1280.5,-47 1280.5,-41 1280.5,-41 1280.5,-12 1280.5,-12 1280.5,-6 1286.5,0 1292.5,0 1292.5,0 1370.5,0 1370.5,0 1376.5,0 1382.5,-6 1382.5,-12 1382.5,-12 1382.5,-41 1382.5,-41 1382.5,-47 1376.5,-53 1370.5,-53\"/>\n<text text-anchor=\"middle\" x=\"1331.5\" y=\"-37.8\" font-family=\"Helvetica,sans-Serif\" font-size=\"14.00\">gini = 0.305</text>\n<text text-anchor=\"middle\" x=\"1331.5\" y=\"-22.8\" font-family=\"Helvetica,sans-Serif\" font-size=\"14.00\">samples = 32</text>\n<text text-anchor=\"middle\" x=\"1331.5\" y=\"-7.8\" font-family=\"Helvetica,sans-Serif\" font-size=\"14.00\">value = [26, 6]</text>\n</g>\n<!-- 37&#45;&gt;39 -->\n<g id=\"edge39\" class=\"edge\">\n<title>37&#45;&gt;39</title>\n<path fill=\"none\" stroke=\"black\" d=\"M1330.85,-88.95C1330.94,-80.72 1331.03,-71.85 1331.12,-63.48\"/>\n<polygon fill=\"black\" stroke=\"black\" points=\"1334.62,-63.27 1331.23,-53.24 1327.62,-63.2 1334.62,-63.27\"/>\n</g>\n<!-- 41 -->\n<g id=\"node42\" class=\"node\">\n<title>41</title>\n<path fill=\"#e68743\" stroke=\"black\" d=\"M1490.5,-53C1490.5,-53 1412.5,-53 1412.5,-53 1406.5,-53 1400.5,-47 1400.5,-41 1400.5,-41 1400.5,-12 1400.5,-12 1400.5,-6 1406.5,0 1412.5,0 1412.5,0 1490.5,0 1490.5,0 1496.5,0 1502.5,-6 1502.5,-12 1502.5,-12 1502.5,-41 1502.5,-41 1502.5,-47 1496.5,-53 1490.5,-53\"/>\n<text text-anchor=\"middle\" x=\"1451.5\" y=\"-37.8\" font-family=\"Helvetica,sans-Serif\" font-size=\"14.00\">gini = 0.091</text>\n<text text-anchor=\"middle\" x=\"1451.5\" y=\"-22.8\" font-family=\"Helvetica,sans-Serif\" font-size=\"14.00\">samples = 21</text>\n<text text-anchor=\"middle\" x=\"1451.5\" y=\"-7.8\" font-family=\"Helvetica,sans-Serif\" font-size=\"14.00\">value = [20, 1]</text>\n</g>\n<!-- 40&#45;&gt;41 -->\n<g id=\"edge41\" class=\"edge\">\n<title>40&#45;&gt;41</title>\n<path fill=\"none\" stroke=\"black\" d=\"M1453.45,-88.95C1453.19,-80.72 1452.91,-71.85 1452.64,-63.48\"/>\n<polygon fill=\"black\" stroke=\"black\" points=\"1456.13,-63.12 1452.32,-53.24 1449.14,-63.34 1456.13,-63.12\"/>\n</g>\n<!-- 42 -->\n<g id=\"node43\" class=\"node\">\n<title>42</title>\n<path fill=\"#399de5\" stroke=\"black\" d=\"M1604,-53C1604,-53 1533,-53 1533,-53 1527,-53 1521,-47 1521,-41 1521,-41 1521,-12 1521,-12 1521,-6 1527,0 1533,0 1533,0 1604,0 1604,0 1610,0 1616,-6 1616,-12 1616,-12 1616,-41 1616,-41 1616,-47 1610,-53 1604,-53\"/>\n<text text-anchor=\"middle\" x=\"1568.5\" y=\"-37.8\" font-family=\"Helvetica,sans-Serif\" font-size=\"14.00\">gini = 0.0</text>\n<text text-anchor=\"middle\" x=\"1568.5\" y=\"-22.8\" font-family=\"Helvetica,sans-Serif\" font-size=\"14.00\">samples = 1</text>\n<text text-anchor=\"middle\" x=\"1568.5\" y=\"-7.8\" font-family=\"Helvetica,sans-Serif\" font-size=\"14.00\">value = [0, 1]</text>\n</g>\n<!-- 40&#45;&gt;42 -->\n<g id=\"edge42\" class=\"edge\">\n<title>40&#45;&gt;42</title>\n<path fill=\"none\" stroke=\"black\" d=\"M1494.37,-88.95C1505.74,-79.53 1518.11,-69.27 1529.43,-59.89\"/>\n<polygon fill=\"black\" stroke=\"black\" points=\"1531.99,-62.31 1537.45,-53.24 1527.52,-56.92 1531.99,-62.31\"/>\n</g>\n<!-- 44 -->\n<g id=\"node45\" class=\"node\">\n<title>44</title>\n<path fill=\"#ffffff\" stroke=\"black\" d=\"M1720.5,-261C1720.5,-261 1634.5,-261 1634.5,-261 1628.5,-261 1622.5,-255 1622.5,-249 1622.5,-249 1622.5,-205 1622.5,-205 1622.5,-199 1628.5,-193 1634.5,-193 1634.5,-193 1720.5,-193 1720.5,-193 1726.5,-193 1732.5,-199 1732.5,-205 1732.5,-205 1732.5,-249 1732.5,-249 1732.5,-255 1726.5,-261 1720.5,-261\"/>\n<text text-anchor=\"middle\" x=\"1677.5\" y=\"-245.8\" font-family=\"Helvetica,sans-Serif\" font-size=\"14.00\">x[1] &lt;= 96.5</text>\n<text text-anchor=\"middle\" x=\"1677.5\" y=\"-230.8\" font-family=\"Helvetica,sans-Serif\" font-size=\"14.00\">gini = 0.5</text>\n<text text-anchor=\"middle\" x=\"1677.5\" y=\"-215.8\" font-family=\"Helvetica,sans-Serif\" font-size=\"14.00\">samples = 32</text>\n<text text-anchor=\"middle\" x=\"1677.5\" y=\"-200.8\" font-family=\"Helvetica,sans-Serif\" font-size=\"14.00\">value = [16, 16]</text>\n</g>\n<!-- 43&#45;&gt;44 -->\n<g id=\"edge44\" class=\"edge\">\n<title>43&#45;&gt;44</title>\n<path fill=\"none\" stroke=\"black\" d=\"M1677.5,-296.88C1677.5,-288.78 1677.5,-279.98 1677.5,-271.47\"/>\n<polygon fill=\"black\" stroke=\"black\" points=\"1681,-271.3 1677.5,-261.3 1674,-271.3 1681,-271.3\"/>\n</g>\n<!-- 51 -->\n<g id=\"node52\" class=\"node\">\n<title>51</title>\n<path fill=\"#399de5\" stroke=\"black\" d=\"M1834,-253.5C1834,-253.5 1763,-253.5 1763,-253.5 1757,-253.5 1751,-247.5 1751,-241.5 1751,-241.5 1751,-212.5 1751,-212.5 1751,-206.5 1757,-200.5 1763,-200.5 1763,-200.5 1834,-200.5 1834,-200.5 1840,-200.5 1846,-206.5 1846,-212.5 1846,-212.5 1846,-241.5 1846,-241.5 1846,-247.5 1840,-253.5 1834,-253.5\"/>\n<text text-anchor=\"middle\" x=\"1798.5\" y=\"-238.3\" font-family=\"Helvetica,sans-Serif\" font-size=\"14.00\">gini = 0.0</text>\n<text text-anchor=\"middle\" x=\"1798.5\" y=\"-223.3\" font-family=\"Helvetica,sans-Serif\" font-size=\"14.00\">samples = 9</text>\n<text text-anchor=\"middle\" x=\"1798.5\" y=\"-208.3\" font-family=\"Helvetica,sans-Serif\" font-size=\"14.00\">value = [0, 9]</text>\n</g>\n<!-- 43&#45;&gt;51 -->\n<g id=\"edge51\" class=\"edge\">\n<title>43&#45;&gt;51</title>\n<path fill=\"none\" stroke=\"black\" d=\"M1716.79,-296.88C1730.74,-285.12 1746.43,-271.89 1760.3,-260.2\"/>\n<polygon fill=\"black\" stroke=\"black\" points=\"1762.84,-262.64 1768.23,-253.52 1758.32,-257.29 1762.84,-262.64\"/>\n</g>\n<!-- 45 -->\n<g id=\"node46\" class=\"node\">\n<title>45</title>\n<path fill=\"#e99355\" stroke=\"black\" d=\"M1717,-157C1717,-157 1646,-157 1646,-157 1640,-157 1634,-151 1634,-145 1634,-145 1634,-101 1634,-101 1634,-95 1640,-89 1646,-89 1646,-89 1717,-89 1717,-89 1723,-89 1729,-95 1729,-101 1729,-101 1729,-145 1729,-145 1729,-151 1723,-157 1717,-157\"/>\n<text text-anchor=\"middle\" x=\"1681.5\" y=\"-141.8\" font-family=\"Helvetica,sans-Serif\" font-size=\"14.00\">x[6] &lt;= 1.16</text>\n<text text-anchor=\"middle\" x=\"1681.5\" y=\"-126.8\" font-family=\"Helvetica,sans-Serif\" font-size=\"14.00\">gini = 0.219</text>\n<text text-anchor=\"middle\" x=\"1681.5\" y=\"-111.8\" font-family=\"Helvetica,sans-Serif\" font-size=\"14.00\">samples = 8</text>\n<text text-anchor=\"middle\" x=\"1681.5\" y=\"-96.8\" font-family=\"Helvetica,sans-Serif\" font-size=\"14.00\">value = [7, 1]</text>\n</g>\n<!-- 44&#45;&gt;45 -->\n<g id=\"edge45\" class=\"edge\">\n<title>44&#45;&gt;45</title>\n<path fill=\"none\" stroke=\"black\" d=\"M1678.8,-192.88C1679.12,-184.78 1679.46,-175.98 1679.8,-167.47\"/>\n<polygon fill=\"black\" stroke=\"black\" points=\"1683.3,-167.43 1680.19,-157.3 1676.3,-167.15 1683.3,-167.43\"/>\n</g>\n<!-- 48 -->\n<g id=\"node49\" class=\"node\">\n<title>48</title>\n<path fill=\"#b0d8f5\" stroke=\"black\" d=\"M1946.5,-157C1946.5,-157 1868.5,-157 1868.5,-157 1862.5,-157 1856.5,-151 1856.5,-145 1856.5,-145 1856.5,-101 1856.5,-101 1856.5,-95 1862.5,-89 1868.5,-89 1868.5,-89 1946.5,-89 1946.5,-89 1952.5,-89 1958.5,-95 1958.5,-101 1958.5,-101 1958.5,-145 1958.5,-145 1958.5,-151 1952.5,-157 1946.5,-157\"/>\n<text text-anchor=\"middle\" x=\"1907.5\" y=\"-141.8\" font-family=\"Helvetica,sans-Serif\" font-size=\"14.00\">x[2] &lt;= 69.0</text>\n<text text-anchor=\"middle\" x=\"1907.5\" y=\"-126.8\" font-family=\"Helvetica,sans-Serif\" font-size=\"14.00\">gini = 0.469</text>\n<text text-anchor=\"middle\" x=\"1907.5\" y=\"-111.8\" font-family=\"Helvetica,sans-Serif\" font-size=\"14.00\">samples = 24</text>\n<text text-anchor=\"middle\" x=\"1907.5\" y=\"-96.8\" font-family=\"Helvetica,sans-Serif\" font-size=\"14.00\">value = [9, 15]</text>\n</g>\n<!-- 44&#45;&gt;48 -->\n<g id=\"edge48\" class=\"edge\">\n<title>44&#45;&gt;48</title>\n<path fill=\"none\" stroke=\"black\" d=\"M1732.52,-197.27C1735.54,-195.8 1738.55,-194.37 1741.5,-193 1775.87,-177.03 1814.99,-160.68 1846.61,-147.91\"/>\n<polygon fill=\"black\" stroke=\"black\" points=\"1848.2,-151.05 1856.17,-144.07 1845.59,-144.55 1848.2,-151.05\"/>\n</g>\n<!-- 46 -->\n<g id=\"node47\" class=\"node\">\n<title>46</title>\n<path fill=\"#e58139\" stroke=\"black\" d=\"M1717,-53C1717,-53 1646,-53 1646,-53 1640,-53 1634,-47 1634,-41 1634,-41 1634,-12 1634,-12 1634,-6 1640,0 1646,0 1646,0 1717,0 1717,0 1723,0 1729,-6 1729,-12 1729,-12 1729,-41 1729,-41 1729,-47 1723,-53 1717,-53\"/>\n<text text-anchor=\"middle\" x=\"1681.5\" y=\"-37.8\" font-family=\"Helvetica,sans-Serif\" font-size=\"14.00\">gini = 0.0</text>\n<text text-anchor=\"middle\" x=\"1681.5\" y=\"-22.8\" font-family=\"Helvetica,sans-Serif\" font-size=\"14.00\">samples = 7</text>\n<text text-anchor=\"middle\" x=\"1681.5\" y=\"-7.8\" font-family=\"Helvetica,sans-Serif\" font-size=\"14.00\">value = [7, 0]</text>\n</g>\n<!-- 45&#45;&gt;46 -->\n<g id=\"edge46\" class=\"edge\">\n<title>45&#45;&gt;46</title>\n<path fill=\"none\" stroke=\"black\" d=\"M1681.5,-88.95C1681.5,-80.72 1681.5,-71.85 1681.5,-63.48\"/>\n<polygon fill=\"black\" stroke=\"black\" points=\"1685,-63.24 1681.5,-53.24 1678,-63.24 1685,-63.24\"/>\n</g>\n<!-- 47 -->\n<g id=\"node48\" class=\"node\">\n<title>47</title>\n<path fill=\"#399de5\" stroke=\"black\" d=\"M1830,-53C1830,-53 1759,-53 1759,-53 1753,-53 1747,-47 1747,-41 1747,-41 1747,-12 1747,-12 1747,-6 1753,0 1759,0 1759,0 1830,0 1830,0 1836,0 1842,-6 1842,-12 1842,-12 1842,-41 1842,-41 1842,-47 1836,-53 1830,-53\"/>\n<text text-anchor=\"middle\" x=\"1794.5\" y=\"-37.8\" font-family=\"Helvetica,sans-Serif\" font-size=\"14.00\">gini = 0.0</text>\n<text text-anchor=\"middle\" x=\"1794.5\" y=\"-22.8\" font-family=\"Helvetica,sans-Serif\" font-size=\"14.00\">samples = 1</text>\n<text text-anchor=\"middle\" x=\"1794.5\" y=\"-7.8\" font-family=\"Helvetica,sans-Serif\" font-size=\"14.00\">value = [0, 1]</text>\n</g>\n<!-- 45&#45;&gt;47 -->\n<g id=\"edge47\" class=\"edge\">\n<title>45&#45;&gt;47</title>\n<path fill=\"none\" stroke=\"black\" d=\"M1721.02,-88.95C1732.29,-79.53 1744.55,-69.27 1755.77,-59.89\"/>\n<polygon fill=\"black\" stroke=\"black\" points=\"1758.3,-62.34 1763.72,-53.24 1753.81,-56.97 1758.3,-62.34\"/>\n</g>\n<!-- 49 -->\n<g id=\"node50\" class=\"node\">\n<title>49</title>\n<path fill=\"#eca06a\" stroke=\"black\" d=\"M1943,-53C1943,-53 1872,-53 1872,-53 1866,-53 1860,-47 1860,-41 1860,-41 1860,-12 1860,-12 1860,-6 1866,0 1872,0 1872,0 1943,0 1943,0 1949,0 1955,-6 1955,-12 1955,-12 1955,-41 1955,-41 1955,-47 1949,-53 1943,-53\"/>\n<text text-anchor=\"middle\" x=\"1907.5\" y=\"-37.8\" font-family=\"Helvetica,sans-Serif\" font-size=\"14.00\">gini = 0.32</text>\n<text text-anchor=\"middle\" x=\"1907.5\" y=\"-22.8\" font-family=\"Helvetica,sans-Serif\" font-size=\"14.00\">samples = 5</text>\n<text text-anchor=\"middle\" x=\"1907.5\" y=\"-7.8\" font-family=\"Helvetica,sans-Serif\" font-size=\"14.00\">value = [4, 1]</text>\n</g>\n<!-- 48&#45;&gt;49 -->\n<g id=\"edge49\" class=\"edge\">\n<title>48&#45;&gt;49</title>\n<path fill=\"none\" stroke=\"black\" d=\"M1907.5,-88.95C1907.5,-80.72 1907.5,-71.85 1907.5,-63.48\"/>\n<polygon fill=\"black\" stroke=\"black\" points=\"1911,-63.24 1907.5,-53.24 1904,-63.24 1911,-63.24\"/>\n</g>\n<!-- 50 -->\n<g id=\"node51\" class=\"node\">\n<title>50</title>\n<path fill=\"#80c0ee\" stroke=\"black\" d=\"M2063.5,-53C2063.5,-53 1985.5,-53 1985.5,-53 1979.5,-53 1973.5,-47 1973.5,-41 1973.5,-41 1973.5,-12 1973.5,-12 1973.5,-6 1979.5,0 1985.5,0 1985.5,0 2063.5,0 2063.5,0 2069.5,0 2075.5,-6 2075.5,-12 2075.5,-12 2075.5,-41 2075.5,-41 2075.5,-47 2069.5,-53 2063.5,-53\"/>\n<text text-anchor=\"middle\" x=\"2024.5\" y=\"-37.8\" font-family=\"Helvetica,sans-Serif\" font-size=\"14.00\">gini = 0.388</text>\n<text text-anchor=\"middle\" x=\"2024.5\" y=\"-22.8\" font-family=\"Helvetica,sans-Serif\" font-size=\"14.00\">samples = 19</text>\n<text text-anchor=\"middle\" x=\"2024.5\" y=\"-7.8\" font-family=\"Helvetica,sans-Serif\" font-size=\"14.00\">value = [5, 14]</text>\n</g>\n<!-- 48&#45;&gt;50 -->\n<g id=\"edge50\" class=\"edge\">\n<title>48&#45;&gt;50</title>\n<path fill=\"none\" stroke=\"black\" d=\"M1948.42,-88.95C1960.2,-79.43 1973.03,-69.07 1984.74,-59.62\"/>\n<polygon fill=\"black\" stroke=\"black\" points=\"1987.06,-62.24 1992.64,-53.24 1982.66,-56.8 1987.06,-62.24\"/>\n</g>\n<!-- 53 -->\n<g id=\"node54\" class=\"node\">\n<title>53</title>\n<path fill=\"#f6d2b8\" stroke=\"black\" d=\"M2327.5,-573C2327.5,-573 2241.5,-573 2241.5,-573 2235.5,-573 2229.5,-567 2229.5,-561 2229.5,-561 2229.5,-517 2229.5,-517 2229.5,-511 2235.5,-505 2241.5,-505 2241.5,-505 2327.5,-505 2327.5,-505 2333.5,-505 2339.5,-511 2339.5,-517 2339.5,-517 2339.5,-561 2339.5,-561 2339.5,-567 2333.5,-573 2327.5,-573\"/>\n<text text-anchor=\"middle\" x=\"2284.5\" y=\"-557.8\" font-family=\"Helvetica,sans-Serif\" font-size=\"14.00\">x[1] &lt;= 151.5</text>\n<text text-anchor=\"middle\" x=\"2284.5\" y=\"-542.8\" font-family=\"Helvetica,sans-Serif\" font-size=\"14.00\">gini = 0.476</text>\n<text text-anchor=\"middle\" x=\"2284.5\" y=\"-527.8\" font-family=\"Helvetica,sans-Serif\" font-size=\"14.00\">samples = 41</text>\n<text text-anchor=\"middle\" x=\"2284.5\" y=\"-512.8\" font-family=\"Helvetica,sans-Serif\" font-size=\"14.00\">value = [25, 16]</text>\n</g>\n<!-- 52&#45;&gt;53 -->\n<g id=\"edge53\" class=\"edge\">\n<title>52&#45;&gt;53</title>\n<path fill=\"none\" stroke=\"black\" d=\"M2284.5,-608.88C2284.5,-600.78 2284.5,-591.98 2284.5,-583.47\"/>\n<polygon fill=\"black\" stroke=\"black\" points=\"2288,-583.3 2284.5,-573.3 2281,-583.3 2288,-583.3\"/>\n</g>\n<!-- 74 -->\n<g id=\"node75\" class=\"node\">\n<title>74</title>\n<path fill=\"#77bced\" stroke=\"black\" d=\"M3015.5,-573C3015.5,-573 2929.5,-573 2929.5,-573 2923.5,-573 2917.5,-567 2917.5,-561 2917.5,-561 2917.5,-517 2917.5,-517 2917.5,-511 2923.5,-505 2929.5,-505 2929.5,-505 3015.5,-505 3015.5,-505 3021.5,-505 3027.5,-511 3027.5,-517 3027.5,-517 3027.5,-561 3027.5,-561 3027.5,-567 3021.5,-573 3015.5,-573\"/>\n<text text-anchor=\"middle\" x=\"2972.5\" y=\"-557.8\" font-family=\"Helvetica,sans-Serif\" font-size=\"14.00\">x[1] &lt;= 155.5</text>\n<text text-anchor=\"middle\" x=\"2972.5\" y=\"-542.8\" font-family=\"Helvetica,sans-Serif\" font-size=\"14.00\">gini = 0.363</text>\n<text text-anchor=\"middle\" x=\"2972.5\" y=\"-527.8\" font-family=\"Helvetica,sans-Serif\" font-size=\"14.00\">samples = 126</text>\n<text text-anchor=\"middle\" x=\"2972.5\" y=\"-512.8\" font-family=\"Helvetica,sans-Serif\" font-size=\"14.00\">value = [30, 96]</text>\n</g>\n<!-- 52&#45;&gt;74 -->\n<g id=\"edge74\" class=\"edge\">\n<title>52&#45;&gt;74</title>\n<path fill=\"none\" stroke=\"black\" d=\"M2343.16,-633.3C2470.95,-614.36 2773.71,-569.47 2907.27,-549.67\"/>\n<polygon fill=\"black\" stroke=\"black\" points=\"2907.98,-553.1 2917.36,-548.18 2906.95,-546.18 2907.98,-553.1\"/>\n</g>\n<!-- 54 -->\n<g id=\"node55\" class=\"node\">\n<title>54</title>\n<path fill=\"#eca470\" stroke=\"black\" d=\"M2235.5,-469C2235.5,-469 2157.5,-469 2157.5,-469 2151.5,-469 2145.5,-463 2145.5,-457 2145.5,-457 2145.5,-413 2145.5,-413 2145.5,-407 2151.5,-401 2157.5,-401 2157.5,-401 2235.5,-401 2235.5,-401 2241.5,-401 2247.5,-407 2247.5,-413 2247.5,-413 2247.5,-457 2247.5,-457 2247.5,-463 2241.5,-469 2235.5,-469\"/>\n<text text-anchor=\"middle\" x=\"2196.5\" y=\"-453.8\" font-family=\"Helvetica,sans-Serif\" font-size=\"14.00\">x[2] &lt;= 55.0</text>\n<text text-anchor=\"middle\" x=\"2196.5\" y=\"-438.8\" font-family=\"Helvetica,sans-Serif\" font-size=\"14.00\">gini = 0.34</text>\n<text text-anchor=\"middle\" x=\"2196.5\" y=\"-423.8\" font-family=\"Helvetica,sans-Serif\" font-size=\"14.00\">samples = 23</text>\n<text text-anchor=\"middle\" x=\"2196.5\" y=\"-408.8\" font-family=\"Helvetica,sans-Serif\" font-size=\"14.00\">value = [18, 5]</text>\n</g>\n<!-- 53&#45;&gt;54 -->\n<g id=\"edge54\" class=\"edge\">\n<title>53&#45;&gt;54</title>\n<path fill=\"none\" stroke=\"black\" d=\"M2255.93,-504.88C2248.24,-495.98 2239.84,-486.24 2231.84,-476.96\"/>\n<polygon fill=\"black\" stroke=\"black\" points=\"2234.41,-474.58 2225.23,-469.3 2229.11,-479.16 2234.41,-474.58\"/>\n</g>\n<!-- 65 -->\n<g id=\"node66\" class=\"node\">\n<title>65</title>\n<path fill=\"#b7dbf6\" stroke=\"black\" d=\"M2410.5,-469C2410.5,-469 2332.5,-469 2332.5,-469 2326.5,-469 2320.5,-463 2320.5,-457 2320.5,-457 2320.5,-413 2320.5,-413 2320.5,-407 2326.5,-401 2332.5,-401 2332.5,-401 2410.5,-401 2410.5,-401 2416.5,-401 2422.5,-407 2422.5,-413 2422.5,-413 2422.5,-457 2422.5,-457 2422.5,-463 2416.5,-469 2410.5,-469\"/>\n<text text-anchor=\"middle\" x=\"2371.5\" y=\"-453.8\" font-family=\"Helvetica,sans-Serif\" font-size=\"14.00\">x[7] &lt;= 61.0</text>\n<text text-anchor=\"middle\" x=\"2371.5\" y=\"-438.8\" font-family=\"Helvetica,sans-Serif\" font-size=\"14.00\">gini = 0.475</text>\n<text text-anchor=\"middle\" x=\"2371.5\" y=\"-423.8\" font-family=\"Helvetica,sans-Serif\" font-size=\"14.00\">samples = 18</text>\n<text text-anchor=\"middle\" x=\"2371.5\" y=\"-408.8\" font-family=\"Helvetica,sans-Serif\" font-size=\"14.00\">value = [7, 11]</text>\n</g>\n<!-- 53&#45;&gt;65 -->\n<g id=\"edge65\" class=\"edge\">\n<title>53&#45;&gt;65</title>\n<path fill=\"none\" stroke=\"black\" d=\"M2312.75,-504.88C2320.34,-495.98 2328.65,-486.24 2336.57,-476.96\"/>\n<polygon fill=\"black\" stroke=\"black\" points=\"2339.27,-479.18 2343.1,-469.3 2333.95,-474.64 2339.27,-479.18\"/>\n</g>\n<!-- 55 -->\n<g id=\"node56\" class=\"node\">\n<title>55</title>\n<path fill=\"#9ccef2\" stroke=\"black\" d=\"M2060,-365C2060,-365 1989,-365 1989,-365 1983,-365 1977,-359 1977,-353 1977,-353 1977,-309 1977,-309 1977,-303 1983,-297 1989,-297 1989,-297 2060,-297 2060,-297 2066,-297 2072,-303 2072,-309 2072,-309 2072,-353 2072,-353 2072,-359 2066,-365 2060,-365\"/>\n<text text-anchor=\"middle\" x=\"2024.5\" y=\"-349.8\" font-family=\"Helvetica,sans-Serif\" font-size=\"14.00\">x[7] &lt;= 45.0</text>\n<text text-anchor=\"middle\" x=\"2024.5\" y=\"-334.8\" font-family=\"Helvetica,sans-Serif\" font-size=\"14.00\">gini = 0.444</text>\n<text text-anchor=\"middle\" x=\"2024.5\" y=\"-319.8\" font-family=\"Helvetica,sans-Serif\" font-size=\"14.00\">samples = 3</text>\n<text text-anchor=\"middle\" x=\"2024.5\" y=\"-304.8\" font-family=\"Helvetica,sans-Serif\" font-size=\"14.00\">value = [1, 2]</text>\n</g>\n<!-- 54&#45;&gt;55 -->\n<g id=\"edge55\" class=\"edge\">\n<title>54&#45;&gt;55</title>\n<path fill=\"none\" stroke=\"black\" d=\"M2145.36,-403.67C2125.08,-391.65 2101.7,-377.78 2080.93,-365.46\"/>\n<polygon fill=\"black\" stroke=\"black\" points=\"2082.59,-362.38 2072.21,-360.29 2079.02,-368.4 2082.59,-362.38\"/>\n</g>\n<!-- 58 -->\n<g id=\"node59\" class=\"node\">\n<title>58</title>\n<path fill=\"#ea975c\" stroke=\"black\" d=\"M2235.5,-365C2235.5,-365 2157.5,-365 2157.5,-365 2151.5,-365 2145.5,-359 2145.5,-353 2145.5,-353 2145.5,-309 2145.5,-309 2145.5,-303 2151.5,-297 2157.5,-297 2157.5,-297 2235.5,-297 2235.5,-297 2241.5,-297 2247.5,-303 2247.5,-309 2247.5,-309 2247.5,-353 2247.5,-353 2247.5,-359 2241.5,-365 2235.5,-365\"/>\n<text text-anchor=\"middle\" x=\"2196.5\" y=\"-349.8\" font-family=\"Helvetica,sans-Serif\" font-size=\"14.00\">x[5] &lt;= 27.95</text>\n<text text-anchor=\"middle\" x=\"2196.5\" y=\"-334.8\" font-family=\"Helvetica,sans-Serif\" font-size=\"14.00\">gini = 0.255</text>\n<text text-anchor=\"middle\" x=\"2196.5\" y=\"-319.8\" font-family=\"Helvetica,sans-Serif\" font-size=\"14.00\">samples = 20</text>\n<text text-anchor=\"middle\" x=\"2196.5\" y=\"-304.8\" font-family=\"Helvetica,sans-Serif\" font-size=\"14.00\">value = [17, 3]</text>\n</g>\n<!-- 54&#45;&gt;58 -->\n<g id=\"edge58\" class=\"edge\">\n<title>54&#45;&gt;58</title>\n<path fill=\"none\" stroke=\"black\" d=\"M2196.5,-400.88C2196.5,-392.78 2196.5,-383.98 2196.5,-375.47\"/>\n<polygon fill=\"black\" stroke=\"black\" points=\"2200,-375.3 2196.5,-365.3 2193,-375.3 2200,-375.3\"/>\n</g>\n<!-- 56 -->\n<g id=\"node57\" class=\"node\">\n<title>56</title>\n<path fill=\"#399de5\" stroke=\"black\" d=\"M1947,-253.5C1947,-253.5 1876,-253.5 1876,-253.5 1870,-253.5 1864,-247.5 1864,-241.5 1864,-241.5 1864,-212.5 1864,-212.5 1864,-206.5 1870,-200.5 1876,-200.5 1876,-200.5 1947,-200.5 1947,-200.5 1953,-200.5 1959,-206.5 1959,-212.5 1959,-212.5 1959,-241.5 1959,-241.5 1959,-247.5 1953,-253.5 1947,-253.5\"/>\n<text text-anchor=\"middle\" x=\"1911.5\" y=\"-238.3\" font-family=\"Helvetica,sans-Serif\" font-size=\"14.00\">gini = 0.0</text>\n<text text-anchor=\"middle\" x=\"1911.5\" y=\"-223.3\" font-family=\"Helvetica,sans-Serif\" font-size=\"14.00\">samples = 2</text>\n<text text-anchor=\"middle\" x=\"1911.5\" y=\"-208.3\" font-family=\"Helvetica,sans-Serif\" font-size=\"14.00\">value = [0, 2]</text>\n</g>\n<!-- 55&#45;&gt;56 -->\n<g id=\"edge56\" class=\"edge\">\n<title>55&#45;&gt;56</title>\n<path fill=\"none\" stroke=\"black\" d=\"M1987.81,-296.88C1974.9,-285.23 1960.4,-272.14 1947.54,-260.53\"/>\n<polygon fill=\"black\" stroke=\"black\" points=\"1949.54,-257.62 1939.77,-253.52 1944.85,-262.82 1949.54,-257.62\"/>\n</g>\n<!-- 57 -->\n<g id=\"node58\" class=\"node\">\n<title>57</title>\n<path fill=\"#e58139\" stroke=\"black\" d=\"M2060,-253.5C2060,-253.5 1989,-253.5 1989,-253.5 1983,-253.5 1977,-247.5 1977,-241.5 1977,-241.5 1977,-212.5 1977,-212.5 1977,-206.5 1983,-200.5 1989,-200.5 1989,-200.5 2060,-200.5 2060,-200.5 2066,-200.5 2072,-206.5 2072,-212.5 2072,-212.5 2072,-241.5 2072,-241.5 2072,-247.5 2066,-253.5 2060,-253.5\"/>\n<text text-anchor=\"middle\" x=\"2024.5\" y=\"-238.3\" font-family=\"Helvetica,sans-Serif\" font-size=\"14.00\">gini = 0.0</text>\n<text text-anchor=\"middle\" x=\"2024.5\" y=\"-223.3\" font-family=\"Helvetica,sans-Serif\" font-size=\"14.00\">samples = 1</text>\n<text text-anchor=\"middle\" x=\"2024.5\" y=\"-208.3\" font-family=\"Helvetica,sans-Serif\" font-size=\"14.00\">value = [1, 0]</text>\n</g>\n<!-- 55&#45;&gt;57 -->\n<g id=\"edge57\" class=\"edge\">\n<title>55&#45;&gt;57</title>\n<path fill=\"none\" stroke=\"black\" d=\"M2024.5,-296.88C2024.5,-286.33 2024.5,-274.6 2024.5,-263.85\"/>\n<polygon fill=\"black\" stroke=\"black\" points=\"2028,-263.52 2024.5,-253.52 2021,-263.52 2028,-263.52\"/>\n</g>\n<!-- 59 -->\n<g id=\"node60\" class=\"node\">\n<title>59</title>\n<path fill=\"#e58139\" stroke=\"black\" d=\"M2180.5,-253.5C2180.5,-253.5 2102.5,-253.5 2102.5,-253.5 2096.5,-253.5 2090.5,-247.5 2090.5,-241.5 2090.5,-241.5 2090.5,-212.5 2090.5,-212.5 2090.5,-206.5 2096.5,-200.5 2102.5,-200.5 2102.5,-200.5 2180.5,-200.5 2180.5,-200.5 2186.5,-200.5 2192.5,-206.5 2192.5,-212.5 2192.5,-212.5 2192.5,-241.5 2192.5,-241.5 2192.5,-247.5 2186.5,-253.5 2180.5,-253.5\"/>\n<text text-anchor=\"middle\" x=\"2141.5\" y=\"-238.3\" font-family=\"Helvetica,sans-Serif\" font-size=\"14.00\">gini = 0.0</text>\n<text text-anchor=\"middle\" x=\"2141.5\" y=\"-223.3\" font-family=\"Helvetica,sans-Serif\" font-size=\"14.00\">samples = 11</text>\n<text text-anchor=\"middle\" x=\"2141.5\" y=\"-208.3\" font-family=\"Helvetica,sans-Serif\" font-size=\"14.00\">value = [11, 0]</text>\n</g>\n<!-- 58&#45;&gt;59 -->\n<g id=\"edge59\" class=\"edge\">\n<title>58&#45;&gt;59</title>\n<path fill=\"none\" stroke=\"black\" d=\"M2178.64,-296.88C2172.71,-285.89 2166.1,-273.62 2160.11,-262.52\"/>\n<polygon fill=\"black\" stroke=\"black\" points=\"2163.09,-260.66 2155.26,-253.52 2156.93,-263.98 2163.09,-260.66\"/>\n</g>\n<!-- 60 -->\n<g id=\"node61\" class=\"node\">\n<title>60</title>\n<path fill=\"#f2c09c\" stroke=\"black\" d=\"M2294,-261C2294,-261 2223,-261 2223,-261 2217,-261 2211,-255 2211,-249 2211,-249 2211,-205 2211,-205 2211,-199 2217,-193 2223,-193 2223,-193 2294,-193 2294,-193 2300,-193 2306,-199 2306,-205 2306,-205 2306,-249 2306,-249 2306,-255 2300,-261 2294,-261\"/>\n<text text-anchor=\"middle\" x=\"2258.5\" y=\"-245.8\" font-family=\"Helvetica,sans-Serif\" font-size=\"14.00\">x[2] &lt;= 65.0</text>\n<text text-anchor=\"middle\" x=\"2258.5\" y=\"-230.8\" font-family=\"Helvetica,sans-Serif\" font-size=\"14.00\">gini = 0.444</text>\n<text text-anchor=\"middle\" x=\"2258.5\" y=\"-215.8\" font-family=\"Helvetica,sans-Serif\" font-size=\"14.00\">samples = 9</text>\n<text text-anchor=\"middle\" x=\"2258.5\" y=\"-200.8\" font-family=\"Helvetica,sans-Serif\" font-size=\"14.00\">value = [6, 3]</text>\n</g>\n<!-- 58&#45;&gt;60 -->\n<g id=\"edge60\" class=\"edge\">\n<title>58&#45;&gt;60</title>\n<path fill=\"none\" stroke=\"black\" d=\"M2216.63,-296.88C2221.83,-288.33 2227.49,-279.01 2232.93,-270.07\"/>\n<polygon fill=\"black\" stroke=\"black\" points=\"2236.06,-271.66 2238.26,-261.3 2230.07,-268.03 2236.06,-271.66\"/>\n</g>\n<!-- 61 -->\n<g id=\"node62\" class=\"node\">\n<title>61</title>\n<path fill=\"#e58139\" stroke=\"black\" d=\"M2181,-149.5C2181,-149.5 2110,-149.5 2110,-149.5 2104,-149.5 2098,-143.5 2098,-137.5 2098,-137.5 2098,-108.5 2098,-108.5 2098,-102.5 2104,-96.5 2110,-96.5 2110,-96.5 2181,-96.5 2181,-96.5 2187,-96.5 2193,-102.5 2193,-108.5 2193,-108.5 2193,-137.5 2193,-137.5 2193,-143.5 2187,-149.5 2181,-149.5\"/>\n<text text-anchor=\"middle\" x=\"2145.5\" y=\"-134.3\" font-family=\"Helvetica,sans-Serif\" font-size=\"14.00\">gini = 0.0</text>\n<text text-anchor=\"middle\" x=\"2145.5\" y=\"-119.3\" font-family=\"Helvetica,sans-Serif\" font-size=\"14.00\">samples = 3</text>\n<text text-anchor=\"middle\" x=\"2145.5\" y=\"-104.3\" font-family=\"Helvetica,sans-Serif\" font-size=\"14.00\">value = [3, 0]</text>\n</g>\n<!-- 60&#45;&gt;61 -->\n<g id=\"edge61\" class=\"edge\">\n<title>60&#45;&gt;61</title>\n<path fill=\"none\" stroke=\"black\" d=\"M2221.81,-192.88C2208.9,-181.23 2194.4,-168.14 2181.54,-156.53\"/>\n<polygon fill=\"black\" stroke=\"black\" points=\"2183.54,-153.62 2173.77,-149.52 2178.85,-158.82 2183.54,-153.62\"/>\n</g>\n<!-- 62 -->\n<g id=\"node63\" class=\"node\">\n<title>62</title>\n<path fill=\"#ffffff\" stroke=\"black\" d=\"M2294,-157C2294,-157 2223,-157 2223,-157 2217,-157 2211,-151 2211,-145 2211,-145 2211,-101 2211,-101 2211,-95 2217,-89 2223,-89 2223,-89 2294,-89 2294,-89 2300,-89 2306,-95 2306,-101 2306,-101 2306,-145 2306,-145 2306,-151 2300,-157 2294,-157\"/>\n<text text-anchor=\"middle\" x=\"2258.5\" y=\"-141.8\" font-family=\"Helvetica,sans-Serif\" font-size=\"14.00\">x[2] &lt;= 84.5</text>\n<text text-anchor=\"middle\" x=\"2258.5\" y=\"-126.8\" font-family=\"Helvetica,sans-Serif\" font-size=\"14.00\">gini = 0.5</text>\n<text text-anchor=\"middle\" x=\"2258.5\" y=\"-111.8\" font-family=\"Helvetica,sans-Serif\" font-size=\"14.00\">samples = 6</text>\n<text text-anchor=\"middle\" x=\"2258.5\" y=\"-96.8\" font-family=\"Helvetica,sans-Serif\" font-size=\"14.00\">value = [3, 3]</text>\n</g>\n<!-- 60&#45;&gt;62 -->\n<g id=\"edge62\" class=\"edge\">\n<title>60&#45;&gt;62</title>\n<path fill=\"none\" stroke=\"black\" d=\"M2258.5,-192.88C2258.5,-184.78 2258.5,-175.98 2258.5,-167.47\"/>\n<polygon fill=\"black\" stroke=\"black\" points=\"2262,-167.3 2258.5,-157.3 2255,-167.3 2262,-167.3\"/>\n</g>\n<!-- 63 -->\n<g id=\"node64\" class=\"node\">\n<title>63</title>\n<path fill=\"#399de5\" stroke=\"black\" d=\"M2185,-53C2185,-53 2114,-53 2114,-53 2108,-53 2102,-47 2102,-41 2102,-41 2102,-12 2102,-12 2102,-6 2108,0 2114,0 2114,0 2185,0 2185,0 2191,0 2197,-6 2197,-12 2197,-12 2197,-41 2197,-41 2197,-47 2191,-53 2185,-53\"/>\n<text text-anchor=\"middle\" x=\"2149.5\" y=\"-37.8\" font-family=\"Helvetica,sans-Serif\" font-size=\"14.00\">gini = 0.0</text>\n<text text-anchor=\"middle\" x=\"2149.5\" y=\"-22.8\" font-family=\"Helvetica,sans-Serif\" font-size=\"14.00\">samples = 3</text>\n<text text-anchor=\"middle\" x=\"2149.5\" y=\"-7.8\" font-family=\"Helvetica,sans-Serif\" font-size=\"14.00\">value = [0, 3]</text>\n</g>\n<!-- 62&#45;&gt;63 -->\n<g id=\"edge63\" class=\"edge\">\n<title>62&#45;&gt;63</title>\n<path fill=\"none\" stroke=\"black\" d=\"M2220.38,-88.95C2209.51,-79.53 2197.68,-69.27 2186.86,-59.89\"/>\n<polygon fill=\"black\" stroke=\"black\" points=\"2189.03,-57.14 2179.19,-53.24 2184.45,-62.43 2189.03,-57.14\"/>\n</g>\n<!-- 64 -->\n<g id=\"node65\" class=\"node\">\n<title>64</title>\n<path fill=\"#e58139\" stroke=\"black\" d=\"M2298,-53C2298,-53 2227,-53 2227,-53 2221,-53 2215,-47 2215,-41 2215,-41 2215,-12 2215,-12 2215,-6 2221,0 2227,0 2227,0 2298,0 2298,0 2304,0 2310,-6 2310,-12 2310,-12 2310,-41 2310,-41 2310,-47 2304,-53 2298,-53\"/>\n<text text-anchor=\"middle\" x=\"2262.5\" y=\"-37.8\" font-family=\"Helvetica,sans-Serif\" font-size=\"14.00\">gini = 0.0</text>\n<text text-anchor=\"middle\" x=\"2262.5\" y=\"-22.8\" font-family=\"Helvetica,sans-Serif\" font-size=\"14.00\">samples = 3</text>\n<text text-anchor=\"middle\" x=\"2262.5\" y=\"-7.8\" font-family=\"Helvetica,sans-Serif\" font-size=\"14.00\">value = [3, 0]</text>\n</g>\n<!-- 62&#45;&gt;64 -->\n<g id=\"edge64\" class=\"edge\">\n<title>62&#45;&gt;64</title>\n<path fill=\"none\" stroke=\"black\" d=\"M2259.9,-88.95C2260.25,-80.72 2260.62,-71.85 2260.98,-63.48\"/>\n<polygon fill=\"black\" stroke=\"black\" points=\"2264.48,-63.38 2261.41,-53.24 2257.49,-63.08 2264.48,-63.38\"/>\n</g>\n<!-- 66 -->\n<g id=\"node67\" class=\"node\">\n<title>66</title>\n<path fill=\"#81c1ee\" stroke=\"black\" d=\"M2410.5,-365C2410.5,-365 2332.5,-365 2332.5,-365 2326.5,-365 2320.5,-359 2320.5,-353 2320.5,-353 2320.5,-309 2320.5,-309 2320.5,-303 2326.5,-297 2332.5,-297 2332.5,-297 2410.5,-297 2410.5,-297 2416.5,-297 2422.5,-303 2422.5,-309 2422.5,-309 2422.5,-353 2422.5,-353 2422.5,-359 2416.5,-365 2410.5,-365\"/>\n<text text-anchor=\"middle\" x=\"2371.5\" y=\"-349.8\" font-family=\"Helvetica,sans-Serif\" font-size=\"14.00\">x[7] &lt;= 25.5</text>\n<text text-anchor=\"middle\" x=\"2371.5\" y=\"-334.8\" font-family=\"Helvetica,sans-Serif\" font-size=\"14.00\">gini = 0.391</text>\n<text text-anchor=\"middle\" x=\"2371.5\" y=\"-319.8\" font-family=\"Helvetica,sans-Serif\" font-size=\"14.00\">samples = 15</text>\n<text text-anchor=\"middle\" x=\"2371.5\" y=\"-304.8\" font-family=\"Helvetica,sans-Serif\" font-size=\"14.00\">value = [4, 11]</text>\n</g>\n<!-- 65&#45;&gt;66 -->\n<g id=\"edge66\" class=\"edge\">\n<title>65&#45;&gt;66</title>\n<path fill=\"none\" stroke=\"black\" d=\"M2371.5,-400.88C2371.5,-392.78 2371.5,-383.98 2371.5,-375.47\"/>\n<polygon fill=\"black\" stroke=\"black\" points=\"2375,-375.3 2371.5,-365.3 2368,-375.3 2375,-375.3\"/>\n</g>\n<!-- 73 -->\n<g id=\"node74\" class=\"node\">\n<title>73</title>\n<path fill=\"#e58139\" stroke=\"black\" d=\"M2524,-357.5C2524,-357.5 2453,-357.5 2453,-357.5 2447,-357.5 2441,-351.5 2441,-345.5 2441,-345.5 2441,-316.5 2441,-316.5 2441,-310.5 2447,-304.5 2453,-304.5 2453,-304.5 2524,-304.5 2524,-304.5 2530,-304.5 2536,-310.5 2536,-316.5 2536,-316.5 2536,-345.5 2536,-345.5 2536,-351.5 2530,-357.5 2524,-357.5\"/>\n<text text-anchor=\"middle\" x=\"2488.5\" y=\"-342.3\" font-family=\"Helvetica,sans-Serif\" font-size=\"14.00\">gini = 0.0</text>\n<text text-anchor=\"middle\" x=\"2488.5\" y=\"-327.3\" font-family=\"Helvetica,sans-Serif\" font-size=\"14.00\">samples = 3</text>\n<text text-anchor=\"middle\" x=\"2488.5\" y=\"-312.3\" font-family=\"Helvetica,sans-Serif\" font-size=\"14.00\">value = [3, 0]</text>\n</g>\n<!-- 65&#45;&gt;73 -->\n<g id=\"edge73\" class=\"edge\">\n<title>65&#45;&gt;73</title>\n<path fill=\"none\" stroke=\"black\" d=\"M2409.49,-400.88C2422.98,-389.12 2438.15,-375.89 2451.56,-364.2\"/>\n<polygon fill=\"black\" stroke=\"black\" points=\"2453.99,-366.73 2459.23,-357.52 2449.39,-361.45 2453.99,-366.73\"/>\n</g>\n<!-- 67 -->\n<g id=\"node68\" class=\"node\">\n<title>67</title>\n<path fill=\"#e58139\" stroke=\"black\" d=\"M2407,-253.5C2407,-253.5 2336,-253.5 2336,-253.5 2330,-253.5 2324,-247.5 2324,-241.5 2324,-241.5 2324,-212.5 2324,-212.5 2324,-206.5 2330,-200.5 2336,-200.5 2336,-200.5 2407,-200.5 2407,-200.5 2413,-200.5 2419,-206.5 2419,-212.5 2419,-212.5 2419,-241.5 2419,-241.5 2419,-247.5 2413,-253.5 2407,-253.5\"/>\n<text text-anchor=\"middle\" x=\"2371.5\" y=\"-238.3\" font-family=\"Helvetica,sans-Serif\" font-size=\"14.00\">gini = 0.0</text>\n<text text-anchor=\"middle\" x=\"2371.5\" y=\"-223.3\" font-family=\"Helvetica,sans-Serif\" font-size=\"14.00\">samples = 2</text>\n<text text-anchor=\"middle\" x=\"2371.5\" y=\"-208.3\" font-family=\"Helvetica,sans-Serif\" font-size=\"14.00\">value = [2, 0]</text>\n</g>\n<!-- 66&#45;&gt;67 -->\n<g id=\"edge67\" class=\"edge\">\n<title>66&#45;&gt;67</title>\n<path fill=\"none\" stroke=\"black\" d=\"M2371.5,-296.88C2371.5,-286.33 2371.5,-274.6 2371.5,-263.85\"/>\n<polygon fill=\"black\" stroke=\"black\" points=\"2375,-263.52 2371.5,-253.52 2368,-263.52 2375,-263.52\"/>\n</g>\n<!-- 68 -->\n<g id=\"node69\" class=\"node\">\n<title>68</title>\n<path fill=\"#5dafea\" stroke=\"black\" d=\"M2527.5,-261C2527.5,-261 2449.5,-261 2449.5,-261 2443.5,-261 2437.5,-255 2437.5,-249 2437.5,-249 2437.5,-205 2437.5,-205 2437.5,-199 2443.5,-193 2449.5,-193 2449.5,-193 2527.5,-193 2527.5,-193 2533.5,-193 2539.5,-199 2539.5,-205 2539.5,-205 2539.5,-249 2539.5,-249 2539.5,-255 2533.5,-261 2527.5,-261\"/>\n<text text-anchor=\"middle\" x=\"2488.5\" y=\"-245.8\" font-family=\"Helvetica,sans-Serif\" font-size=\"14.00\">x[5] &lt;= 28.45</text>\n<text text-anchor=\"middle\" x=\"2488.5\" y=\"-230.8\" font-family=\"Helvetica,sans-Serif\" font-size=\"14.00\">gini = 0.26</text>\n<text text-anchor=\"middle\" x=\"2488.5\" y=\"-215.8\" font-family=\"Helvetica,sans-Serif\" font-size=\"14.00\">samples = 13</text>\n<text text-anchor=\"middle\" x=\"2488.5\" y=\"-200.8\" font-family=\"Helvetica,sans-Serif\" font-size=\"14.00\">value = [2, 11]</text>\n</g>\n<!-- 66&#45;&gt;68 -->\n<g id=\"edge68\" class=\"edge\">\n<title>66&#45;&gt;68</title>\n<path fill=\"none\" stroke=\"black\" d=\"M2409.49,-296.88C2420.01,-287.71 2431.55,-277.65 2442.48,-268.12\"/>\n<polygon fill=\"black\" stroke=\"black\" points=\"2445.07,-270.51 2450.3,-261.3 2440.47,-265.23 2445.07,-270.51\"/>\n</g>\n<!-- 69 -->\n<g id=\"node70\" class=\"node\">\n<title>69</title>\n<path fill=\"#399de5\" stroke=\"black\" d=\"M2414.5,-149.5C2414.5,-149.5 2336.5,-149.5 2336.5,-149.5 2330.5,-149.5 2324.5,-143.5 2324.5,-137.5 2324.5,-137.5 2324.5,-108.5 2324.5,-108.5 2324.5,-102.5 2330.5,-96.5 2336.5,-96.5 2336.5,-96.5 2414.5,-96.5 2414.5,-96.5 2420.5,-96.5 2426.5,-102.5 2426.5,-108.5 2426.5,-108.5 2426.5,-137.5 2426.5,-137.5 2426.5,-143.5 2420.5,-149.5 2414.5,-149.5\"/>\n<text text-anchor=\"middle\" x=\"2375.5\" y=\"-134.3\" font-family=\"Helvetica,sans-Serif\" font-size=\"14.00\">gini = 0.0</text>\n<text text-anchor=\"middle\" x=\"2375.5\" y=\"-119.3\" font-family=\"Helvetica,sans-Serif\" font-size=\"14.00\">samples = 10</text>\n<text text-anchor=\"middle\" x=\"2375.5\" y=\"-104.3\" font-family=\"Helvetica,sans-Serif\" font-size=\"14.00\">value = [0, 10]</text>\n</g>\n<!-- 68&#45;&gt;69 -->\n<g id=\"edge69\" class=\"edge\">\n<title>68&#45;&gt;69</title>\n<path fill=\"none\" stroke=\"black\" d=\"M2451.81,-192.88C2438.9,-181.23 2424.4,-168.14 2411.54,-156.53\"/>\n<polygon fill=\"black\" stroke=\"black\" points=\"2413.54,-153.62 2403.77,-149.52 2408.85,-158.82 2413.54,-153.62\"/>\n</g>\n<!-- 70 -->\n<g id=\"node71\" class=\"node\">\n<title>70</title>\n<path fill=\"#f2c09c\" stroke=\"black\" d=\"M2528,-157C2528,-157 2457,-157 2457,-157 2451,-157 2445,-151 2445,-145 2445,-145 2445,-101 2445,-101 2445,-95 2451,-89 2457,-89 2457,-89 2528,-89 2528,-89 2534,-89 2540,-95 2540,-101 2540,-101 2540,-145 2540,-145 2540,-151 2534,-157 2528,-157\"/>\n<text text-anchor=\"middle\" x=\"2492.5\" y=\"-141.8\" font-family=\"Helvetica,sans-Serif\" font-size=\"14.00\">x[3] &lt;= 22.5</text>\n<text text-anchor=\"middle\" x=\"2492.5\" y=\"-126.8\" font-family=\"Helvetica,sans-Serif\" font-size=\"14.00\">gini = 0.444</text>\n<text text-anchor=\"middle\" x=\"2492.5\" y=\"-111.8\" font-family=\"Helvetica,sans-Serif\" font-size=\"14.00\">samples = 3</text>\n<text text-anchor=\"middle\" x=\"2492.5\" y=\"-96.8\" font-family=\"Helvetica,sans-Serif\" font-size=\"14.00\">value = [2, 1]</text>\n</g>\n<!-- 68&#45;&gt;70 -->\n<g id=\"edge70\" class=\"edge\">\n<title>68&#45;&gt;70</title>\n<path fill=\"none\" stroke=\"black\" d=\"M2489.8,-192.88C2490.12,-184.78 2490.46,-175.98 2490.8,-167.47\"/>\n<polygon fill=\"black\" stroke=\"black\" points=\"2494.3,-167.43 2491.19,-157.3 2487.3,-167.15 2494.3,-167.43\"/>\n</g>\n<!-- 71 -->\n<g id=\"node72\" class=\"node\">\n<title>71</title>\n<path fill=\"#399de5\" stroke=\"black\" d=\"M2415,-53C2415,-53 2344,-53 2344,-53 2338,-53 2332,-47 2332,-41 2332,-41 2332,-12 2332,-12 2332,-6 2338,0 2344,0 2344,0 2415,0 2415,0 2421,0 2427,-6 2427,-12 2427,-12 2427,-41 2427,-41 2427,-47 2421,-53 2415,-53\"/>\n<text text-anchor=\"middle\" x=\"2379.5\" y=\"-37.8\" font-family=\"Helvetica,sans-Serif\" font-size=\"14.00\">gini = 0.0</text>\n<text text-anchor=\"middle\" x=\"2379.5\" y=\"-22.8\" font-family=\"Helvetica,sans-Serif\" font-size=\"14.00\">samples = 1</text>\n<text text-anchor=\"middle\" x=\"2379.5\" y=\"-7.8\" font-family=\"Helvetica,sans-Serif\" font-size=\"14.00\">value = [0, 1]</text>\n</g>\n<!-- 70&#45;&gt;71 -->\n<g id=\"edge71\" class=\"edge\">\n<title>70&#45;&gt;71</title>\n<path fill=\"none\" stroke=\"black\" d=\"M2452.98,-88.95C2441.71,-79.53 2429.45,-69.27 2418.23,-59.89\"/>\n<polygon fill=\"black\" stroke=\"black\" points=\"2420.19,-56.97 2410.28,-53.24 2415.7,-62.34 2420.19,-56.97\"/>\n</g>\n<!-- 72 -->\n<g id=\"node73\" class=\"node\">\n<title>72</title>\n<path fill=\"#e58139\" stroke=\"black\" d=\"M2528,-53C2528,-53 2457,-53 2457,-53 2451,-53 2445,-47 2445,-41 2445,-41 2445,-12 2445,-12 2445,-6 2451,0 2457,0 2457,0 2528,0 2528,0 2534,0 2540,-6 2540,-12 2540,-12 2540,-41 2540,-41 2540,-47 2534,-53 2528,-53\"/>\n<text text-anchor=\"middle\" x=\"2492.5\" y=\"-37.8\" font-family=\"Helvetica,sans-Serif\" font-size=\"14.00\">gini = 0.0</text>\n<text text-anchor=\"middle\" x=\"2492.5\" y=\"-22.8\" font-family=\"Helvetica,sans-Serif\" font-size=\"14.00\">samples = 2</text>\n<text text-anchor=\"middle\" x=\"2492.5\" y=\"-7.8\" font-family=\"Helvetica,sans-Serif\" font-size=\"14.00\">value = [2, 0]</text>\n</g>\n<!-- 70&#45;&gt;72 -->\n<g id=\"edge72\" class=\"edge\">\n<title>70&#45;&gt;72</title>\n<path fill=\"none\" stroke=\"black\" d=\"M2492.5,-88.95C2492.5,-80.72 2492.5,-71.85 2492.5,-63.48\"/>\n<polygon fill=\"black\" stroke=\"black\" points=\"2496,-63.24 2492.5,-53.24 2489,-63.24 2496,-63.24\"/>\n</g>\n<!-- 75 -->\n<g id=\"node76\" class=\"node\">\n<title>75</title>\n<path fill=\"#afd7f4\" stroke=\"black\" d=\"M3015.5,-469C3015.5,-469 2929.5,-469 2929.5,-469 2923.5,-469 2917.5,-463 2917.5,-457 2917.5,-457 2917.5,-413 2917.5,-413 2917.5,-407 2923.5,-401 2929.5,-401 2929.5,-401 3015.5,-401 3015.5,-401 3021.5,-401 3027.5,-407 3027.5,-413 3027.5,-413 3027.5,-457 3027.5,-457 3027.5,-463 3021.5,-469 3015.5,-469\"/>\n<text text-anchor=\"middle\" x=\"2972.5\" y=\"-453.8\" font-family=\"Helvetica,sans-Serif\" font-size=\"14.00\">x[2] &lt;= 61.0</text>\n<text text-anchor=\"middle\" x=\"2972.5\" y=\"-438.8\" font-family=\"Helvetica,sans-Serif\" font-size=\"14.00\">gini = 0.468</text>\n<text text-anchor=\"middle\" x=\"2972.5\" y=\"-423.8\" font-family=\"Helvetica,sans-Serif\" font-size=\"14.00\">samples = 59</text>\n<text text-anchor=\"middle\" x=\"2972.5\" y=\"-408.8\" font-family=\"Helvetica,sans-Serif\" font-size=\"14.00\">value = [22, 37]</text>\n</g>\n<!-- 74&#45;&gt;75 -->\n<g id=\"edge75\" class=\"edge\">\n<title>74&#45;&gt;75</title>\n<path fill=\"none\" stroke=\"black\" d=\"M2972.5,-504.88C2972.5,-496.78 2972.5,-487.98 2972.5,-479.47\"/>\n<polygon fill=\"black\" stroke=\"black\" points=\"2976,-479.3 2972.5,-469.3 2969,-479.3 2976,-479.3\"/>\n</g>\n<!-- 92 -->\n<g id=\"node93\" class=\"node\">\n<title>92</title>\n<path fill=\"#54aae9\" stroke=\"black\" d=\"M3624.5,-469C3624.5,-469 3546.5,-469 3546.5,-469 3540.5,-469 3534.5,-463 3534.5,-457 3534.5,-457 3534.5,-413 3534.5,-413 3534.5,-407 3540.5,-401 3546.5,-401 3546.5,-401 3624.5,-401 3624.5,-401 3630.5,-401 3636.5,-407 3636.5,-413 3636.5,-413 3636.5,-457 3636.5,-457 3636.5,-463 3630.5,-469 3624.5,-469\"/>\n<text text-anchor=\"middle\" x=\"3585.5\" y=\"-453.8\" font-family=\"Helvetica,sans-Serif\" font-size=\"14.00\">x[6] &lt;= 2.233</text>\n<text text-anchor=\"middle\" x=\"3585.5\" y=\"-438.8\" font-family=\"Helvetica,sans-Serif\" font-size=\"14.00\">gini = 0.21</text>\n<text text-anchor=\"middle\" x=\"3585.5\" y=\"-423.8\" font-family=\"Helvetica,sans-Serif\" font-size=\"14.00\">samples = 67</text>\n<text text-anchor=\"middle\" x=\"3585.5\" y=\"-408.8\" font-family=\"Helvetica,sans-Serif\" font-size=\"14.00\">value = [8, 59]</text>\n</g>\n<!-- 74&#45;&gt;92 -->\n<g id=\"edge92\" class=\"edge\">\n<title>74&#45;&gt;92</title>\n<path fill=\"none\" stroke=\"black\" d=\"M3027.71,-528.81C3142.24,-509.76 3404.91,-466.05 3524.36,-446.17\"/>\n<polygon fill=\"black\" stroke=\"black\" points=\"3525.14,-449.59 3534.43,-444.5 3523.99,-442.69 3525.14,-449.59\"/>\n</g>\n<!-- 76 -->\n<g id=\"node77\" class=\"node\">\n<title>76</title>\n<path fill=\"#399de5\" stroke=\"black\" d=\"M2948,-357.5C2948,-357.5 2877,-357.5 2877,-357.5 2871,-357.5 2865,-351.5 2865,-345.5 2865,-345.5 2865,-316.5 2865,-316.5 2865,-310.5 2871,-304.5 2877,-304.5 2877,-304.5 2948,-304.5 2948,-304.5 2954,-304.5 2960,-310.5 2960,-316.5 2960,-316.5 2960,-345.5 2960,-345.5 2960,-351.5 2954,-357.5 2948,-357.5\"/>\n<text text-anchor=\"middle\" x=\"2912.5\" y=\"-342.3\" font-family=\"Helvetica,sans-Serif\" font-size=\"14.00\">gini = 0.0</text>\n<text text-anchor=\"middle\" x=\"2912.5\" y=\"-327.3\" font-family=\"Helvetica,sans-Serif\" font-size=\"14.00\">samples = 8</text>\n<text text-anchor=\"middle\" x=\"2912.5\" y=\"-312.3\" font-family=\"Helvetica,sans-Serif\" font-size=\"14.00\">value = [0, 8]</text>\n</g>\n<!-- 75&#45;&gt;76 -->\n<g id=\"edge76\" class=\"edge\">\n<title>75&#45;&gt;76</title>\n<path fill=\"none\" stroke=\"black\" d=\"M2953.02,-400.88C2946.49,-389.78 2939.19,-377.37 2932.61,-366.18\"/>\n<polygon fill=\"black\" stroke=\"black\" points=\"2935.6,-364.36 2927.51,-357.52 2929.57,-367.91 2935.6,-364.36\"/>\n</g>\n<!-- 77 -->\n<g id=\"node78\" class=\"node\">\n<title>77</title>\n<path fill=\"#cfe7f9\" stroke=\"black\" d=\"M3076.5,-365C3076.5,-365 2990.5,-365 2990.5,-365 2984.5,-365 2978.5,-359 2978.5,-353 2978.5,-353 2978.5,-309 2978.5,-309 2978.5,-303 2984.5,-297 2990.5,-297 2990.5,-297 3076.5,-297 3076.5,-297 3082.5,-297 3088.5,-303 3088.5,-309 3088.5,-309 3088.5,-353 3088.5,-353 3088.5,-359 3082.5,-365 3076.5,-365\"/>\n<text text-anchor=\"middle\" x=\"3033.5\" y=\"-349.8\" font-family=\"Helvetica,sans-Serif\" font-size=\"14.00\">x[7] &lt;= 42.5</text>\n<text text-anchor=\"middle\" x=\"3033.5\" y=\"-334.8\" font-family=\"Helvetica,sans-Serif\" font-size=\"14.00\">gini = 0.491</text>\n<text text-anchor=\"middle\" x=\"3033.5\" y=\"-319.8\" font-family=\"Helvetica,sans-Serif\" font-size=\"14.00\">samples = 51</text>\n<text text-anchor=\"middle\" x=\"3033.5\" y=\"-304.8\" font-family=\"Helvetica,sans-Serif\" font-size=\"14.00\">value = [22, 29]</text>\n</g>\n<!-- 75&#45;&gt;77 -->\n<g id=\"edge77\" class=\"edge\">\n<title>75&#45;&gt;77</title>\n<path fill=\"none\" stroke=\"black\" d=\"M2992.3,-400.88C2997.42,-392.33 3002.99,-383.01 3008.34,-374.07\"/>\n<polygon fill=\"black\" stroke=\"black\" points=\"3011.46,-375.68 3013.59,-365.3 3005.45,-372.09 3011.46,-375.68\"/>\n</g>\n<!-- 78 -->\n<g id=\"node79\" class=\"node\">\n<title>78</title>\n<path fill=\"#f9e1d0\" stroke=\"black\" d=\"M2936.5,-261C2936.5,-261 2850.5,-261 2850.5,-261 2844.5,-261 2838.5,-255 2838.5,-249 2838.5,-249 2838.5,-205 2838.5,-205 2838.5,-199 2844.5,-193 2850.5,-193 2850.5,-193 2936.5,-193 2936.5,-193 2942.5,-193 2948.5,-199 2948.5,-205 2948.5,-205 2948.5,-249 2948.5,-249 2948.5,-255 2942.5,-261 2936.5,-261\"/>\n<text text-anchor=\"middle\" x=\"2893.5\" y=\"-245.8\" font-family=\"Helvetica,sans-Serif\" font-size=\"14.00\">x[5] &lt;= 41.9</text>\n<text text-anchor=\"middle\" x=\"2893.5\" y=\"-230.8\" font-family=\"Helvetica,sans-Serif\" font-size=\"14.00\">gini = 0.491</text>\n<text text-anchor=\"middle\" x=\"2893.5\" y=\"-215.8\" font-family=\"Helvetica,sans-Serif\" font-size=\"14.00\">samples = 30</text>\n<text text-anchor=\"middle\" x=\"2893.5\" y=\"-200.8\" font-family=\"Helvetica,sans-Serif\" font-size=\"14.00\">value = [17, 13]</text>\n</g>\n<!-- 77&#45;&gt;78 -->\n<g id=\"edge78\" class=\"edge\">\n<title>77&#45;&gt;78</title>\n<path fill=\"none\" stroke=\"black\" d=\"M2988.05,-296.88C2975.09,-287.44 2960.84,-277.06 2947.43,-267.29\"/>\n<polygon fill=\"black\" stroke=\"black\" points=\"2949.35,-264.36 2939.21,-261.3 2945.23,-270.02 2949.35,-264.36\"/>\n</g>\n<!-- 85 -->\n<g id=\"node86\" class=\"node\">\n<title>85</title>\n<path fill=\"#77bced\" stroke=\"black\" d=\"M3157.5,-261C3157.5,-261 3079.5,-261 3079.5,-261 3073.5,-261 3067.5,-255 3067.5,-249 3067.5,-249 3067.5,-205 3067.5,-205 3067.5,-199 3073.5,-193 3079.5,-193 3079.5,-193 3157.5,-193 3157.5,-193 3163.5,-193 3169.5,-199 3169.5,-205 3169.5,-205 3169.5,-249 3169.5,-249 3169.5,-255 3163.5,-261 3157.5,-261\"/>\n<text text-anchor=\"middle\" x=\"3118.5\" y=\"-245.8\" font-family=\"Helvetica,sans-Serif\" font-size=\"14.00\">x[6] &lt;= 0.226</text>\n<text text-anchor=\"middle\" x=\"3118.5\" y=\"-230.8\" font-family=\"Helvetica,sans-Serif\" font-size=\"14.00\">gini = 0.363</text>\n<text text-anchor=\"middle\" x=\"3118.5\" y=\"-215.8\" font-family=\"Helvetica,sans-Serif\" font-size=\"14.00\">samples = 21</text>\n<text text-anchor=\"middle\" x=\"3118.5\" y=\"-200.8\" font-family=\"Helvetica,sans-Serif\" font-size=\"14.00\">value = [5, 16]</text>\n</g>\n<!-- 77&#45;&gt;85 -->\n<g id=\"edge85\" class=\"edge\">\n<title>77&#45;&gt;85</title>\n<path fill=\"none\" stroke=\"black\" d=\"M3061.1,-296.88C3068.45,-288.07 3076.47,-278.43 3084.14,-269.24\"/>\n<polygon fill=\"black\" stroke=\"black\" points=\"3087.04,-271.22 3090.75,-261.3 3081.66,-266.74 3087.04,-271.22\"/>\n</g>\n<!-- 79 -->\n<g id=\"node80\" class=\"node\">\n<title>79</title>\n<path fill=\"#f2c09c\" stroke=\"black\" d=\"M2761.5,-157C2761.5,-157 2683.5,-157 2683.5,-157 2677.5,-157 2671.5,-151 2671.5,-145 2671.5,-145 2671.5,-101 2671.5,-101 2671.5,-95 2677.5,-89 2683.5,-89 2683.5,-89 2761.5,-89 2761.5,-89 2767.5,-89 2773.5,-95 2773.5,-101 2773.5,-101 2773.5,-145 2773.5,-145 2773.5,-151 2767.5,-157 2761.5,-157\"/>\n<text text-anchor=\"middle\" x=\"2722.5\" y=\"-141.8\" font-family=\"Helvetica,sans-Serif\" font-size=\"14.00\">x[2] &lt;= 81.0</text>\n<text text-anchor=\"middle\" x=\"2722.5\" y=\"-126.8\" font-family=\"Helvetica,sans-Serif\" font-size=\"14.00\">gini = 0.444</text>\n<text text-anchor=\"middle\" x=\"2722.5\" y=\"-111.8\" font-family=\"Helvetica,sans-Serif\" font-size=\"14.00\">samples = 24</text>\n<text text-anchor=\"middle\" x=\"2722.5\" y=\"-96.8\" font-family=\"Helvetica,sans-Serif\" font-size=\"14.00\">value = [16, 8]</text>\n</g>\n<!-- 78&#45;&gt;79 -->\n<g id=\"edge79\" class=\"edge\">\n<title>78&#45;&gt;79</title>\n<path fill=\"none\" stroke=\"black\" d=\"M2838.45,-193.17C2820.58,-182.5 2800.67,-170.63 2782.46,-159.76\"/>\n<polygon fill=\"black\" stroke=\"black\" points=\"2784.05,-156.64 2773.67,-154.52 2780.47,-162.65 2784.05,-156.64\"/>\n</g>\n<!-- 82 -->\n<g id=\"node83\" class=\"node\">\n<title>82</title>\n<path fill=\"#61b1ea\" stroke=\"black\" d=\"M2929,-157C2929,-157 2858,-157 2858,-157 2852,-157 2846,-151 2846,-145 2846,-145 2846,-101 2846,-101 2846,-95 2852,-89 2858,-89 2858,-89 2929,-89 2929,-89 2935,-89 2941,-95 2941,-101 2941,-101 2941,-145 2941,-145 2941,-151 2935,-157 2929,-157\"/>\n<text text-anchor=\"middle\" x=\"2893.5\" y=\"-141.8\" font-family=\"Helvetica,sans-Serif\" font-size=\"14.00\">x[3] &lt;= 49.0</text>\n<text text-anchor=\"middle\" x=\"2893.5\" y=\"-126.8\" font-family=\"Helvetica,sans-Serif\" font-size=\"14.00\">gini = 0.278</text>\n<text text-anchor=\"middle\" x=\"2893.5\" y=\"-111.8\" font-family=\"Helvetica,sans-Serif\" font-size=\"14.00\">samples = 6</text>\n<text text-anchor=\"middle\" x=\"2893.5\" y=\"-96.8\" font-family=\"Helvetica,sans-Serif\" font-size=\"14.00\">value = [1, 5]</text>\n</g>\n<!-- 78&#45;&gt;82 -->\n<g id=\"edge82\" class=\"edge\">\n<title>78&#45;&gt;82</title>\n<path fill=\"none\" stroke=\"black\" d=\"M2893.5,-192.88C2893.5,-184.78 2893.5,-175.98 2893.5,-167.47\"/>\n<polygon fill=\"black\" stroke=\"black\" points=\"2897,-167.3 2893.5,-157.3 2890,-167.3 2897,-167.3\"/>\n</g>\n<!-- 80 -->\n<g id=\"node81\" class=\"node\">\n<title>80</title>\n<path fill=\"#ffffff\" stroke=\"black\" d=\"M2644.5,-53C2644.5,-53 2570.5,-53 2570.5,-53 2564.5,-53 2558.5,-47 2558.5,-41 2558.5,-41 2558.5,-12 2558.5,-12 2558.5,-6 2564.5,0 2570.5,0 2570.5,0 2644.5,0 2644.5,0 2650.5,0 2656.5,-6 2656.5,-12 2656.5,-12 2656.5,-41 2656.5,-41 2656.5,-47 2650.5,-53 2644.5,-53\"/>\n<text text-anchor=\"middle\" x=\"2607.5\" y=\"-37.8\" font-family=\"Helvetica,sans-Serif\" font-size=\"14.00\">gini = 0.5</text>\n<text text-anchor=\"middle\" x=\"2607.5\" y=\"-22.8\" font-family=\"Helvetica,sans-Serif\" font-size=\"14.00\">samples = 16</text>\n<text text-anchor=\"middle\" x=\"2607.5\" y=\"-7.8\" font-family=\"Helvetica,sans-Serif\" font-size=\"14.00\">value = [8, 8]</text>\n</g>\n<!-- 79&#45;&gt;80 -->\n<g id=\"edge80\" class=\"edge\">\n<title>79&#45;&gt;80</title>\n<path fill=\"none\" stroke=\"black\" d=\"M2682.28,-88.95C2670.7,-79.43 2658.09,-69.07 2646.58,-59.62\"/>\n<polygon fill=\"black\" stroke=\"black\" points=\"2648.77,-56.88 2638.82,-53.24 2644.32,-62.29 2648.77,-56.88\"/>\n</g>\n<!-- 81 -->\n<g id=\"node82\" class=\"node\">\n<title>81</title>\n<path fill=\"#e58139\" stroke=\"black\" d=\"M2758,-53C2758,-53 2687,-53 2687,-53 2681,-53 2675,-47 2675,-41 2675,-41 2675,-12 2675,-12 2675,-6 2681,0 2687,0 2687,0 2758,0 2758,0 2764,0 2770,-6 2770,-12 2770,-12 2770,-41 2770,-41 2770,-47 2764,-53 2758,-53\"/>\n<text text-anchor=\"middle\" x=\"2722.5\" y=\"-37.8\" font-family=\"Helvetica,sans-Serif\" font-size=\"14.00\">gini = 0.0</text>\n<text text-anchor=\"middle\" x=\"2722.5\" y=\"-22.8\" font-family=\"Helvetica,sans-Serif\" font-size=\"14.00\">samples = 8</text>\n<text text-anchor=\"middle\" x=\"2722.5\" y=\"-7.8\" font-family=\"Helvetica,sans-Serif\" font-size=\"14.00\">value = [8, 0]</text>\n</g>\n<!-- 79&#45;&gt;81 -->\n<g id=\"edge81\" class=\"edge\">\n<title>79&#45;&gt;81</title>\n<path fill=\"none\" stroke=\"black\" d=\"M2722.5,-88.95C2722.5,-80.72 2722.5,-71.85 2722.5,-63.48\"/>\n<polygon fill=\"black\" stroke=\"black\" points=\"2726,-63.24 2722.5,-53.24 2719,-63.24 2726,-63.24\"/>\n</g>\n<!-- 83 -->\n<g id=\"node84\" class=\"node\">\n<title>83</title>\n<path fill=\"#399de5\" stroke=\"black\" d=\"M2871,-53C2871,-53 2800,-53 2800,-53 2794,-53 2788,-47 2788,-41 2788,-41 2788,-12 2788,-12 2788,-6 2794,0 2800,0 2800,0 2871,0 2871,0 2877,0 2883,-6 2883,-12 2883,-12 2883,-41 2883,-41 2883,-47 2877,-53 2871,-53\"/>\n<text text-anchor=\"middle\" x=\"2835.5\" y=\"-37.8\" font-family=\"Helvetica,sans-Serif\" font-size=\"14.00\">gini = 0.0</text>\n<text text-anchor=\"middle\" x=\"2835.5\" y=\"-22.8\" font-family=\"Helvetica,sans-Serif\" font-size=\"14.00\">samples = 5</text>\n<text text-anchor=\"middle\" x=\"2835.5\" y=\"-7.8\" font-family=\"Helvetica,sans-Serif\" font-size=\"14.00\">value = [0, 5]</text>\n</g>\n<!-- 82&#45;&gt;83 -->\n<g id=\"edge83\" class=\"edge\">\n<title>82&#45;&gt;83</title>\n<path fill=\"none\" stroke=\"black\" d=\"M2873.21,-88.95C2867.82,-80.17 2861.99,-70.66 2856.56,-61.82\"/>\n<polygon fill=\"black\" stroke=\"black\" points=\"2859.51,-59.93 2851.3,-53.24 2853.54,-63.59 2859.51,-59.93\"/>\n</g>\n<!-- 84 -->\n<g id=\"node85\" class=\"node\">\n<title>84</title>\n<path fill=\"#e58139\" stroke=\"black\" d=\"M2984,-53C2984,-53 2913,-53 2913,-53 2907,-53 2901,-47 2901,-41 2901,-41 2901,-12 2901,-12 2901,-6 2907,0 2913,0 2913,0 2984,0 2984,0 2990,0 2996,-6 2996,-12 2996,-12 2996,-41 2996,-41 2996,-47 2990,-53 2984,-53\"/>\n<text text-anchor=\"middle\" x=\"2948.5\" y=\"-37.8\" font-family=\"Helvetica,sans-Serif\" font-size=\"14.00\">gini = 0.0</text>\n<text text-anchor=\"middle\" x=\"2948.5\" y=\"-22.8\" font-family=\"Helvetica,sans-Serif\" font-size=\"14.00\">samples = 1</text>\n<text text-anchor=\"middle\" x=\"2948.5\" y=\"-7.8\" font-family=\"Helvetica,sans-Serif\" font-size=\"14.00\">value = [1, 0]</text>\n</g>\n<!-- 82&#45;&gt;84 -->\n<g id=\"edge84\" class=\"edge\">\n<title>82&#45;&gt;84</title>\n<path fill=\"none\" stroke=\"black\" d=\"M2912.74,-88.95C2917.79,-80.26 2923.26,-70.86 2928.37,-62.09\"/>\n<polygon fill=\"black\" stroke=\"black\" points=\"2931.52,-63.64 2933.52,-53.24 2925.47,-60.12 2931.52,-63.64\"/>\n</g>\n<!-- 86 -->\n<g id=\"node87\" class=\"node\">\n<title>86</title>\n<path fill=\"#eca06a\" stroke=\"black\" d=\"M3154,-157C3154,-157 3083,-157 3083,-157 3077,-157 3071,-151 3071,-145 3071,-145 3071,-101 3071,-101 3071,-95 3077,-89 3083,-89 3083,-89 3154,-89 3154,-89 3160,-89 3166,-95 3166,-101 3166,-101 3166,-145 3166,-145 3166,-151 3160,-157 3154,-157\"/>\n<text text-anchor=\"middle\" x=\"3118.5\" y=\"-141.8\" font-family=\"Helvetica,sans-Serif\" font-size=\"14.00\">x[2] &lt;= 85.0</text>\n<text text-anchor=\"middle\" x=\"3118.5\" y=\"-126.8\" font-family=\"Helvetica,sans-Serif\" font-size=\"14.00\">gini = 0.32</text>\n<text text-anchor=\"middle\" x=\"3118.5\" y=\"-111.8\" font-family=\"Helvetica,sans-Serif\" font-size=\"14.00\">samples = 5</text>\n<text text-anchor=\"middle\" x=\"3118.5\" y=\"-96.8\" font-family=\"Helvetica,sans-Serif\" font-size=\"14.00\">value = [4, 1]</text>\n</g>\n<!-- 85&#45;&gt;86 -->\n<g id=\"edge86\" class=\"edge\">\n<title>85&#45;&gt;86</title>\n<path fill=\"none\" stroke=\"black\" d=\"M3118.5,-192.88C3118.5,-184.78 3118.5,-175.98 3118.5,-167.47\"/>\n<polygon fill=\"black\" stroke=\"black\" points=\"3122,-167.3 3118.5,-157.3 3115,-167.3 3122,-167.3\"/>\n</g>\n<!-- 89 -->\n<g id=\"node90\" class=\"node\">\n<title>89</title>\n<path fill=\"#46a4e7\" stroke=\"black\" d=\"M3330.5,-157C3330.5,-157 3252.5,-157 3252.5,-157 3246.5,-157 3240.5,-151 3240.5,-145 3240.5,-145 3240.5,-101 3240.5,-101 3240.5,-95 3246.5,-89 3252.5,-89 3252.5,-89 3330.5,-89 3330.5,-89 3336.5,-89 3342.5,-95 3342.5,-101 3342.5,-101 3342.5,-145 3342.5,-145 3342.5,-151 3336.5,-157 3330.5,-157\"/>\n<text text-anchor=\"middle\" x=\"3291.5\" y=\"-141.8\" font-family=\"Helvetica,sans-Serif\" font-size=\"14.00\">x[6] &lt;= 1.391</text>\n<text text-anchor=\"middle\" x=\"3291.5\" y=\"-126.8\" font-family=\"Helvetica,sans-Serif\" font-size=\"14.00\">gini = 0.117</text>\n<text text-anchor=\"middle\" x=\"3291.5\" y=\"-111.8\" font-family=\"Helvetica,sans-Serif\" font-size=\"14.00\">samples = 16</text>\n<text text-anchor=\"middle\" x=\"3291.5\" y=\"-96.8\" font-family=\"Helvetica,sans-Serif\" font-size=\"14.00\">value = [1, 15]</text>\n</g>\n<!-- 85&#45;&gt;89 -->\n<g id=\"edge89\" class=\"edge\">\n<title>85&#45;&gt;89</title>\n<path fill=\"none\" stroke=\"black\" d=\"M3169.94,-195.67C3189.29,-184.27 3211.45,-171.2 3231.51,-159.37\"/>\n<polygon fill=\"black\" stroke=\"black\" points=\"3233.42,-162.3 3240.26,-154.21 3229.87,-156.27 3233.42,-162.3\"/>\n</g>\n<!-- 87 -->\n<g id=\"node88\" class=\"node\">\n<title>87</title>\n<path fill=\"#e58139\" stroke=\"black\" d=\"M3097,-53C3097,-53 3026,-53 3026,-53 3020,-53 3014,-47 3014,-41 3014,-41 3014,-12 3014,-12 3014,-6 3020,0 3026,0 3026,0 3097,0 3097,0 3103,0 3109,-6 3109,-12 3109,-12 3109,-41 3109,-41 3109,-47 3103,-53 3097,-53\"/>\n<text text-anchor=\"middle\" x=\"3061.5\" y=\"-37.8\" font-family=\"Helvetica,sans-Serif\" font-size=\"14.00\">gini = 0.0</text>\n<text text-anchor=\"middle\" x=\"3061.5\" y=\"-22.8\" font-family=\"Helvetica,sans-Serif\" font-size=\"14.00\">samples = 4</text>\n<text text-anchor=\"middle\" x=\"3061.5\" y=\"-7.8\" font-family=\"Helvetica,sans-Serif\" font-size=\"14.00\">value = [4, 0]</text>\n</g>\n<!-- 86&#45;&gt;87 -->\n<g id=\"edge87\" class=\"edge\">\n<title>86&#45;&gt;87</title>\n<path fill=\"none\" stroke=\"black\" d=\"M3098.56,-88.95C3093.27,-80.17 3087.53,-70.66 3082.2,-61.82\"/>\n<polygon fill=\"black\" stroke=\"black\" points=\"3085.19,-59.99 3077.02,-53.24 3079.19,-63.61 3085.19,-59.99\"/>\n</g>\n<!-- 88 -->\n<g id=\"node89\" class=\"node\">\n<title>88</title>\n<path fill=\"#399de5\" stroke=\"black\" d=\"M3210,-53C3210,-53 3139,-53 3139,-53 3133,-53 3127,-47 3127,-41 3127,-41 3127,-12 3127,-12 3127,-6 3133,0 3139,0 3139,0 3210,0 3210,0 3216,0 3222,-6 3222,-12 3222,-12 3222,-41 3222,-41 3222,-47 3216,-53 3210,-53\"/>\n<text text-anchor=\"middle\" x=\"3174.5\" y=\"-37.8\" font-family=\"Helvetica,sans-Serif\" font-size=\"14.00\">gini = 0.0</text>\n<text text-anchor=\"middle\" x=\"3174.5\" y=\"-22.8\" font-family=\"Helvetica,sans-Serif\" font-size=\"14.00\">samples = 1</text>\n<text text-anchor=\"middle\" x=\"3174.5\" y=\"-7.8\" font-family=\"Helvetica,sans-Serif\" font-size=\"14.00\">value = [0, 1]</text>\n</g>\n<!-- 86&#45;&gt;88 -->\n<g id=\"edge88\" class=\"edge\">\n<title>86&#45;&gt;88</title>\n<path fill=\"none\" stroke=\"black\" d=\"M3138.09,-88.95C3143.24,-80.26 3148.8,-70.86 3154,-62.09\"/>\n<polygon fill=\"black\" stroke=\"black\" points=\"3157.16,-63.62 3159.25,-53.24 3151.14,-60.06 3157.16,-63.62\"/>\n</g>\n<!-- 90 -->\n<g id=\"node91\" class=\"node\">\n<title>90</title>\n<path fill=\"#399de5\" stroke=\"black\" d=\"M3330.5,-53C3330.5,-53 3252.5,-53 3252.5,-53 3246.5,-53 3240.5,-47 3240.5,-41 3240.5,-41 3240.5,-12 3240.5,-12 3240.5,-6 3246.5,0 3252.5,0 3252.5,0 3330.5,0 3330.5,0 3336.5,0 3342.5,-6 3342.5,-12 3342.5,-12 3342.5,-41 3342.5,-41 3342.5,-47 3336.5,-53 3330.5,-53\"/>\n<text text-anchor=\"middle\" x=\"3291.5\" y=\"-37.8\" font-family=\"Helvetica,sans-Serif\" font-size=\"14.00\">gini = 0.0</text>\n<text text-anchor=\"middle\" x=\"3291.5\" y=\"-22.8\" font-family=\"Helvetica,sans-Serif\" font-size=\"14.00\">samples = 15</text>\n<text text-anchor=\"middle\" x=\"3291.5\" y=\"-7.8\" font-family=\"Helvetica,sans-Serif\" font-size=\"14.00\">value = [0, 15]</text>\n</g>\n<!-- 89&#45;&gt;90 -->\n<g id=\"edge90\" class=\"edge\">\n<title>89&#45;&gt;90</title>\n<path fill=\"none\" stroke=\"black\" d=\"M3291.5,-88.95C3291.5,-80.72 3291.5,-71.85 3291.5,-63.48\"/>\n<polygon fill=\"black\" stroke=\"black\" points=\"3295,-63.24 3291.5,-53.24 3288,-63.24 3295,-63.24\"/>\n</g>\n<!-- 91 -->\n<g id=\"node92\" class=\"node\">\n<title>91</title>\n<path fill=\"#e58139\" stroke=\"black\" d=\"M3444,-53C3444,-53 3373,-53 3373,-53 3367,-53 3361,-47 3361,-41 3361,-41 3361,-12 3361,-12 3361,-6 3367,0 3373,0 3373,0 3444,0 3444,0 3450,0 3456,-6 3456,-12 3456,-12 3456,-41 3456,-41 3456,-47 3450,-53 3444,-53\"/>\n<text text-anchor=\"middle\" x=\"3408.5\" y=\"-37.8\" font-family=\"Helvetica,sans-Serif\" font-size=\"14.00\">gini = 0.0</text>\n<text text-anchor=\"middle\" x=\"3408.5\" y=\"-22.8\" font-family=\"Helvetica,sans-Serif\" font-size=\"14.00\">samples = 1</text>\n<text text-anchor=\"middle\" x=\"3408.5\" y=\"-7.8\" font-family=\"Helvetica,sans-Serif\" font-size=\"14.00\">value = [1, 0]</text>\n</g>\n<!-- 89&#45;&gt;91 -->\n<g id=\"edge91\" class=\"edge\">\n<title>89&#45;&gt;91</title>\n<path fill=\"none\" stroke=\"black\" d=\"M3332.42,-88.95C3344.2,-79.43 3357.03,-69.07 3368.74,-59.62\"/>\n<polygon fill=\"black\" stroke=\"black\" points=\"3371.06,-62.24 3376.64,-53.24 3366.66,-56.8 3371.06,-62.24\"/>\n</g>\n<!-- 93 -->\n<g id=\"node94\" class=\"node\">\n<title>93</title>\n<path fill=\"#50a9e8\" stroke=\"black\" d=\"M3624.5,-365C3624.5,-365 3546.5,-365 3546.5,-365 3540.5,-365 3534.5,-359 3534.5,-353 3534.5,-353 3534.5,-309 3534.5,-309 3534.5,-303 3540.5,-297 3546.5,-297 3546.5,-297 3624.5,-297 3624.5,-297 3630.5,-297 3636.5,-303 3636.5,-309 3636.5,-309 3636.5,-353 3636.5,-353 3636.5,-359 3630.5,-365 3624.5,-365\"/>\n<text text-anchor=\"middle\" x=\"3585.5\" y=\"-349.8\" font-family=\"Helvetica,sans-Serif\" font-size=\"14.00\">x[7] &lt;= 44.5</text>\n<text text-anchor=\"middle\" x=\"3585.5\" y=\"-334.8\" font-family=\"Helvetica,sans-Serif\" font-size=\"14.00\">gini = 0.19</text>\n<text text-anchor=\"middle\" x=\"3585.5\" y=\"-319.8\" font-family=\"Helvetica,sans-Serif\" font-size=\"14.00\">samples = 66</text>\n<text text-anchor=\"middle\" x=\"3585.5\" y=\"-304.8\" font-family=\"Helvetica,sans-Serif\" font-size=\"14.00\">value = [7, 59]</text>\n</g>\n<!-- 92&#45;&gt;93 -->\n<g id=\"edge93\" class=\"edge\">\n<title>92&#45;&gt;93</title>\n<path fill=\"none\" stroke=\"black\" d=\"M3585.5,-400.88C3585.5,-392.78 3585.5,-383.98 3585.5,-375.47\"/>\n<polygon fill=\"black\" stroke=\"black\" points=\"3589,-375.3 3585.5,-365.3 3582,-375.3 3589,-375.3\"/>\n</g>\n<!-- 104 -->\n<g id=\"node105\" class=\"node\">\n<title>104</title>\n<path fill=\"#e58139\" stroke=\"black\" d=\"M3738,-357.5C3738,-357.5 3667,-357.5 3667,-357.5 3661,-357.5 3655,-351.5 3655,-345.5 3655,-345.5 3655,-316.5 3655,-316.5 3655,-310.5 3661,-304.5 3667,-304.5 3667,-304.5 3738,-304.5 3738,-304.5 3744,-304.5 3750,-310.5 3750,-316.5 3750,-316.5 3750,-345.5 3750,-345.5 3750,-351.5 3744,-357.5 3738,-357.5\"/>\n<text text-anchor=\"middle\" x=\"3702.5\" y=\"-342.3\" font-family=\"Helvetica,sans-Serif\" font-size=\"14.00\">gini = 0.0</text>\n<text text-anchor=\"middle\" x=\"3702.5\" y=\"-327.3\" font-family=\"Helvetica,sans-Serif\" font-size=\"14.00\">samples = 1</text>\n<text text-anchor=\"middle\" x=\"3702.5\" y=\"-312.3\" font-family=\"Helvetica,sans-Serif\" font-size=\"14.00\">value = [1, 0]</text>\n</g>\n<!-- 92&#45;&gt;104 -->\n<g id=\"edge104\" class=\"edge\">\n<title>92&#45;&gt;104</title>\n<path fill=\"none\" stroke=\"black\" d=\"M3623.49,-400.88C3636.98,-389.12 3652.15,-375.89 3665.56,-364.2\"/>\n<polygon fill=\"black\" stroke=\"black\" points=\"3667.99,-366.73 3673.23,-357.52 3663.39,-361.45 3667.99,-366.73\"/>\n</g>\n<!-- 94 -->\n<g id=\"node95\" class=\"node\">\n<title>94</title>\n<path fill=\"#46a3e7\" stroke=\"black\" d=\"M3624.5,-261C3624.5,-261 3546.5,-261 3546.5,-261 3540.5,-261 3534.5,-255 3534.5,-249 3534.5,-249 3534.5,-205 3534.5,-205 3534.5,-199 3540.5,-193 3546.5,-193 3546.5,-193 3624.5,-193 3624.5,-193 3630.5,-193 3636.5,-199 3636.5,-205 3636.5,-205 3636.5,-249 3636.5,-249 3636.5,-255 3630.5,-261 3624.5,-261\"/>\n<text text-anchor=\"middle\" x=\"3585.5\" y=\"-245.8\" font-family=\"Helvetica,sans-Serif\" font-size=\"14.00\">x[6] &lt;= 0.304</text>\n<text text-anchor=\"middle\" x=\"3585.5\" y=\"-230.8\" font-family=\"Helvetica,sans-Serif\" font-size=\"14.00\">gini = 0.115</text>\n<text text-anchor=\"middle\" x=\"3585.5\" y=\"-215.8\" font-family=\"Helvetica,sans-Serif\" font-size=\"14.00\">samples = 49</text>\n<text text-anchor=\"middle\" x=\"3585.5\" y=\"-200.8\" font-family=\"Helvetica,sans-Serif\" font-size=\"14.00\">value = [3, 46]</text>\n</g>\n<!-- 93&#45;&gt;94 -->\n<g id=\"edge94\" class=\"edge\">\n<title>93&#45;&gt;94</title>\n<path fill=\"none\" stroke=\"black\" d=\"M3585.5,-296.88C3585.5,-288.78 3585.5,-279.98 3585.5,-271.47\"/>\n<polygon fill=\"black\" stroke=\"black\" points=\"3589,-271.3 3585.5,-261.3 3582,-271.3 3589,-271.3\"/>\n</g>\n<!-- 99 -->\n<g id=\"node100\" class=\"node\">\n<title>99</title>\n<path fill=\"#76bbed\" stroke=\"black\" d=\"M3804.5,-261C3804.5,-261 3726.5,-261 3726.5,-261 3720.5,-261 3714.5,-255 3714.5,-249 3714.5,-249 3714.5,-205 3714.5,-205 3714.5,-199 3720.5,-193 3726.5,-193 3726.5,-193 3804.5,-193 3804.5,-193 3810.5,-193 3816.5,-199 3816.5,-205 3816.5,-205 3816.5,-249 3816.5,-249 3816.5,-255 3810.5,-261 3804.5,-261\"/>\n<text text-anchor=\"middle\" x=\"3765.5\" y=\"-245.8\" font-family=\"Helvetica,sans-Serif\" font-size=\"14.00\">x[6] &lt;= 1.157</text>\n<text text-anchor=\"middle\" x=\"3765.5\" y=\"-230.8\" font-family=\"Helvetica,sans-Serif\" font-size=\"14.00\">gini = 0.36</text>\n<text text-anchor=\"middle\" x=\"3765.5\" y=\"-215.8\" font-family=\"Helvetica,sans-Serif\" font-size=\"14.00\">samples = 17</text>\n<text text-anchor=\"middle\" x=\"3765.5\" y=\"-200.8\" font-family=\"Helvetica,sans-Serif\" font-size=\"14.00\">value = [4, 13]</text>\n</g>\n<!-- 93&#45;&gt;99 -->\n<g id=\"edge99\" class=\"edge\">\n<title>93&#45;&gt;99</title>\n<path fill=\"none\" stroke=\"black\" d=\"M3636.6,-301.04C3658.07,-288.88 3683.2,-274.64 3705.54,-261.98\"/>\n<polygon fill=\"black\" stroke=\"black\" points=\"3707.3,-265 3714.27,-257.03 3703.85,-258.91 3707.3,-265\"/>\n</g>\n<!-- 95 -->\n<g id=\"node96\" class=\"node\">\n<title>95</title>\n<path fill=\"#74baed\" stroke=\"black\" d=\"M3564.5,-157C3564.5,-157 3486.5,-157 3486.5,-157 3480.5,-157 3474.5,-151 3474.5,-145 3474.5,-145 3474.5,-101 3474.5,-101 3474.5,-95 3480.5,-89 3486.5,-89 3486.5,-89 3564.5,-89 3564.5,-89 3570.5,-89 3576.5,-95 3576.5,-101 3576.5,-101 3576.5,-145 3576.5,-145 3576.5,-151 3570.5,-157 3564.5,-157\"/>\n<text text-anchor=\"middle\" x=\"3525.5\" y=\"-141.8\" font-family=\"Helvetica,sans-Serif\" font-size=\"14.00\">x[6] &lt;= 0.27</text>\n<text text-anchor=\"middle\" x=\"3525.5\" y=\"-126.8\" font-family=\"Helvetica,sans-Serif\" font-size=\"14.00\">gini = 0.355</text>\n<text text-anchor=\"middle\" x=\"3525.5\" y=\"-111.8\" font-family=\"Helvetica,sans-Serif\" font-size=\"14.00\">samples = 13</text>\n<text text-anchor=\"middle\" x=\"3525.5\" y=\"-96.8\" font-family=\"Helvetica,sans-Serif\" font-size=\"14.00\">value = [3, 10]</text>\n</g>\n<!-- 94&#45;&gt;95 -->\n<g id=\"edge95\" class=\"edge\">\n<title>94&#45;&gt;95</title>\n<path fill=\"none\" stroke=\"black\" d=\"M3566.02,-192.88C3560.99,-184.33 3555.51,-175.01 3550.25,-166.07\"/>\n<polygon fill=\"black\" stroke=\"black\" points=\"3553.17,-164.14 3545.09,-157.3 3547.14,-167.69 3553.17,-164.14\"/>\n</g>\n<!-- 98 -->\n<g id=\"node99\" class=\"node\">\n<title>98</title>\n<path fill=\"#399de5\" stroke=\"black\" d=\"M3684.5,-149.5C3684.5,-149.5 3606.5,-149.5 3606.5,-149.5 3600.5,-149.5 3594.5,-143.5 3594.5,-137.5 3594.5,-137.5 3594.5,-108.5 3594.5,-108.5 3594.5,-102.5 3600.5,-96.5 3606.5,-96.5 3606.5,-96.5 3684.5,-96.5 3684.5,-96.5 3690.5,-96.5 3696.5,-102.5 3696.5,-108.5 3696.5,-108.5 3696.5,-137.5 3696.5,-137.5 3696.5,-143.5 3690.5,-149.5 3684.5,-149.5\"/>\n<text text-anchor=\"middle\" x=\"3645.5\" y=\"-134.3\" font-family=\"Helvetica,sans-Serif\" font-size=\"14.00\">gini = 0.0</text>\n<text text-anchor=\"middle\" x=\"3645.5\" y=\"-119.3\" font-family=\"Helvetica,sans-Serif\" font-size=\"14.00\">samples = 36</text>\n<text text-anchor=\"middle\" x=\"3645.5\" y=\"-104.3\" font-family=\"Helvetica,sans-Serif\" font-size=\"14.00\">value = [0, 36]</text>\n</g>\n<!-- 94&#45;&gt;98 -->\n<g id=\"edge98\" class=\"edge\">\n<title>94&#45;&gt;98</title>\n<path fill=\"none\" stroke=\"black\" d=\"M3604.98,-192.88C3611.51,-181.78 3618.81,-169.37 3625.39,-158.18\"/>\n<polygon fill=\"black\" stroke=\"black\" points=\"3628.43,-159.91 3630.49,-149.52 3622.4,-156.36 3628.43,-159.91\"/>\n</g>\n<!-- 96 -->\n<g id=\"node97\" class=\"node\">\n<title>96</title>\n<path fill=\"#4da7e8\" stroke=\"black\" d=\"M3564.5,-53C3564.5,-53 3486.5,-53 3486.5,-53 3480.5,-53 3474.5,-47 3474.5,-41 3474.5,-41 3474.5,-12 3474.5,-12 3474.5,-6 3480.5,0 3486.5,0 3486.5,0 3564.5,0 3564.5,0 3570.5,0 3576.5,-6 3576.5,-12 3576.5,-12 3576.5,-41 3576.5,-41 3576.5,-47 3570.5,-53 3564.5,-53\"/>\n<text text-anchor=\"middle\" x=\"3525.5\" y=\"-37.8\" font-family=\"Helvetica,sans-Serif\" font-size=\"14.00\">gini = 0.165</text>\n<text text-anchor=\"middle\" x=\"3525.5\" y=\"-22.8\" font-family=\"Helvetica,sans-Serif\" font-size=\"14.00\">samples = 11</text>\n<text text-anchor=\"middle\" x=\"3525.5\" y=\"-7.8\" font-family=\"Helvetica,sans-Serif\" font-size=\"14.00\">value = [1, 10]</text>\n</g>\n<!-- 95&#45;&gt;96 -->\n<g id=\"edge96\" class=\"edge\">\n<title>95&#45;&gt;96</title>\n<path fill=\"none\" stroke=\"black\" d=\"M3525.5,-88.95C3525.5,-80.72 3525.5,-71.85 3525.5,-63.48\"/>\n<polygon fill=\"black\" stroke=\"black\" points=\"3529,-63.24 3525.5,-53.24 3522,-63.24 3529,-63.24\"/>\n</g>\n<!-- 97 -->\n<g id=\"node98\" class=\"node\">\n<title>97</title>\n<path fill=\"#e58139\" stroke=\"black\" d=\"M3678,-53C3678,-53 3607,-53 3607,-53 3601,-53 3595,-47 3595,-41 3595,-41 3595,-12 3595,-12 3595,-6 3601,0 3607,0 3607,0 3678,0 3678,0 3684,0 3690,-6 3690,-12 3690,-12 3690,-41 3690,-41 3690,-47 3684,-53 3678,-53\"/>\n<text text-anchor=\"middle\" x=\"3642.5\" y=\"-37.8\" font-family=\"Helvetica,sans-Serif\" font-size=\"14.00\">gini = 0.0</text>\n<text text-anchor=\"middle\" x=\"3642.5\" y=\"-22.8\" font-family=\"Helvetica,sans-Serif\" font-size=\"14.00\">samples = 2</text>\n<text text-anchor=\"middle\" x=\"3642.5\" y=\"-7.8\" font-family=\"Helvetica,sans-Serif\" font-size=\"14.00\">value = [2, 0]</text>\n</g>\n<!-- 95&#45;&gt;97 -->\n<g id=\"edge97\" class=\"edge\">\n<title>95&#45;&gt;97</title>\n<path fill=\"none\" stroke=\"black\" d=\"M3566.42,-88.95C3578.2,-79.43 3591.03,-69.07 3602.74,-59.62\"/>\n<polygon fill=\"black\" stroke=\"black\" points=\"3605.06,-62.24 3610.64,-53.24 3600.66,-56.8 3605.06,-62.24\"/>\n</g>\n<!-- 100 -->\n<g id=\"node101\" class=\"node\">\n<title>100</title>\n<path fill=\"#57ace9\" stroke=\"black\" d=\"M3804.5,-157C3804.5,-157 3726.5,-157 3726.5,-157 3720.5,-157 3714.5,-151 3714.5,-145 3714.5,-145 3714.5,-101 3714.5,-101 3714.5,-95 3720.5,-89 3726.5,-89 3726.5,-89 3804.5,-89 3804.5,-89 3810.5,-89 3816.5,-95 3816.5,-101 3816.5,-101 3816.5,-145 3816.5,-145 3816.5,-151 3810.5,-157 3804.5,-157\"/>\n<text text-anchor=\"middle\" x=\"3765.5\" y=\"-141.8\" font-family=\"Helvetica,sans-Serif\" font-size=\"14.00\">x[7] &lt;= 50.5</text>\n<text text-anchor=\"middle\" x=\"3765.5\" y=\"-126.8\" font-family=\"Helvetica,sans-Serif\" font-size=\"14.00\">gini = 0.231</text>\n<text text-anchor=\"middle\" x=\"3765.5\" y=\"-111.8\" font-family=\"Helvetica,sans-Serif\" font-size=\"14.00\">samples = 15</text>\n<text text-anchor=\"middle\" x=\"3765.5\" y=\"-96.8\" font-family=\"Helvetica,sans-Serif\" font-size=\"14.00\">value = [2, 13]</text>\n</g>\n<!-- 99&#45;&gt;100 -->\n<g id=\"edge100\" class=\"edge\">\n<title>99&#45;&gt;100</title>\n<path fill=\"none\" stroke=\"black\" d=\"M3765.5,-192.88C3765.5,-184.78 3765.5,-175.98 3765.5,-167.47\"/>\n<polygon fill=\"black\" stroke=\"black\" points=\"3769,-167.3 3765.5,-157.3 3762,-167.3 3769,-167.3\"/>\n</g>\n<!-- 103 -->\n<g id=\"node104\" class=\"node\">\n<title>103</title>\n<path fill=\"#e58139\" stroke=\"black\" d=\"M3918,-149.5C3918,-149.5 3847,-149.5 3847,-149.5 3841,-149.5 3835,-143.5 3835,-137.5 3835,-137.5 3835,-108.5 3835,-108.5 3835,-102.5 3841,-96.5 3847,-96.5 3847,-96.5 3918,-96.5 3918,-96.5 3924,-96.5 3930,-102.5 3930,-108.5 3930,-108.5 3930,-137.5 3930,-137.5 3930,-143.5 3924,-149.5 3918,-149.5\"/>\n<text text-anchor=\"middle\" x=\"3882.5\" y=\"-134.3\" font-family=\"Helvetica,sans-Serif\" font-size=\"14.00\">gini = 0.0</text>\n<text text-anchor=\"middle\" x=\"3882.5\" y=\"-119.3\" font-family=\"Helvetica,sans-Serif\" font-size=\"14.00\">samples = 2</text>\n<text text-anchor=\"middle\" x=\"3882.5\" y=\"-104.3\" font-family=\"Helvetica,sans-Serif\" font-size=\"14.00\">value = [2, 0]</text>\n</g>\n<!-- 99&#45;&gt;103 -->\n<g id=\"edge103\" class=\"edge\">\n<title>99&#45;&gt;103</title>\n<path fill=\"none\" stroke=\"black\" d=\"M3803.49,-192.88C3816.98,-181.12 3832.15,-167.89 3845.56,-156.2\"/>\n<polygon fill=\"black\" stroke=\"black\" points=\"3847.99,-158.73 3853.23,-149.52 3843.39,-153.45 3847.99,-158.73\"/>\n</g>\n<!-- 101 -->\n<g id=\"node102\" class=\"node\">\n<title>101</title>\n<path fill=\"#bddef6\" stroke=\"black\" d=\"M3796,-53C3796,-53 3725,-53 3725,-53 3719,-53 3713,-47 3713,-41 3713,-41 3713,-12 3713,-12 3713,-6 3719,0 3725,0 3725,0 3796,0 3796,0 3802,0 3808,-6 3808,-12 3808,-12 3808,-41 3808,-41 3808,-47 3802,-53 3796,-53\"/>\n<text text-anchor=\"middle\" x=\"3760.5\" y=\"-37.8\" font-family=\"Helvetica,sans-Serif\" font-size=\"14.00\">gini = 0.48</text>\n<text text-anchor=\"middle\" x=\"3760.5\" y=\"-22.8\" font-family=\"Helvetica,sans-Serif\" font-size=\"14.00\">samples = 5</text>\n<text text-anchor=\"middle\" x=\"3760.5\" y=\"-7.8\" font-family=\"Helvetica,sans-Serif\" font-size=\"14.00\">value = [2, 3]</text>\n</g>\n<!-- 100&#45;&gt;101 -->\n<g id=\"edge101\" class=\"edge\">\n<title>100&#45;&gt;101</title>\n<path fill=\"none\" stroke=\"black\" d=\"M3763.75,-88.95C3763.32,-80.72 3762.85,-71.85 3762.4,-63.48\"/>\n<polygon fill=\"black\" stroke=\"black\" points=\"3765.89,-63.04 3761.86,-53.24 3758.9,-63.41 3765.89,-63.04\"/>\n</g>\n<!-- 102 -->\n<g id=\"node103\" class=\"node\">\n<title>102</title>\n<path fill=\"#399de5\" stroke=\"black\" d=\"M3916.5,-53C3916.5,-53 3838.5,-53 3838.5,-53 3832.5,-53 3826.5,-47 3826.5,-41 3826.5,-41 3826.5,-12 3826.5,-12 3826.5,-6 3832.5,0 3838.5,0 3838.5,0 3916.5,0 3916.5,0 3922.5,0 3928.5,-6 3928.5,-12 3928.5,-12 3928.5,-41 3928.5,-41 3928.5,-47 3922.5,-53 3916.5,-53\"/>\n<text text-anchor=\"middle\" x=\"3877.5\" y=\"-37.8\" font-family=\"Helvetica,sans-Serif\" font-size=\"14.00\">gini = 0.0</text>\n<text text-anchor=\"middle\" x=\"3877.5\" y=\"-22.8\" font-family=\"Helvetica,sans-Serif\" font-size=\"14.00\">samples = 10</text>\n<text text-anchor=\"middle\" x=\"3877.5\" y=\"-7.8\" font-family=\"Helvetica,sans-Serif\" font-size=\"14.00\">value = [0, 10]</text>\n</g>\n<!-- 100&#45;&gt;102 -->\n<g id=\"edge102\" class=\"edge\">\n<title>100&#45;&gt;102</title>\n<path fill=\"none\" stroke=\"black\" d=\"M3804.67,-88.95C3815.84,-79.53 3827.99,-69.27 3839.11,-59.89\"/>\n<polygon fill=\"black\" stroke=\"black\" points=\"3841.61,-62.36 3847,-53.24 3837.1,-57.01 3841.61,-62.36\"/>\n</g>\n</g>\n</svg>\n",
            "text/plain": [
              "<graphviz.sources.Source at 0x7a41cbf5b850>"
            ]
          },
          "metadata": {},
          "execution_count": 12
        }
      ],
      "source": [
        "\n",
        "graphviz.Source(dot_graph)\n"
      ]
    }
  ]
}