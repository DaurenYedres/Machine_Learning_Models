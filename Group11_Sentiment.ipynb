{
 "cells": [
  {
   "cell_type": "markdown",
   "metadata": {
    "id": "OJ2xYPEIQBDX"
   },
   "source": [
    "Names:\n",
    "\n",
    "Dauren Yedres "
   ]
  },
  {
   "cell_type": "code",
   "execution_count": null,
   "metadata": {
    "colab": {
     "base_uri": "https://localhost:8080/"
    },
    "id": "2JqDqod0A_LN",
    "outputId": "4306a5a6-234e-4f78-b8d2-a905912ad56c"
   },
   "outputs": [
    {
     "name": "stdout",
     "output_type": "stream",
     "text": [
      "Requirement already satisfied: nltk in /usr/local/lib/python3.10/dist-packages (3.8.1)\n",
      "Requirement already satisfied: click in /usr/local/lib/python3.10/dist-packages (from nltk) (8.1.7)\n",
      "Requirement already satisfied: joblib in /usr/local/lib/python3.10/dist-packages (from nltk) (1.4.2)\n",
      "Requirement already satisfied: regex>=2021.8.3 in /usr/local/lib/python3.10/dist-packages (from nltk) (2024.5.15)\n",
      "Requirement already satisfied: tqdm in /usr/local/lib/python3.10/dist-packages (from nltk) (4.66.4)\n"
     ]
    }
   ],
   "source": [
    "!pip install nltk"
   ]
  },
  {
   "cell_type": "code",
   "execution_count": null,
   "metadata": {
    "id": "PKDzxU4LD-yt"
   },
   "outputs": [],
   "source": [
    "import nltk"
   ]
  },
  {
   "cell_type": "markdown",
   "metadata": {
    "id": "9AOO8pqDE5np"
   },
   "source": [
    "NLTK stands for \"Natural Language Toolkit,\" and it is a powerful Python library designed to facilitate working with human language data, often referred to as text or natural language. NLTK provides a wide range of tools, resources, and algorithms for natural language processing (NLP) and computational linguistics tasks. It's widely used by researchers, developers, and data scientists for various language-related applications."
   ]
  },
  {
   "cell_type": "code",
   "execution_count": null,
   "metadata": {
    "colab": {
     "base_uri": "https://localhost:8080/"
    },
    "id": "RdlyifiMEH0O",
    "outputId": "5eb0c2dc-6a11-4509-e518-d2354e292648"
   },
   "outputs": [
    {
     "name": "stderr",
     "output_type": "stream",
     "text": [
      "[nltk_data] Downloading package punkt to /root/nltk_data...\n",
      "[nltk_data]   Unzipping tokenizers/punkt.zip.\n"
     ]
    },
    {
     "name": "stdout",
     "output_type": "stream",
     "text": [
      "['Nltk', 'is', 'a', 'powerful', 'library', 'for', 'natural', 'language', 'processing', '.']\n"
     ]
    }
   ],
   "source": [
    "nltk.download('punkt')\n",
    "sentence = \"Nltk is a powerful library for natural language processing.\"\n",
    "tokens = nltk.word_tokenize(sentence)\n",
    "print(tokens)"
   ]
  },
  {
   "cell_type": "code",
   "execution_count": null,
   "metadata": {
    "colab": {
     "base_uri": "https://localhost:8080/"
    },
    "id": "bZfwfIibNaFs",
    "outputId": "1f6551cf-1255-4402-c3f8-84f90320e056"
   },
   "outputs": [
    {
     "name": "stdout",
     "output_type": "stream",
     "text": [
      "Mounted at /content/drive\n"
     ]
    }
   ],
   "source": [
    "from google.colab import drive\n",
    "drive.mount('/content/drive')"
   ]
  },
  {
   "cell_type": "code",
   "execution_count": null,
   "metadata": {
    "colab": {
     "base_uri": "https://localhost:8080/"
    },
    "id": "hFRwu6ZDOjvr",
    "outputId": "35761df1-f0db-4768-c679-086c62db9d48"
   },
   "outputs": [
    {
     "name": "stdout",
     "output_type": "stream",
     "text": [
      "Collecting python-docx\n",
      "  Downloading python_docx-1.1.2-py3-none-any.whl (244 kB)\n",
      "\u001b[?25l     \u001b[90m━━━━━━━━━━━━━━━━━━━━━━━━━━━━━━━━━━━━━━━━\u001b[0m \u001b[32m0.0/244.3 kB\u001b[0m \u001b[31m?\u001b[0m eta \u001b[36m-:--:--\u001b[0m\r",
      "\u001b[2K     \u001b[91m━━━━━━━━━━━━━━━━━━\u001b[0m\u001b[90m╺\u001b[0m\u001b[90m━━━━━━━━━━━━━━━━━━━━━\u001b[0m \u001b[32m112.6/244.3 kB\u001b[0m \u001b[31m3.2 MB/s\u001b[0m eta \u001b[36m0:00:01\u001b[0m\r",
      "\u001b[2K     \u001b[90m━━━━━━━━━━━━━━━━━━━━━━━━━━━━━━━━━━━━━━━━\u001b[0m \u001b[32m244.3/244.3 kB\u001b[0m \u001b[31m3.9 MB/s\u001b[0m eta \u001b[36m0:00:00\u001b[0m\n",
      "\u001b[?25hRequirement already satisfied: lxml>=3.1.0 in /usr/local/lib/python3.10/dist-packages (from python-docx) (4.9.4)\n",
      "Requirement already satisfied: typing-extensions>=4.9.0 in /usr/local/lib/python3.10/dist-packages (from python-docx) (4.12.2)\n",
      "Installing collected packages: python-docx\n",
      "Successfully installed python-docx-1.1.2\n"
     ]
    }
   ],
   "source": [
    "!pip install python-docx"
   ]
  },
  {
   "cell_type": "code",
   "execution_count": null,
   "metadata": {
    "id": "p8iDltlHOV3o"
   },
   "outputs": [],
   "source": [
    "from docx import Document"
   ]
  },
  {
   "cell_type": "code",
   "execution_count": null,
   "metadata": {
    "colab": {
     "base_uri": "https://localhost:8080/"
    },
    "id": "laNabc3HN3VP",
    "outputId": "c8e94662-bd71-4126-aef0-2d88e1adf15b"
   },
   "outputs": [
    {
     "data": {
      "text/plain": [
       "<docx.document.Document at 0x7820b3150730>"
      ]
     },
     "execution_count": 24,
     "metadata": {},
     "output_type": "execute_result"
    }
   ],
   "source": [
    "doc_path='/content/drive/MyDrive/Colab Notebooks/Data_Sets/sample text mining.docx'\n",
    "doc = Document(doc_path)\n",
    "doc"
   ]
  },
  {
   "cell_type": "code",
   "execution_count": null,
   "metadata": {
    "id": "ldByILCbMTJA"
   },
   "outputs": [],
   "source": [
    "def word_tok(sentence):\n",
    "  tokens =[]\n",
    "  temp_str = ''\n",
    "  for i in range(len(sentence)):\n",
    "    temp_str=temp_str+sentence[i]\n",
    "    if sentence[i]==\" \":\n",
    "      tokens.append(temp_str)\n",
    "      temp_str = ''\n",
    "    elif sentence[i] == '.':\n",
    "      tokens.append(sentence[i])\n",
    "      temp_str = ''\n",
    "  return tokens"
   ]
  },
  {
   "cell_type": "code",
   "execution_count": null,
   "metadata": {
    "colab": {
     "base_uri": "https://localhost:8080/"
    },
    "id": "XrVnl_ETPeW0",
    "outputId": "31dd0b75-3eb6-422c-a515-5a0ff54b35b9"
   },
   "outputs": [
    {
     "data": {
      "text/plain": [
       "['Nltk ',\n",
       " 'is ',\n",
       " 'a ',\n",
       " 'powerful ',\n",
       " 'library ',\n",
       " 'for ',\n",
       " 'natural ',\n",
       " 'language ',\n",
       " '.']"
      ]
     },
     "execution_count": 37,
     "metadata": {},
     "output_type": "execute_result"
    }
   ],
   "source": [
    "word_tok(sentence)"
   ]
  },
  {
   "cell_type": "code",
   "execution_count": null,
   "metadata": {
    "colab": {
     "base_uri": "https://localhost:8080/",
     "height": 127
    },
    "id": "B84lX7sFPwoN",
    "outputId": "4e6a370a-d8a8-4580-f901-38480241f13b"
   },
   "outputs": [
    {
     "data": {
      "application/vnd.google.colaboratory.intrinsic+json": {
       "type": "string"
      },
      "text/plain": [
       "\"The UC Berkeley Foundations of Data Science course combines three perspectives: inferential thinking, computational thinking, and real-world relevance. Given data arising from some real-world phenomenon, how does one analyze that data so as to understand that phenomenon? The course teaches critical concepts and skills in computer programming and statistical inference, in conjunction with hands-on analysis of real-world datasets, including economic data, document collections, geographical data, and social networks. It delves into social issues surrounding data analysis such as privacy and design.\\n\\nData 8 is an introductory course in data science offered at the University of California, Berkeley. The course is designed to introduce students to the fundamentals of data analysis, statistics, and programming using the Python programming language. Data 8 covers topics such as data visualization, probability, hypothesis testing, regression analysis, machine learning, and data ethics. The course is aimed at students with little or no background in programming or statistics, and is open to all majors. It is also available online for free through the university's Data Science Education Program\\n\\n\\nConnector courses weave together core concepts and approaches from Data 8 with complementary ideas or areas. Along the way, students gain additional experience, broader insights, or deeper theoretical or computational foundations.\\xa0\\nOffered by faculty across many departments and fields of study, connectors are optional but highly encouraged and are designed to be taken at the same time or after the Foundations course. They offer two or more units of course credit.\\xa0Data 8 and connectors complement each other and often use similar materials or tools.\\n\\n\\nTitleCourse numberDescription\\n\\nData Science for Smart CitiesCIV ENG 88Design and operation of smart, efficient, and resilient cities nowadays require data science skills. This course provides an introduction to working with data generated within transportation systems, power grids, communication networks, as well as collected via crowd-sensing and remote sensing technologies.\\n\\nTime Series Analysis: Sea Level Rise and Coastal FloodingCIV ENG 88BIn this course, we will pursue analysis of long-term records of coastal water levels in the context of sea level rise. We will cover the collection, evaluation, visualization and analysis of time series data using long-term records of sea levels from coastal sites around the world.\\n\\n\\nData Science and the MindCOGSCI 88How does the human mind work? We explore this question by analyzing a range of data concerning such topics as human rationality and irrationality, human memory, how objects and events are represented in the mind, and the relation of language and cognition.\\n\\n\\nComputational Structures in Data ScienceCOMPSCI 88\\n\\nIntroduction to computer science in the context of data science. This course provides a formal and rigorous introduction to the programming topics that appear in Foundations of Data Science, expands the repertoire of computational concepts, and exposes students to techniques of abstraction at several levels, including layers of software and machines from a programmers’ point of view.\\n\\nEconomic ModelsDATA 88EThis Data Science connector course will motivate and illustrate key concepts in Economics with examples in Python Jupyter notebooks. The course will give data science students a pathway to apply python programming and data science concepts within the discipline of economics.\\xa0 The course will also give economics students a pathway to apply programming to reinforce fundamental concepts and to advance the level of study in upper division coursework and possible thesis work.\\n\\n\\nData Science for Genetics and Genomics\\n\\nDATA 88Recent years have witnessed a rapid expansion in the creation and utilization of genetic and genomic data across diverse domains such as business, biological research, and medicine. In this Data 8 connector course we will survey relevant questions of interest and employ the methods frequently relied upon by analysts to derive insights from genetic and genomic data. Topics will include the comparison of DNA sequences, dimension reduction, the characterization of transcriptomes, and genome-wide association studies, among others. In addition to hands-on work with data, we will also consider the history of the genetic and genomic sciences and their intersection with current events, ethics, and modern medicine. Students should exit with an understanding of the central role played by data in the fields and an appreciation for the remaining challenges in light of ever-increasing degrees of personalization of, and access to, these sciences. No biological background is required.Writing Data StoriesData 88Communication is a critical yet often overlooked part of data science. This course aims to help you learn how to write about data insights in a way that is both compelling and faithful to the data. You will gain an “ear” for writing by reading the work of others. You will learn how to distill findings into an accessible story, and organize and revise the story. You will also gain experience writing clearly, concisely, and precisely for broad audiences. Exercises include: writing captions for figures, data descriptions, and annotations for storyboards; editing statistical statements for simplicity and accuracy; and drafting and revising short data stories.Broken Down by Age and Sex: Data Science and DemographyData 88Demography is the science of populations and how they change—including death, sex, migration, marriage, and more. Today, demography is a critical part of answering the most pressing questions that face populations all over the world: who is most vulnerable to the coronavirus pandemic? Why do some countries become rich, while some remain poor? Which forces guide the shifting landscape of politics and voting? In this connector, we will take a tour of cutting-edge problems in demography and how data science can be used to help address them.Language Models, Text AnalysisDATA 88No description available.Sports AnalyticsDATA 88Sports Data Analytics is a connector course to Data8 and will follow Data8's technical curriculum with specific examples from and applications to analyzing the rich world of sports data. We will primarily use publicly available data from sports such as Major League Baseball and NBA basketball, but students will be encouraged to explore and analyze data from other sports. We will address questions around data acquisition, performance measurement, and real-world uses of analytics. Prerequisites: Concurrent registration in Data8 or knowledge of equivalent material.Data Science & ImmigrationDEMOG 88This course will cover the small but important part of the rich history of human migration that deals with the population of the United States--focusing on the period between 1850 and the present.Exploring Geospatial DataESPM 88AFrom interactive web maps to spatial data analysis, digital geographic data and information are becoming an important part of the data science landscape. Almost everything happens somewhere that can be mapped on the surface of the earth.Data Sciences in Ecology and the EnvironmentESPM 88BIn this course students will apply methods learned in the Foundations course to explore, pose, and answer key questions using relevant data from the Ecological and Environmental Sciences.Data Science Applications in GeographyGEOG 88Data science methods are increasingly important in geography and earth science. This course introduces some of the particular challenges of working with spatial data arising from characteristics specific to such data.How Does History Count?HIST 88We will explore how historical data becomes historical evidence and how recent technological advances affect long-established practices, such as close attention to historical context and contingency. Will the advent of fast computing and big data make history “count” more or lead to unprecedented insights into the study of change over time?How Does History Count? Exploring Japanese-American Internment through Digital SourcesHIST 88On February 19, 1942, Executive Order 9066 authorized the detention of more than 120,000 people of Japanese descent, most of them American citizens living on the west coast. In this data science connector course, students will learn emerging digital methods for conducting historical research, which they will apply to the study of Japanese-American Internment.How does History Count?\\xa0Enumerating Nature: Data Science and Environmental HistoryHIST 88In an era of environmental uncertainty, we must address a critical question – how did we get to this point? Historians have wontedly depicted the natural world as a muted figure with an elusive past. Deciphering nature’s complex legacy requires the employment of materials and methods outside of the traditional purview of historians. However, we are no longer bound by traditional historical evidence. Data Science facilitates us with innovative tools and methods to examine quantitative sources.\\xa0In this connector course, we will explore how historical data becomes historical evidence and how recent technological advances affect long-established practices, such as close attention to historical context and contingency. Will the advent of fast computing and big data make history “count” more or lead to unprecedented insights into the study of change over time? During our weekly discussions, we will apply what we learn in lectures and labs to the analysis of selected historical sources and get an understanding of constructing historical datasets. We will also consider scholarly debates over quantitative evidence and historical argument.Data and EthicsINFO 88AThis course provides an introduction to critical and ethical issues surrounding data and society.Crime and Punishment: Taking the Measure of the US Justice SystemLEGAL ST 88We will explore how data are used in the criminal justice system by exploring the debates surrounding mass incarceration and evaluating a number of different data sources that bear on police practices, incarceration, and criminal justice reform. Students will be required to think critically about the debates regarding criminal justice in the US and to work with various public data sets to assess the extent to which these data confirm or deny specific policy narratives. Building on skills from Foundations of Data Science, students will be required to use basic data management skills working in Python: data cleaning, aggregation, merging and appending data sets, collapsing variables, summarizing findings, and presenting data visualizations.Race, Policing, and Data ScienceL&S 39DIn this class, we will review available data sources on race and policing and ask what those data have to say about current events and the types of claims, typically causal, commonly invoked in public discourse surrounding these issues.Social NetworksL&S 88Insights from the study of social networks are used in a wide range of real-world settings, from predicting and preventing the spread of Ebola, to convincing people to vote for a political candidate, to connecting people across the globe through Facebook. Learn how to work with social network data and why it’s useful.Data Science for Cognitive NeuroscienceL&S 88The human brain is a complex information processing system and is currently the topic of multiple fascinating branches of research. Understanding how it works is a very challenging scientific task.Health, Human Behavior, and DataL&S 88We will examine and discuss measures of human health and longevity alongside arrays of measurable influences on health, identifying the key questions traditionally addressed in health sciences and exploring the current frontier. We will develop broad knowledge of the metrics, methods, and challenges, and we will apply them toward understanding of current issues in health policy.Child Development Around the World: Analyzing Household Data SetsL&S 88How can we improve children’s health and learning in the developing world? Students will use the World Bank’s household survey data to explore relationships between nutrition and education outcomes and a variety of socioeconomic variables.Genomics and Data ScienceL&S 88Genomics is triggering a revolution in medical discovery. Students will explore genomic data, including HIV genomics, personal genomics, and DNA forensics, as well as related legal and ethical issues. Biology background not required.Literature and DataL&S 88In this course, we will apply methods learned in Foundations of Data Science to sets of literary texts in order to expand our reading practices. This humanities-oriented approach will require us to think about the limits of both new and traditional reading methods and how we make arguments based on data.Web Data VisualizationL&S 88\\nThe course introduces students to Web science with a focus on how the Web works, types of Web data, and how to generate effective visualizations for Web data (e.g., social networks). The course covers basic principles and tools for understanding and visualizing Web data. It focuses heavily on project work that aims to give students hands-on experience with handling Web data. Because Web science is interdisciplinary by nature, this course connects students to different disciplines such as social science, computer science, and information science. At the end of the course, students should be able to apply Web mining techniques on and draw insights from real world data.\\nBehind the\\xa0Curtainin Economic Development\\nL&S 88\\nThis class will give students hands on experience looking at how data is gathered for analysis and provide context for the use of data for studying applied issues in economic development. The background will be a set of policy questions from a field study in rural Kenya on child health and clean drinking water.\\xa0\\nRediscovering Texts as DataL&S 88\\nHumanists have traditionally emphasized the ‘close reading’ of a text, where value is placed on the nuances of specific passages. The increasing amount of digital text being published and archived affords us an opportunity to read text differently—as data on a scale larger than ever before. This ‘distant reading’ approach (mediated through the computer) complements our ‘close reading’ by providing a broader context for interpretation previously inaccessible.\\nCrime and Punishment: Taking the Measure of the US Justice SystemLEGALST 88We will explore how data are used in the criminal justice system by exploring the debates surrounding mass incarceration and evaluating a number of different data sources that bear on police practices, incarceration, and criminal justice reform.Immunotherapy of Cancer: Success and FailureMCB 88We will work with a variety of datasets that describe a molecular view of cells and how they divide. We will learn about the processes that cause cells to become specialized (differentiate) and to give rise to cancer (transform).Data Science Applications in PhysicsPHYSICS 88Introduction to data science with applications to physics. Topics include: statistics and probability in physics, modeling of the physical systems and data, numerical integration and differentiation, function approximation. Connector course for Data Science 8, room-shared with Physics 77. Recommended for freshmen intended to major in physics or engineering with emphasis on data science.Data Science for Social ImpactSOCIOL 88This course explores the role of social research in policymaking and public decisions and develops skills for the communication of research findings and their implications in writing and through data visualization. Students will develop an understanding of various perspectives on the role that data and data analysts play in policymaking, learn how to write for a public audience about data, results, and implications, and learn how to create effective and engaging data visualizations.Probability and Mathematical Statistics in Data ScienceSTAT 88In this connector course we will state precisely and prove results discovered in the foundational data science course through working with data.Introduction to Matrices and Graphs in Data ScienceSTAT 89AThis connector will cover introductory topics in the mathematics of data science, focusing on discrete probability and linear algebra and the connections between them that are useful in modern theory and practice.Data and DecisionsUGBA 88The goal of this connector course is to provide an understanding of how data and statistical analysis can improve managerial decision-making. We will explore statistical methods for gleaning insights from economic and social data, with an emphasis on approaches to identifying causal relationships. We will discuss how to design and analyze randomized experiments and introduce econometric methods for estimating causal effects in non-experimental data. The course draws on a variety of business and social science applications, including advertising, management, online marketplaces, labor markets, and education. This course, in combination with the Data 8 Foundations course, satisfies the statistics prerequisite for admission to Haas.\\n\\n\\n\\n\""
      ]
     },
     "execution_count": 30,
     "metadata": {},
     "output_type": "execute_result"
    }
   ],
   "source": [
    "text ='\\n'.join([p.text for p in doc.paragraphs])\n",
    "text"
   ]
  },
  {
   "cell_type": "code",
   "execution_count": null,
   "metadata": {
    "colab": {
     "base_uri": "https://localhost:8080/"
    },
    "id": "bK-df6OsQSTP",
    "outputId": "8871259e-7673-450b-9383-24a3682cbfb9"
   },
   "outputs": [
    {
     "name": "stderr",
     "output_type": "stream",
     "text": [
      "[nltk_data] Downloading package vader_lexicon to /root/nltk_data...\n"
     ]
    },
    {
     "data": {
      "text/plain": [
       "True"
      ]
     },
     "execution_count": 35,
     "metadata": {},
     "output_type": "execute_result"
    }
   ],
   "source": [
    "nltk.download('vader_lexicon')"
   ]
  },
  {
   "cell_type": "code",
   "execution_count": null,
   "metadata": {
    "id": "ay7B-dHqRYrt"
   },
   "outputs": [],
   "source": [
    "from nltk.sentiment.vader import SentimentIntensityAnalyzer\n",
    "sia = SentimentIntensityAnalyzer()"
   ]
  },
  {
   "cell_type": "markdown",
   "metadata": {
    "id": "LDDaT8-8S183"
   },
   "source": [
    "vader_lexicon refers to the lexicon (dictionary) used by the VADER (Valence Aware Dictionary and sEntiment Reasoner)sentiment analysis tool. VADER is a sentiment analysis library specifically designed for analyzing sentiment in text, especially social media text, where traditional sentiment analysis techniques might struggle due to the informal and context-dependent nature of the language.\n",
    "\n",
    "The VADER sentiment analysis tool is included in the NLTK library and is designed to identify the sentiment (positive, negative, or neutral) expressed in a piece of text. It takes into account the intensity of sentiment, as well as the valence (positivity or negativity) of individual words.\n",
    "\n",
    "The vader_lexicon is a list of words that have been manually rated for their sentiment polarity (positive or negative) and intensity. Each word is assigned a sentiment score that indicates how positive or negative it is.\n",
    "\n",
    "VADER uses this lexicon along with a set of grammatical rules to analyze the sentiment of a given text and calculate an overall sentiment score.\n",
    "\n",
    "The lexicon includes words,and phrases commonly found in social media text. It allows VADER to handle the informal language.\n",
    "\n",
    "\n",
    "The compound score in the Sentiment Intensity Analyzer (SIA) from the Natural Language Toolkit (NLTK) represents a normalized, weighted composite score of the valence of the text. This score provides an overall sentiment based on the positive, neutral, and negative sentiment scores."
   ]
  },
  {
   "cell_type": "code",
   "execution_count": null,
   "metadata": {
    "id": "6vIjyC7oSJrn"
   },
   "outputs": [],
   "source": [
    "sentiment_scores = sia.polarity_scores(text)\n",
    "if sentiment_scores['compound'] >= 0.05:\n",
    "    sentiment = 'Positive'\n",
    "elif sentiment_scores['compound'] <= -0.05:\n",
    "    sentiment = 'Negative'\n",
    "else:\n",
    "    sentiment = 'Neutral'"
   ]
  },
  {
   "cell_type": "code",
   "execution_count": null,
   "metadata": {
    "colab": {
     "base_uri": "https://localhost:8080/"
    },
    "id": "RR1mjciNSiOw",
    "outputId": "6340a6d4-ddc8-4beb-e28d-15ae93edaabe"
   },
   "outputs": [
    {
     "data": {
      "text/plain": [
       "{'neg': 0.04, 'neu': 0.878, 'pos': 0.082, 'compound': 0.9988}"
      ]
     },
     "execution_count": 40,
     "metadata": {},
     "output_type": "execute_result"
    }
   ],
   "source": [
    "sentiment_scores"
   ]
  },
  {
   "cell_type": "markdown",
   "metadata": {
    "id": "mIZ9kQmWTmJb"
   },
   "source": [
    "In natural language processing, particularly in sentiment analysis, the \"compound\" score refers to a metric that represents the overall sentiment of a piece of text. It's usually calculated by combining the scores of individual words or phrases in the text.\n",
    "\n",
    "x = x/( √ x 2 + α)\n",
    "\n",
    "where x = sum of valence scores of constituent words, and α = Normalization constant (default value is 15)\n",
    "\n",
    "The compound score typically ranges from -1 to 1, where:\n",
    "\n",
    "Scores closer to 1 indicate a highly positive sentiment. Scores closer to -1 indicate a highly negative sentiment. Scores around 0 suggest a neutral sentiment. This score takes into account both the positive and negative sentiment expressed in the text, providing a comprehensive assessment of its overall sentiment.\n",
    "\n",
    "The compound score typicall"
   ]
  },
  {
   "cell_type": "code",
   "execution_count": null,
   "metadata": {
    "colab": {
     "base_uri": "https://localhost:8080/"
    },
    "id": "MikMHpwpTURR",
    "outputId": "dcda7199-b4fc-4964-f63d-f930467ea7f4"
   },
   "outputs": [
    {
     "data": {
      "text/plain": [
       "0.9988"
      ]
     },
     "execution_count": 41,
     "metadata": {},
     "output_type": "execute_result"
    }
   ],
   "source": [
    "sentiment_scores['compound']"
   ]
  },
  {
   "cell_type": "code",
   "execution_count": null,
   "metadata": {
    "colab": {
     "base_uri": "https://localhost:8080/",
     "height": 36
    },
    "id": "V1NSvJbzVhVY",
    "outputId": "ea438d47-02d6-44c1-f9e2-37c34ac91fd3"
   },
   "outputs": [
    {
     "data": {
      "application/vnd.google.colaboratory.intrinsic+json": {
       "type": "string"
      },
      "text/plain": [
       "'Positive'"
      ]
     },
     "execution_count": 42,
     "metadata": {},
     "output_type": "execute_result"
    }
   ],
   "source": [
    "sentiment"
   ]
  },
  {
   "cell_type": "code",
   "execution_count": null,
   "metadata": {
    "id": "jASSvN9xVlED"
   },
   "outputs": [],
   "source": [
    "import spacy\n",
    "\n",
    "nlp = spacy.load('en_core_web_sm')\n",
    "\n",
    "doc = nlp(text)\n",
    "\n",
    "senten"
   ]
  },
  {
   "cell_type": "code",
   "execution_count": null,
   "metadata": {
    "colab": {
     "base_uri": "https://localhost:8080/"
    },
    "id": "3h6NQDlXXnrL",
    "outputId": "7ff33526-8f6d-472d-8522-12178841dfd2"
   },
   "outputs": [
    {
     "data": {
      "text/plain": [
       "<docx.document.Document at 0x7820b31a37f0>"
      ]
     },
     "execution_count": 44,
     "metadata": {},
     "output_type": "execute_result"
    }
   ],
   "source": [
    "doc_path='/content/drive/MyDrive/Colab Notebooks/Data_Sets/madman.docx'\n",
    "doc = Document(doc_path)\n",
    "doc"
   ]
  },
  {
   "cell_type": "code",
   "execution_count": null,
   "metadata": {
    "colab": {
     "base_uri": "https://localhost:8080/",
     "height": 127
    },
    "id": "d97GvOTXZOC4",
    "outputId": "309a3582-d197-435c-8cf3-8299ec271921"
   },
   "outputs": [
    {
     "data": {
      "application/vnd.google.colaboratory.intrinsic+json": {
       "type": "string"
      },
      "text/plain": [
       "'He was dead--the head of a high tribunal, the upright magistrate whose irreproachable life was a proverb in all the courts of France. Advocates, young counsellors, judges had greeted him at sight of his large, thin, pale face lighted up by two sparkling deep-set eyes, bowing low in token of respect.\\nHe had passed his life in pursuing crime and in protecting the weak. Swindlers and murderers had no more redoubtable enemy, for he seemed to read the most secret thoughts of their minds.\\nHe was dead, now, at the age of eighty-two, honored by the homage and followed by the regrets of a whole people. Soldiers in red trousers had escorted him to the tomb and men in white cravats had spoken words and shed tears that seemed to be sincere beside his grave.\\nBut here is the strange paper found by the dismayed notary in the desk where he had kept the records of great criminals! It was entitled:\\nWHY?\\n20th June, 1851. I have just left court. I have condemned Blondel to death! Now, why did this man kill his five children? Frequently one meets with people to whom the destruction of life is a pleasure. Yes, yes, it should be a pleasure, the greatest of all, perhaps, for is not killing the next thing to creating? To make and to destroy! These two words contain the history of the universe, all the history of worlds, all that is, all! Why is it not intoxicating to kill?\\n25th June. To think that a being is there who lives, who walks, who runs. A being? What is a being? That animated thing, that bears in it the principle of motion and a will ruling that motion. It is attached to nothing, this thing. Its feet do not belong to the ground. It is a grain of life that moves on the earth, and this grain of life, coming I know not whence, one can destroy at one\\'s will. Then nothing--nothing more. It perishes, it is finished.\\n26th June. Why then is it a crime to kill? Yes, why? On the contrary, it is the law of nature. The mission of every being is to kill; he kills to live, and he kills to kill. The beast kills without ceasing, all day, every instant of his existence. Man kills without ceasing, to nourish himself; but since he needs, besides, to kill for pleasure, he has invented hunting! The child kills the insects he finds, the little birds, all the little animals that come in his way. But this does not suffice for the irresistible need to massacre that is in us. It is not enough to kill beasts; we must kill man too. Long ago this need was satisfied by human sacrifices. Now the requirements of social life have made murder a crime. We condemn and punish the assassin! But as we cannot live without yielding to this natural and imperious instinct of death, we relieve ourselves, from time to time, by wars. Then a whole nation slaughters another nation. It is a feast of blood, a feast that maddens armies and that intoxicates civilians, women and children, who read, by lamplight at night, the feverish story of massacre.\\nOne might suppose that those destined to accomplish these butcheries of men would be despised! No, they are loaded with honors. They are clad in gold and in resplendent garments; they wear plumes on their heads and ornaments on their breasts, and they are given crosses, rewards, titles of every kind. They are proud, respected, loved by women, cheered by the crowd, solely because their mission is to shed human blood; They drag through the streets their instruments of death, that the passer-by, clad in black, looks on with envy. For to kill is the great law set by nature in the heart of existence! There is nothing more beautiful and honorable than killing!\\n30th June. To kill is the law, because nature loves eternal youth. She seems to cry in all her unconscious acts: \"Quick! quick! quick!\" The more she destroys, the more she renews herself.\\n2d July. A human being--what is a human being? Through thought it is a reflection of all that is; through memory and science it is an abridged edition of the universe whose history it represents, a mirror of things and of nations, each human being becomes a microcosm in the macrocosm.\\n3d July. It must be a pleasure, unique and full of zest, to kill; to have there before one the living, thinking being; to make therein a little hole, nothing but a little hole, to see that red thing flow which is the blood, which makes life; and to have before one only a heap of limp flesh, cold, inert, void of thought!\\n5th August. I, who have passed my life in judging, condemning, killing by the spoken word, killing by the guillotine those who had killed by the knife, I, I, if I should do as all the assassins have done whom I have smitten, I--I--who would know it?\\n10th August. Who would ever know? Who would ever suspect me, me, me, especially if I should choose a being I had no interest in doing away with?\\n15th August. The temptation has come to me. It pervades my whole being; my hands tremble with the desire to kill.\\n22d August. I could resist no longer. I killed a little creature as an experiment, for a beginning. Jean, my servant, had a goldfinch in a cage hung in the office window. I sent him on an errand, and I took the little bird in my hand, in my hand where I felt its heart beat. It was warm. I went up to my room. From time to time I squeezed it tighter; its heart beat faster; this was atrocious and delicious. I was near choking it. But I could not see the blood.\\nThen I took scissors, short-nail scissors, and I cut its throat with three slits, quite gently. It opened its bill, it struggled to escape me, but I held it, oh! I held it--I could have held a mad dog--and I saw the blood trickle.\\nAnd then I did as assassins do--real ones. I washed the scissors, I washed my hands. I sprinkled water and took the body, the corpse, to the garden to hide it. I buried it under a strawberry-plant. It will never be found. Every day I shall eat a strawberry from that plant. How one can enjoy life when one knows how!\\nMy servant cried; he thought his bird flown. How could he suspect me? Ah! ah!\\n25th August. I must kill a man! I must----\\n30th August. It is done. But what a little thing! I had gone for a walk in the forest of Vernes. I was thinking of nothing, literally nothing. A child was in the road, a little child eating a slice of bread and butter.\\nHe stops to see me pass and says, \"Good-day, Mr. President.\"\\nAnd the thought enters my head, \"Shall I kill him?\"\\nI answer: \"You are alone, my boy?\"\\n\"Yes, sir.\"\\n\"All alone in the wood?\"\\n\"Yes, sir.\"\\nThe wish to kill him intoxicated me like wine. I approached him quite softly, persuaded that he was going to run away. And, suddenly, I seized him by the throat. He looked at me with terror in his eyes--such eyes! He held my wrists in his little hands and his body writhed like a feather over the fire. Then he moved no more. I threw the body in the ditch, and some weeds on top of it. I returned home, and dined well. What a little thing it was! In the evening I was very gay, light, rejuvenated; I passed the evening at the Prefect\\'s. They found me witty. But I have not seen blood! I am tranquil.\\n31st August. The body has been discovered. They are hunting for the assassin. Ah! ah!\\n1st September. Two tramps have been arrested. Proofs are lacking.\\n2d September. The parents have been to see me. They wept! Ah! ah!\\n6th October. Nothing has been discovered. Some strolling vagabond must have done the deed. Ah! ah! If I had seen the blood flow, it seems to me I should be tranquil now! The desire to kill is in my blood; it is like the passion of youth at twenty.\\n20th October. Yet another. I was walking by the river, after breakfast. And I saw, under a willow, a fisherman asleep. It was noon. A spade was standing in a potato-field near by, as if expressly, for me.\\nI took it. I returned; I raised it like a club, and with one blow of the edge I cleft the fisherman\\'s head. Oh! he bled, this one! Rose-colored blood. It flowed into the water, quite gently. And I went away with a grave step. If I had been seen! Ah! ah! I should have made an excellent assassin.\\n25th October. The affair of the fisherman makes a great stir. His nephew, who fished with him, is charged with the murder.\\n26th October. The examining magistrate affirms that the nephew is guilty. Everybody in town believes it. Ah! ah!\\n27th October. The nephew makes a very poor witness. He had gone to the village to buy bread and cheese, he declared. He swore that his uncle had been killed in his absence! Who would believe him?\\n28th October. The nephew has all but confessed, they have badgered him so. Ah! ah! justice!\\n15th November. There are overwhelming proofs against the nephew, who was his uncle\\'s heir. I shall preside at the sessions.\\n25th January. To death! to death! to death! I have had him condemned to death! Ah! ah! The advocate-general spoke like an angel! Ah! ah! Yet another! I shall go to see him executed!\\n10th March. It is done. They guillotined him this morning. He died very well! very well! That gave me pleasure! How fine it is to see a man\\'s head cut off\\nNow, I shall wait, I can wait. It would take such a little thing to let myself be caught.\\nThe manuscript contained yet other pages, but without relating any new crime.\\nAlienist physicians to whom the awful story has been submitted declare that there are in the world many undiscovered madmen as adroit and as much to be feared as this monstrous lunatic.\\n'"
      ]
     },
     "execution_count": 48,
     "metadata": {},
     "output_type": "execute_result"
    }
   ],
   "source": [
    "text ='\\n'.join([p.text for p in doc.paragraphs])\n",
    "text"
   ]
  },
  {
   "cell_type": "code",
   "execution_count": null,
   "metadata": {
    "id": "pVjgs4ALX1Aa"
   },
   "outputs": [],
   "source": [
    "sentiment_scores = sia.polarity_scores(text)\n",
    "if sentiment_scores['compound'] >= 0.05:\n",
    "    sentiment = 'Positive'\n",
    "elif sentiment_scores['compound'] <= -0.05:\n",
    "    sentiment = 'Negative'\n",
    "else:\n",
    "    sentiment = 'Neutral'"
   ]
  },
  {
   "cell_type": "code",
   "execution_count": null,
   "metadata": {
    "colab": {
     "base_uri": "https://localhost:8080/"
    },
    "id": "B9nPaTlQYMwM",
    "outputId": "03e7ecc0-dd56-4cca-f5f3-f3990b2693c9"
   },
   "outputs": [
    {
     "data": {
      "text/plain": [
       "{'neg': 0.19, 'neu': 0.696, 'pos': 0.114, 'compound': -0.9996}"
      ]
     },
     "execution_count": 50,
     "metadata": {},
     "output_type": "execute_result"
    }
   ],
   "source": [
    "sentiment_scores"
   ]
  },
  {
   "cell_type": "code",
   "execution_count": null,
   "metadata": {
    "colab": {
     "base_uri": "https://localhost:8080/",
     "height": 36
    },
    "id": "emp7L-QQYNAL",
    "outputId": "45ff5439-7e66-41d6-b2ab-9f538f5acdf0"
   },
   "outputs": [
    {
     "data": {
      "application/vnd.google.colaboratory.intrinsic+json": {
       "type": "string"
      },
      "text/plain": [
       "'Negative'"
      ]
     },
     "execution_count": 51,
     "metadata": {},
     "output_type": "execute_result"
    }
   ],
   "source": [
    "sentiment"
   ]
  },
  {
   "cell_type": "code",
   "execution_count": null,
   "metadata": {
    "id": "EiDq7Rm1YQW7"
   },
   "outputs": [],
   "source": []
  }
 ],
 "metadata": {
  "colab": {
   "provenance": []
  },
  "kernelspec": {
   "display_name": "Python 3 (ipykernel)",
   "language": "python",
   "name": "python3"
  },
  "language_info": {
   "codemirror_mode": {
    "name": "ipython",
    "version": 3
   },
   "file_extension": ".py",
   "mimetype": "text/x-python",
   "name": "python",
   "nbconvert_exporter": "python",
   "pygments_lexer": "ipython3",
   "version": "3.9.12"
  }
 },
 "nbformat": 4,
 "nbformat_minor": 1
}
